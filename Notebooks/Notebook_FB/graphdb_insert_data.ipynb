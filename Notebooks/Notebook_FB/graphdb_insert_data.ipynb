{
 "cells": [
  {
   "cell_type": "code",
   "execution_count": null,
   "id": "human-quest",
   "metadata": {},
   "outputs": [],
   "source": []
  },
  {
   "cell_type": "code",
   "execution_count": 1,
   "id": "green-grocery",
   "metadata": {},
   "outputs": [],
   "source": [
    "# Import libraries usefull\n",
    "\n",
    "from SPARQLWrapper import SPARQLWrapper, SPARQLWrapper2, JSON, TURTLE, XML, RDFXML\n",
    "import pprint\n",
    "import csv\n",
    "# from bs4 import BeautifulSoup\n",
    "\n",
    "from collections import Counter\n",
    "from operator import itemgetter\n",
    "import pandas as pd\n",
    "\n",
    "import sqlite3 as sql\n",
    "import time\n",
    "\n",
    "from importlib import reload\n",
    "from shutil import copyfile"
   ]
  },
  {
   "cell_type": "code",
   "execution_count": 2,
   "id": "medieval-charles",
   "metadata": {},
   "outputs": [],
   "source": [
    "### Ajouter le dossier parent dans le chemin de recherche des modules \n",
    "# Solution retenue depuis cette doc:\n",
    "# * https://stackoverflow.com/questions/714063/importing-modules-from-parent-folder/11158224\n",
    "## Autres solutions également proposées\n",
    "\n",
    "import os,sys,inspect\n",
    "currentdir = os.path.dirname(os.path.abspath(inspect.getfile(inspect.currentframe())))\n",
    "parentdir = os.path.dirname(currentdir)\n",
    "sys.path.insert(0,parentdir) "
   ]
  },
  {
   "cell_type": "code",
   "execution_count": 3,
   "id": "particular-medicine",
   "metadata": {},
   "outputs": [],
   "source": [
    "# It's made-home fonctions created by Francesco Beretta\n",
    "# so they must to be in the same folder as this file.\n",
    "### If you execute the script in the cell above, \n",
    "# the file can also be in the parent directory\n",
    "import sparql_functions as spqf "
   ]
  },
  {
   "cell_type": "markdown",
   "id": "eastern-midwest",
   "metadata": {},
   "source": [
    "# Query economists and jurists"
   ]
  },
  {
   "cell_type": "markdown",
   "id": "worthy-variance",
   "metadata": {},
   "source": [
    "First step, we need datas about economists and jurists with theirs proprieties so we realise a SPARQL query. We need proprieties to realise the merge between three datasets:\n",
    "  * Name\n",
    "  \n",
    "  * Birth date\n",
    "  \n",
    "  * Date of death\n",
    "  \n",
    "  * Place of Birth\n",
    "  \n",
    "  * Place of Death"
   ]
  },
  {
   "cell_type": "code",
   "execution_count": 5,
   "id": "maritime-vessel",
   "metadata": {},
   "outputs": [],
   "source": [
    "### It's define the database ligne to use\n",
    "pk_query = 1\n",
    "\n",
    "# Connexion to the database\n",
    "original_db = 'data/sparql_queries.db'\n",
    "conn = sql.connect(original_db)\n",
    "\n",
    "c = conn.cursor()\n",
    "\n",
    "### It runs the query on the SQLite database to get the row values \n",
    "c.execute('SELECT * FROM query WHERE pk_query = ?', [pk_query]) ### a list around argument is needed for a string longer then one\n",
    "#c.execute('SELECT * FROM query WHERE pk_query = 10')\n",
    "\n",
    "rc = c.fetchone()\n",
    "\n",
    "# close connexion\n",
    "conn.close()\n"
   ]
  },
  {
   "cell_type": "code",
   "execution_count": 6,
   "id": "czech-limitation",
   "metadata": {},
   "outputs": [],
   "source": [
    "# print(rc[2] +  \"\\n-----\\n\" + rc[4] +  \"\\n-----\\n\" +   rc[7]+  \"\\n\\n\\n------------------\\n\" +  rc[5] + \"\\n\\n\\n------------------\\n\")"
   ]
  },
  {
   "cell_type": "code",
   "execution_count": 7,
   "id": "beautiful-modification",
   "metadata": {},
   "outputs": [
    {
     "name": "stdout",
     "output_type": "stream",
     "text": [
      "<class 'dict'>\n"
     ]
    }
   ],
   "source": [
    "### Execute the SPARQL query wrapped in the function in the library _sparql_functions.py_\n",
    "# The first setting correspond to SPARQL Endpoint, the seconde to the query\n",
    "q = spqf.get_json_sparql_result(rc[4],rc[5])"
   ]
  },
  {
   "cell_type": "code",
   "execution_count": 33,
   "id": "british-calculation",
   "metadata": {},
   "outputs": [
    {
     "data": {
      "text/plain": [
       "'20210427_151010'"
      ]
     },
     "execution_count": 33,
     "metadata": {},
     "output_type": "execute_result"
    }
   ],
   "source": [
    "### This fonction retrieves and shapes time\n",
    "\n",
    "# definition\n",
    "def timestamp_formatted_for_file_name():\n",
    "    is_now = time.strftime('%Y%m%d_%H%M%S')\n",
    "    return is_now\n",
    "\n",
    "# execution\n",
    "timestamp_formatted_for_file_name()"
   ]
  },
  {
   "cell_type": "code",
   "execution_count": 34,
   "id": "mighty-sending",
   "metadata": {},
   "outputs": [],
   "source": [
    "# Define the file addresses, the existing one and new one\n",
    "original_db = 'data/sparql_queries.db'\n",
    "\n",
    "timestamped_db_copy = 'data/sparql_queries_' + timestamp_formatted_for_file_name() + '.sqlite'"
   ]
  },
  {
   "cell_type": "code",
   "execution_count": 35,
   "id": "rational-preference",
   "metadata": {},
   "outputs": [
    {
     "data": {
      "text/plain": [
       "'data/sparql_queries_20210427_151011.sqlite'"
      ]
     },
     "execution_count": 35,
     "metadata": {},
     "output_type": "execute_result"
    }
   ],
   "source": [
    "## Documentation:\n",
    "# https://docs.python.org/3/library/shutil.htmlcopied_db = copyfile(original_db, timestamped_db_copy)\n",
    "\n",
    "copied_db = copyfile(original_db, timestamped_db_copy)\n",
    "copied_db"
   ]
  },
  {
   "cell_type": "code",
   "execution_count": 36,
   "id": "entitled-ireland",
   "metadata": {},
   "outputs": [],
   "source": [
    "### store the answer of the SPARQL endpoint in the 'result'\n",
    "\n",
    "conn = sql.connect(original_db)\n",
    "c = conn.cursor()\n",
    "values = (pk_query, str(r_bnf),timestamp_formatted_for_file_name())\n",
    "\n",
    "# https://www.techonthenet.com/sqlite/functions/now.php\n",
    "c.execute(\"INSERT INTO result (fk_query, result, timestmp) VALUES (?,?,?)\", values)\n",
    "# commit the insertion and close the database\n",
    "# !! REQUIRE to be enabled to commit to the SQLite database !!\n",
    "#conn.commit()\n",
    "conn.close()"
   ]
  },
  {
   "cell_type": "code",
   "execution_count": 3,
   "id": "associate-offense",
   "metadata": {},
   "outputs": [],
   "source": [
    "### Inspect the resultat after an insert\n",
    "\n",
    "# Choose the row of the database to get\n",
    "pk_result = ('3')\n",
    "\n",
    "# connexion to the database\n",
    "original_db = 'data/sparql_queries.db'\n",
    "conn = sql.connect(original_db)\n",
    "\n",
    "### execute the query on the SQLite database to retrieve the values of the row\n",
    "c = conn.cursor()\n",
    "c.execute('SELECT * FROM result WHERE pk_result = ?', pk_result)\n",
    "result_q = c.fetchone()\n",
    "\n",
    "# close connexion\n",
    "conn.close()\n",
    "# result_q[3]"
   ]
  },
  {
   "cell_type": "code",
   "execution_count": 4,
   "id": "theoretical-adult",
   "metadata": {},
   "outputs": [
    {
     "data": {
      "text/plain": [
       "dict"
      ]
     },
     "execution_count": 4,
     "metadata": {},
     "output_type": "execute_result"
    }
   ],
   "source": [
    "### Transform string to dict\n",
    "## Doc.:\n",
    "# https://stackoverflow.com/questions/988228/convert-a-string-representation-of-a-dictionary-to-a-dictionary\n",
    "import ast\n",
    "d = ast.literal_eval(result_q[3])\n",
    "type(d)"
   ]
  },
  {
   "cell_type": "code",
   "execution_count": 16,
   "id": "considered-description",
   "metadata": {},
   "outputs": [],
   "source": [
    "##### Transform the result into a list with a fonction of the library #####\n",
    "\n",
    "#### Result of the BnF query\n",
    "#r_bnf = [l for l in spqf.sparql_result_to_list(d)]\n",
    "#print(len(r_bnf))\n",
    "#r_bnf[:10]\n",
    "#### Result of the Dbpedia query\n",
    "#r_dbp = [l for l in spqf.sparql_result_to_list(d)]\n",
    "#print(len(r_dbp))\n",
    "#r_dbp[:10]\n",
    "#### Result of the Dbpedia query (ressource \"Lawyer\")\n",
    "#r_dbp_l = [l for l in spqf.sparql_result_to_list(d)]\n",
    "#print(len(r_dbp_l))\n",
    "#r_dbp_l[:10]\n",
    "#### Result of the Wikidata query\n",
    "#r_wk = [l for l in spqf.sparql_result_to_list(d)]\n",
    "#print(len(r_wk))\n",
    "#r_wk[:10]"
   ]
  },
  {
   "cell_type": "markdown",
   "id": "binding-commissioner",
   "metadata": {},
   "source": [
    "-------------------------------"
   ]
  },
  {
   "cell_type": "markdown",
   "id": "homeless-panic",
   "metadata": {},
   "source": [
    "# Dataframes"
   ]
  },
  {
   "cell_type": "markdown",
   "id": "promotional-remove",
   "metadata": {},
   "source": [
    "The script below serves to change lists into a dataframe."
   ]
  },
  {
   "cell_type": "markdown",
   "id": "retired-fashion",
   "metadata": {},
   "source": [
    "### BnF"
   ]
  },
  {
   "cell_type": "code",
   "execution_count": null,
   "id": "neither-consequence",
   "metadata": {},
   "outputs": [],
   "source": [
    "df_bnf = pd.DataFrame(r_bnf, columns=['uri_bnf','name_bnf','viaf_bnf','birthDate_bnf','deathDate_bnf' , 'placeOfBirth_bnf','placeOfDeath_bnf','bio_bnf'])\n",
    "print(len(df_bnf))\n",
    "df_bnf.fillna('')\n",
    "\n",
    "df_bnf[:10]"
   ]
  },
  {
   "cell_type": "code",
   "execution_count": null,
   "id": "brave-simon",
   "metadata": {},
   "outputs": [],
   "source": []
  },
  {
   "cell_type": "code",
   "execution_count": null,
   "id": "becoming-orange",
   "metadata": {},
   "outputs": [],
   "source": []
  },
  {
   "cell_type": "code",
   "execution_count": null,
   "id": "separated-algeria",
   "metadata": {},
   "outputs": [],
   "source": []
  },
  {
   "cell_type": "code",
   "execution_count": null,
   "id": "hispanic-pound",
   "metadata": {},
   "outputs": [],
   "source": []
  },
  {
   "cell_type": "code",
   "execution_count": null,
   "id": "hairy-frost",
   "metadata": {},
   "outputs": [],
   "source": []
  },
  {
   "cell_type": "code",
   "execution_count": 4,
   "id": "advised-wrapping",
   "metadata": {},
   "outputs": [],
   "source": [
    "endpoint = \"http://192.168.0.21:7200/repositories/economistes/statements\""
   ]
  },
  {
   "cell_type": "code",
   "execution_count": 5,
   "id": "stuck-brisbane",
   "metadata": {},
   "outputs": [],
   "source": [
    "insert = \"\"\"\n",
    "PREFIX  dbo:  <http://dbpedia.org/ontology/>\n",
    "PREFIX  dbp:  <http://dbpedia.org/property/>\n",
    "PREFIX  dbr:  <http://dbpedia.org/resource/>\n",
    "PREFIX  ome:  <https://ontome.net/class/>\n",
    "PREFIX rdfs: <http://www.w3.org/2000/01/rdf-schema#>\n",
    "PREFIX owl: <http://www.w3.org/2002/07/owl#>\n",
    "\n",
    "\n",
    "INSERT {GRAPH <http://economists.org/import_dbpedia> {?uri a ome:21.\n",
    "        ?uri owl:sameAs ?person. } \n",
    "}\n",
    "WHERE\n",
    "  { SERVICE <https://dbpedia.org/sparql>\n",
    "    { SELECT DISTINCT ?person\n",
    "       WHERE\n",
    "    {\n",
    "   \n",
    "    \n",
    "    { ?person  a                     dbo:Economist }\n",
    "    UNION\n",
    "      { ?person  dbp:profession  dbr:Economist }\n",
    "    UNION\n",
    "      { ?person  dbp:occupation  dbr:Economist }\n",
    "    UNION\n",
    "      { ?person  dbp:field  dbr:Economist }\n",
    "    UNION\n",
    "      { ?person  dbp:fields  dbr:Economist }\n",
    "    UNION\n",
    "      { ?person  dbp:discipline  dbr:Economist }\n",
    "    UNION\n",
    "      { ?person  dbo:profession  dbr:Economist }\n",
    "    UNION\n",
    "      { ?person  dbo:occupation  dbr:Economist }\n",
    "    UNION\n",
    "      { ?person  dbo:academicDiscipline  dbr:Economist }\n",
    "  }\n",
    "\n",
    "}\n",
    "            BIND(uuid() AS ?uri)\n",
    "}\n",
    "\n",
    "\"\"\""
   ]
  },
  {
   "cell_type": "code",
   "execution_count": null,
   "id": "victorian-jordan",
   "metadata": {},
   "outputs": [],
   "source": [
    "PREFIX  ome:  <https://ontome.net/class/>\n",
    "PREFIX rdfs: <http://www.w3.org/2000/01/rdf-schema#>\n",
    "\n",
    "\n",
    "INSERT DATA {GRAPH <http://economists.org/import_dbpedia> \n",
    "    {ome:21 rdfs:label 'Person';\n",
    "    a rdfs:class.} \n",
    "}"
   ]
  },
  {
   "cell_type": "code",
   "execution_count": null,
   "id": "minute-auction",
   "metadata": {},
   "outputs": [],
   "source": [
    "PREFIX  ome:  <https://ontome.net/class/>\n",
    "PREFIX rdfs: <http://www.w3.org/2000/01/rdf-schema#>\n",
    "\n",
    "    \n",
    "INSERT DATA {GRAPH <http://economists.org/import_dbpedia> \n",
    "    {ome:363 rdfs:label 'Geographical Place';\n",
    "    a rdfs:class.} \n",
    "}"
   ]
  },
  {
   "cell_type": "code",
   "execution_count": 26,
   "id": "administrative-confidence",
   "metadata": {},
   "outputs": [],
   "source": [
    "insert = \"\"\"\n",
    "PREFIX  dbo:  <http://dbpedia.org/ontology/>\n",
    "PREFIX  dbp:  <http://dbpedia.org/property/>\n",
    "PREFIX  dbr:  <http://dbpedia.org/resource/>\n",
    "PREFIX  ome:  <https://ontome.net/class/>\n",
    "PREFIX rdfs: <http://www.w3.org/2000/01/rdf-schema#>\n",
    "PREFIX owl: <http://www.w3.org/2002/07/owl#>\n",
    "\n",
    "\n",
    "INSERT {GRAPH <http://economists.org/import_dbpedia> \n",
    "#  CONSTRUCT  \n",
    "    {?uri rdfs:label ?label.\n",
    "         } \n",
    "}\n",
    "WHERE\n",
    "{ ?uri owl:sameAs ?person.\n",
    "\n",
    "  { SERVICE <https://dbpedia.org/sparql>\n",
    "    { SELECT DISTINCT ?person ?label\n",
    "       WHERE\n",
    "    {\n",
    "     \n",
    "         ?person rdfs:label ?label\n",
    "     {\n",
    "    { ?person  a                     dbo:Economist }\n",
    "    UNION\n",
    "      { ?person  dbp:profession  dbr:Economist }\n",
    "    UNION\n",
    "      { ?person  dbp:occupation  dbr:Economist }\n",
    "    UNION\n",
    "      { ?person  dbp:field  dbr:Economist }\n",
    "    UNION\n",
    "      { ?person  dbp:fields  dbr:Economist }\n",
    "    UNION\n",
    "      { ?person  dbp:discipline  dbr:Economist }\n",
    "    UNION\n",
    "      { ?person  dbo:profession  dbr:Economist }\n",
    "    UNION\n",
    "      { ?person  dbo:occupation  dbr:Economist }\n",
    "    UNION\n",
    "      { ?person  dbo:academicDiscipline  dbr:Economist }\n",
    "  }\n",
    "  FILTER (LANG(?label) in ('en', 'fr'))             \n",
    "}\n",
    "\n",
    "}\n",
    "        }\n",
    "\n",
    "}\n",
    "\n",
    "\n",
    "\n",
    "\"\"\""
   ]
  },
  {
   "cell_type": "code",
   "execution_count": 37,
   "id": "unauthorized-webmaster",
   "metadata": {},
   "outputs": [],
   "source": [
    "### birthDate\n",
    "\n",
    "insert = \"\"\"\n",
    "PREFIX  dbo:  <http://dbpedia.org/ontology/>\n",
    "PREFIX  dbp:  <http://dbpedia.org/property/>\n",
    "PREFIX  dbr:  <http://dbpedia.org/resource/>\n",
    "PREFIX  owl:  <http://www.w3.org/2002/07/owl#>\n",
    "PREFIX  ome:  <https://ontome.net/class/>\n",
    "PREFIX  rdfs: <http://www.w3.org/2000/01/rdf-schema#>\n",
    "\n",
    "INSERT {\n",
    "  GRAPH <http://economists.org/import_dbpedia> {\n",
    "    ?uri dbo:birthDate ?birthDate .\n",
    "  }\n",
    "}\n",
    "WHERE\n",
    "  { ?uri  owl:sameAs  ?person\n",
    "    { SERVICE <https://dbpedia.org/sparql>\n",
    "        { SELECT DISTINCT  ?person ?birthDate\n",
    "          WHERE\n",
    "            { ?person  dbo:birthDate  ?birthDate\n",
    "              {   { ?person  a                     dbo:Economist }\n",
    "                UNION\n",
    "                  { ?person  dbp:profession  dbr:Economist }\n",
    "                UNION\n",
    "                  { ?person  dbp:occupation  dbr:Economist }\n",
    "                UNION\n",
    "                  { ?person  dbp:field  dbr:Economist }\n",
    "                UNION\n",
    "                  { ?person  dbp:fields  dbr:Economist }\n",
    "                UNION\n",
    "                  { ?person  dbp:discipline  dbr:Economist }\n",
    "                UNION\n",
    "                  { ?person  dbo:profession  dbr:Economist }\n",
    "                UNION\n",
    "                  { ?person  dbo:occupation  dbr:Economist }\n",
    "                UNION\n",
    "                  { ?person  dbo:academicDiscipline  dbr:Economist }\n",
    "              }\n",
    "            }\n",
    "        }\n",
    "    }\n",
    "  }\n",
    "\"\"\""
   ]
  },
  {
   "cell_type": "code",
   "execution_count": 42,
   "id": "tight-pottery",
   "metadata": {},
   "outputs": [],
   "source": [
    "### birthPlace\n",
    "\n",
    "insert = \"\"\"\n",
    "PREFIX  dbo:  <http://dbpedia.org/ontology/>\n",
    "PREFIX  dbp:  <http://dbpedia.org/property/>\n",
    "PREFIX  dbr:  <http://dbpedia.org/resource/>\n",
    "PREFIX  owl:  <http://www.w3.org/2002/07/owl#>\n",
    "PREFIX  ome:  <https://ontome.net/class/>\n",
    "PREFIX  rdfs: <http://www.w3.org/2000/01/rdf-schema#>\n",
    "\n",
    "INSERT {\n",
    "  GRAPH <http://economists.org/import_dbpedia> {\n",
    "    ?uri dbo:birthPlace ?birthPlace .\n",
    "    ?birthPlace a ome:363.\n",
    "  }\n",
    "}\n",
    "WHERE\n",
    "  { ?uri  owl:sameAs  ?person\n",
    "    { SERVICE <https://dbpedia.org/sparql>\n",
    "        { SELECT DISTINCT  ?person ?birthPlace\n",
    "          WHERE\n",
    "            { ?person  dbo:birthPlace  ?birthPlace\n",
    "              {   { ?person  a                     dbo:Economist }\n",
    "                UNION\n",
    "                  { ?person  dbp:profession  dbr:Economist }\n",
    "                UNION\n",
    "                  { ?person  dbp:occupation  dbr:Economist }\n",
    "                UNION\n",
    "                  { ?person  dbp:field  dbr:Economist }\n",
    "                UNION\n",
    "                  { ?person  dbp:fields  dbr:Economist }\n",
    "                UNION\n",
    "                  { ?person  dbp:discipline  dbr:Economist }\n",
    "                UNION\n",
    "                  { ?person  dbo:profession  dbr:Economist }\n",
    "                UNION\n",
    "                  { ?person  dbo:occupation  dbr:Economist }\n",
    "                UNION\n",
    "                  { ?person  dbo:academicDiscipline  dbr:Economist }\n",
    "              }\n",
    "            }\n",
    "        }\n",
    "    }\n",
    "  }\n",
    "\"\"\""
   ]
  },
  {
   "cell_type": "code",
   "execution_count": null,
   "id": "present-blowing",
   "metadata": {},
   "outputs": [],
   "source": [
    "SELECT  ?p (count(*) AS ?eff)\n",
    "WHERE\n",
    "  { { GRAPH <http://economists.org/import_dbpedia>\n",
    "        { ?s  ?p  ?t }\n",
    "    }\n",
    "  }\n",
    "GROUP BY ?p"
   ]
  },
  {
   "cell_type": "code",
   "execution_count": null,
   "id": "eligible-bandwidth",
   "metadata": {},
   "outputs": [],
   "source": [
    "### Metadata using graph\n",
    "\n",
    "PREFIX  dbo:  <http://dbpedia.org/ontology/>\n",
    "PREFIX  dbp:  <http://dbpedia.org/property/>\n",
    "PREFIX  dbr:  <http://dbpedia.org/resource/>\n",
    "PREFIX  omc:  <https://ontome.net/class/>\n",
    "PREFIX  omp:  <https://ontome.net/property/>\n",
    "PREFIX rdfs: <http://www.w3.org/2000/01/rdf-schema#>\n",
    "PREFIX owl: <http://www.w3.org/2002/07/owl#>\n",
    "PREFIX dcmi: <http://purl.org/dc/terms/>\n",
    "PREFIX moc: <http://myontology.org/>\n",
    "\n",
    "\n",
    "INSERT {  \n",
    "    GRAPH ?g_uri {\n",
    "       ?uri   omp:1599 ?birthPlace.                   \n",
    "    }\n",
    "    ?uri a omc:61;\n",
    "         omp:86 ?person.\n",
    "     ?g_uri dcmi:source <http://dbpedia.org/>;\n",
    "          moc:certainty 2.  \n",
    "    \n",
    "}\n",
    "\n",
    "\n",
    "WHERE\n",
    "{ SELECT ?person ?birthPlace ?uri ?g_uri\n",
    "    {SERVICE <repository:economistes> {\n",
    "        ?person dbo:birthPlace ?birthPlace.\n",
    "    }\n",
    "      BIND(uuid() AS ?uri)\n",
    "    BIND(uuid() AS ?g_uri)\n",
    "}\n",
    "    LIMIT 10\n",
    "}\n",
    "    \n"
   ]
  },
  {
   "cell_type": "code",
   "execution_count": 45,
   "id": "removable-birthday",
   "metadata": {},
   "outputs": [
    {
     "ename": "SyntaxError",
     "evalue": "invalid syntax (<ipython-input-45-e5041a7c045b>, line 3)",
     "output_type": "error",
     "traceback": [
      "\u001b[0;36m  File \u001b[0;32m\"<ipython-input-45-e5041a7c045b>\"\u001b[0;36m, line \u001b[0;32m3\u001b[0m\n\u001b[0;31m    PREFIX  dbo:  <http://dbpedia.org/ontology/>\u001b[0m\n\u001b[0m              ^\u001b[0m\n\u001b[0;31mSyntaxError\u001b[0m\u001b[0;31m:\u001b[0m invalid syntax\n"
     ]
    }
   ],
   "source": [
    "### metadata using RDF STAR\n",
    "\n",
    "PREFIX  dbo:  <http://dbpedia.org/ontology/>\n",
    "PREFIX  dbp:  <http://dbpedia.org/property/>\n",
    "PREFIX  dbr:  <http://dbpedia.org/resource/>\n",
    "PREFIX  omc:  <https://ontome.net/class/>\n",
    "PREFIX  omp:  <https://ontome.net/property/>\n",
    "PREFIX rdfs: <http://www.w3.org/2000/01/rdf-schema#>\n",
    "PREFIX owl: <http://www.w3.org/2002/07/owl#>\n",
    "PREFIX dcmi: <http://purl.org/dc/terms/>\n",
    "PREFIX moc: <http://myontology.org/>\n",
    "\n",
    "\n",
    "INSERT { \n",
    "    ### Pro insert one graph -> metadata + rollback !\n",
    "    GRAPH moc:g3 {\n",
    "    ?person a omc:21.\n",
    "    ?birth a omc:61.\n",
    "    ?birth omp:86 ?person.\n",
    "     <<?birth   omp:1599 ?birthPlace >> dcmi:source <http://dbpedia.org/>;\n",
    "          moc:certainty 2.  \n",
    "    }\n",
    "    }\n",
    "\n",
    "WHERE\n",
    "{ SELECT ?person ?birthPlace ?birth\n",
    "    {SERVICE <repository:economistes> {\n",
    "        ?person dbo:birthPlace ?birthPlace.\n",
    "    }\n",
    "    BIND(uuid() AS ?birth)\n",
    "\n",
    "}\n",
    "    LIMIT 10\n",
    "}\n",
    "    \n",
    "----\n",
    "\n",
    "\n",
    "Query : \n",
    "    \n",
    "    \n",
    "PREFIX  dbo:  <http://dbpedia.org/ontology/>\n",
    "PREFIX  dbp:  <http://dbpedia.org/property/>\n",
    "PREFIX  dbr:  <http://dbpedia.org/resource/>\n",
    "PREFIX  omc:  <https://ontome.net/class/>\n",
    "PREFIX  omp:  <https://ontome.net/property/>\n",
    "PREFIX rdfs: <http://www.w3.org/2000/01/rdf-schema#>\n",
    "PREFIX owl: <http://www.w3.org/2002/07/owl#>\n",
    "PREFIX dcmi: <http://purl.org/dc/terms/>\n",
    "PREFIX moc: <http://myontology.org/>\n",
    "\n",
    "\n",
    "SELECT ?person ?p ?birth ?o1\n",
    "WHERE { \n",
    "    GRAPH moc:g3 {\n",
    "        ?person a omc:21.\n",
    "?birth ?p ?person.\n",
    "        <<?birth ?p1 ?o1>>  moc:certainty 2. \n",
    "        \n",
    "    }\n",
    "    }\n",
    "    \n"
   ]
  },
  {
   "cell_type": "code",
   "execution_count": 33,
   "id": "hungry-bibliography",
   "metadata": {},
   "outputs": [],
   "source": [
    "endpoint = \"http://192.168.0.21:7200/repositories/economistes/statements\""
   ]
  },
  {
   "cell_type": "code",
   "execution_count": 43,
   "id": "curious-aquatic",
   "metadata": {},
   "outputs": [],
   "source": [
    "### Execute the SPARQL query wrapped in the function in the library _sparql_functions.py_\n",
    "# The first setting correspond to SPARQL Endpoint, the seconde to the query\n",
    "try:\n",
    "    sparql = SPARQLWrapper(endpoint)\n",
    "    sparql.setCredentials(\"admin\", \"root\")\n",
    "    sparql.setQuery(insert)\n",
    "    sparql.setMethod('POST')\n",
    "    # STOP #    \n",
    "    rc = sparql.query()\n",
    "except Exception as e:\n",
    "    print(e)"
   ]
  },
  {
   "cell_type": "code",
   "execution_count": 23,
   "id": "southwest-vault",
   "metadata": {},
   "outputs": [
    {
     "data": {
      "text/plain": [
       "['__add__',\n",
       " '__class__',\n",
       " '__contains__',\n",
       " '__delattr__',\n",
       " '__delitem__',\n",
       " '__dir__',\n",
       " '__doc__',\n",
       " '__eq__',\n",
       " '__format__',\n",
       " '__ge__',\n",
       " '__getattribute__',\n",
       " '__getitem__',\n",
       " '__gt__',\n",
       " '__hash__',\n",
       " '__iadd__',\n",
       " '__imul__',\n",
       " '__init__',\n",
       " '__init_subclass__',\n",
       " '__iter__',\n",
       " '__le__',\n",
       " '__len__',\n",
       " '__lt__',\n",
       " '__mul__',\n",
       " '__ne__',\n",
       " '__new__',\n",
       " '__reduce__',\n",
       " '__reduce_ex__',\n",
       " '__repr__',\n",
       " '__reversed__',\n",
       " '__rmul__',\n",
       " '__setattr__',\n",
       " '__setitem__',\n",
       " '__sizeof__',\n",
       " '__str__',\n",
       " '__subclasshook__',\n",
       " 'append',\n",
       " 'clear',\n",
       " 'copy',\n",
       " 'count',\n",
       " 'extend',\n",
       " 'index',\n",
       " 'insert',\n",
       " 'pop',\n",
       " 'remove',\n",
       " 'reverse',\n",
       " 'sort']"
      ]
     },
     "execution_count": 23,
     "metadata": {},
     "output_type": "execute_result"
    }
   ],
   "source": [
    "dir(rc.response.readlines())"
   ]
  },
  {
   "cell_type": "code",
   "execution_count": 25,
   "id": "endless-chemical",
   "metadata": {},
   "outputs": [],
   "source": [
    "for l in rc.response.readlines():\n",
    "    print (l)"
   ]
  },
  {
   "cell_type": "code",
   "execution_count": null,
   "id": "loved-greene",
   "metadata": {},
   "outputs": [],
   "source": []
  }
 ],
 "metadata": {
  "kernelspec": {
   "display_name": "py37sparql",
   "language": "python",
   "name": "py37sparql"
  },
  "language_info": {
   "codemirror_mode": {
    "name": "ipython",
    "version": 3
   },
   "file_extension": ".py",
   "mimetype": "text/x-python",
   "name": "python",
   "nbconvert_exporter": "python",
   "pygments_lexer": "ipython3",
   "version": "3.7.3"
  }
 },
 "nbformat": 4,
 "nbformat_minor": 5
}
