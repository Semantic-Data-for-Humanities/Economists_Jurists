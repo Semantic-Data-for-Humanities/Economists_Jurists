{
 "cells": [
  {
   "cell_type": "markdown",
   "id": "imported-throw",
   "metadata": {},
   "source": [
    "# Lawyers birth distribution on DBpedia"
   ]
  },
  {
   "cell_type": "code",
   "execution_count": 1,
   "id": "healthy-diving",
   "metadata": {},
   "outputs": [],
   "source": [
    "from SPARQLWrapper import SPARQLWrapper, SPARQLWrapper2, JSON, TURTLE, XML, RDFXML\n",
    "import pprint\n",
    "import csv\n",
    "# from bs4 import BeautifulSoup\n",
    "import matplotlib.pyplot as plt\n",
    "import numpy as np \n",
    "from collections import Counter\n",
    "from operator import itemgetter\n"
   ]
  },
  {
   "cell_type": "code",
   "execution_count": 47,
   "id": "elect-petroleum",
   "metadata": {},
   "outputs": [],
   "source": [
    "query = \"\"\"\n",
    "\n",
    "PREFIX xsd: <http://www.w3.org/2001/XMLSchema#>\n",
    "PREFIX foaf: <http://xmlns.com/foaf/0.1/>\n",
    "PREFIX dbo: <http://dbpedia.org/ontology/>\n",
    "PREFIX owl: <http://www.w3.org/2002/07/owl#>\n",
    "PREFIX dbp: <http://dbpedia.org/property/>\n",
    "PREFIX  dbr:  <http://dbpedia.org/resource/>\n",
    "\n",
    "SELECT DISTINCT ?person ?name (year(xsd:dateTime(?Birth_Date)) AS ?year)\n",
    "\n",
    "WHERE\n",
    "     {\n",
    "        {?person ?propriety dbr:Lawyer .\n",
    "        ?person foaf:name ?name .\n",
    "        ?person dbp:birthDate ?Birth_Date .\n",
    "        ?person owl:sameAs ?sameAs .\n",
    "        ?person dbo:abstract ?abstract .\n",
    "    FILTER (xsd:string(?name) !=\"Marcus Tullius Cicero\")\n",
    "        FILTER (xsd:date (?Birth_Date) > \"1800-01-01\"^^xsd:date)\n",
    "        FILTER (CONTAINS(?name, \" \"))\n",
    "        }\n",
    "     UNION\n",
    "        {?person ?propriety dbr:Jurist .\n",
    "        ?person foaf:name ?name .\n",
    "        ?person dbp:birthDate ?Birth_Date .\n",
    "        ?person owl:sameAs ?sameAs .\n",
    "        ?person dbo:abstract ?abstract .\n",
    "    FILTER (xsd:string(?name) !=\"Marcus Tullius Cicero\")\n",
    "\n",
    "        FILTER (xsd:date (?Birth_Date) > \"1800-01-01\"^^xsd:date)\n",
    "        FILTER (CONTAINS(?name, \" \"))\n",
    "        }\n",
    "     UNION\n",
    "        {\n",
    "         ?person a dbo:Lawyer .\n",
    "        ?person foaf:name ?name .\n",
    "        ?person dbp:birthDate ?Birth_Date .\n",
    "        ?person owl:sameAs ?sameAs .\n",
    "    FILTER (xsd:string(?name) !=\"Marcus Tullius Cicero\")\n",
    "        FILTER (CONTAINS(?name, \" \"))\n",
    "        FILTER (xsd:date (?Birth_Date) > \"1800-01-01\"^^xsd:date)\n",
    "        }\n",
    "     UNION\n",
    "       {\n",
    "        ?person a dbo:Professor .\n",
    "        ?person foaf:name ?name .\n",
    "        ?person dbp:birthDate ?Birth_Date .\n",
    "        ?person owl:sameAs ?sameAs .\n",
    "        ?person dbo:abstract ?abstract .\n",
    "    FILTER (xsd:string(?name) !=\"Marcus Tullius Cicero\")\n",
    "        FILTER (CONTAINS(?abstract, \"Jurist\") || CONTAINS(?abstract, \"Lawyer\") || CONTAINS(?abstract, \"lawyer\")  || CONTAINS(?abstract, \"jurist\")|| CONTAINS(?abstract, \"juriste\")|| CONTAINS(?abstract, \"Juriste\"))\n",
    "        FILTER (CONTAINS(?name, \" \"))\n",
    "        FILTER (xsd:date (?Birth_Date) > \"1800-01-01\"^^xsd:date)\n",
    "       }\n",
    "     UNION\n",
    "       {\n",
    "        ?person a dbo:Person .\n",
    "        ?person foaf:name ?name .\n",
    "        ?person dbp:birthDate ?Birth_Date .\n",
    "        ?person owl:sameAs ?sameAs .\n",
    "        ?person dbo:abstract ?abstract .\n",
    "    FILTER (xsd:string(?name) !=\"Marcus Tullius Cicero\")\n",
    "       FILTER (CONTAINS(?name, \" \"))\n",
    "        FILTER (CONTAINS(?abstract, \"Jurist\") || CONTAINS(?abstract, \"Lawyer\") || CONTAINS(?abstract, \"lawyer\")  || CONTAINS(?abstract, \"jurist\")|| CONTAINS(?abstract, \"juriste\")|| CONTAINS(?abstract, \"Juriste\"))\n",
    "        FILTER (xsd:date (?Birth_Date) > \"1800-01-01\"^^xsd:date)\n",
    "       }\n",
    "  }\n",
    "\"\"\""
   ]
  },
  {
   "cell_type": "code",
   "execution_count": 48,
   "id": "natural-estate",
   "metadata": {},
   "outputs": [],
   "source": [
    "sparql = SPARQLWrapper(\"https://dbpedia.org/sparql\") ##, returnFormat=RDFXML)\n"
   ]
  },
  {
   "cell_type": "code",
   "execution_count": 49,
   "id": "absolute-extension",
   "metadata": {},
   "outputs": [],
   "source": [
    "sparql.setQuery(query)\n",
    "sparql.setReturnFormat(JSON)"
   ]
  },
  {
   "cell_type": "code",
   "execution_count": 50,
   "id": "hindu-connecticut",
   "metadata": {},
   "outputs": [
    {
     "data": {
      "text/plain": [
       "dict"
      ]
     },
     "execution_count": 50,
     "metadata": {},
     "output_type": "execute_result"
    }
   ],
   "source": [
    "rc = sparql.queryAndConvert()\n",
    "type(rc)"
   ]
  },
  {
   "cell_type": "code",
   "execution_count": 51,
   "id": "neutral-armstrong",
   "metadata": {},
   "outputs": [
    {
     "data": {
      "text/plain": [
       "10000"
      ]
     },
     "execution_count": 51,
     "metadata": {},
     "output_type": "execute_result"
    }
   ],
   "source": [
    "# Nombre de lignes du résultat\n",
    "len(rc['results']['bindings'])"
   ]
  },
  {
   "cell_type": "markdown",
   "id": "western-butter",
   "metadata": {},
   "source": [
    "### Analyse of the result"
   ]
  },
  {
   "cell_type": "code",
   "execution_count": 52,
   "id": "typical-horizon",
   "metadata": {},
   "outputs": [
    {
     "data": {
      "text/plain": [
       "10000"
      ]
     },
     "execution_count": 52,
     "metadata": {},
     "output_type": "execute_result"
    }
   ],
   "source": [
    "# Number of rows in the result\n",
    "len(rc['results']['bindings'])"
   ]
  },
  {
   "cell_type": "code",
   "execution_count": 53,
   "id": "persistent-target",
   "metadata": {},
   "outputs": [
    {
     "name": "stdout",
     "output_type": "stream",
     "text": [
      "{'person': {'type': 'uri', 'value': 'http://dbpedia.org/resource/A._Brown_Moore'}, 'name': {'type': 'literal', 'xml:lang': 'en', 'value': 'Andre Brown Moore'}, 'year': {'type': 'typed-literal', 'datatype': 'http://www.w3.org/2001/XMLSchema#integer', 'value': '1911'}}\n",
      "{'person': {'type': 'uri', 'value': 'http://dbpedia.org/resource/Lubomir_Dymsha'}, 'name': {'type': 'literal', 'xml:lang': 'en', 'value': 'Dymsha Lubomir. Deputy of the 4th Duma, 1913'}, 'year': {'type': 'typed-literal', 'datatype': 'http://www.w3.org/2001/XMLSchema#integer', 'value': '1860'}}\n",
      "{'person': {'type': 'uri', 'value': 'http://dbpedia.org/resource/Luciana_León'}, 'name': {'type': 'literal', 'xml:lang': 'en', 'value': 'Luciana León'}, 'year': {'type': 'typed-literal', 'datatype': 'http://www.w3.org/2001/XMLSchema#integer', 'value': '1978'}}\n",
      "{'person': {'type': 'uri', 'value': 'http://dbpedia.org/resource/Lucien_Anderson'}, 'name': {'type': 'literal', 'xml:lang': 'en', 'value': 'Lucien Anderson'}, 'year': {'type': 'typed-literal', 'datatype': 'http://www.w3.org/2001/XMLSchema#integer', 'value': '1824'}}\n",
      "{'person': {'type': 'uri', 'value': 'http://dbpedia.org/resource/Lucien_Bonaparte_Chase'}, 'name': {'type': 'literal', 'xml:lang': 'en', 'value': 'Lucien Bonaparte Chase'}, 'year': {'type': 'typed-literal', 'datatype': 'http://www.w3.org/2001/XMLSchema#integer', 'value': '1817'}}\n"
     ]
    }
   ],
   "source": [
    "# Inspect the first three rows\n",
    "i = 0\n",
    "for l in rc['results']['bindings']:\n",
    "    if i < 5:\n",
    "        print(l)\n",
    "        i += 1"
   ]
  },
  {
   "cell_type": "code",
   "execution_count": 66,
   "id": "seven-singing",
   "metadata": {},
   "outputs": [
    {
     "name": "stdout",
     "output_type": "stream",
     "text": [
      "['http://dbpedia.org/resource/A._Brown_Moore', 'Andre Brown Moore', '1911']\n",
      "['http://dbpedia.org/resource/Lubomir_Dymsha', 'Dymsha Lubomir. Deputy of the 4th Duma, 1913', '1860']\n",
      "['http://dbpedia.org/resource/Luciana_León', 'Luciana León', '1978']\n",
      "['http://dbpedia.org/resource/Lucien_Anderson', 'Lucien Anderson', '1824']\n",
      "['http://dbpedia.org/resource/Lucien_Bonaparte_Chase', 'Lucien Bonaparte Chase', '1817']\n",
      "['http://dbpedia.org/resource/Lucien_Bouchard', 'Lucien Bouchard', '1938']\n",
      "['http://dbpedia.org/resource/Lucien_C._Gause', 'Lucien Coatsworth Gause', '1836']\n",
      "['http://dbpedia.org/resource/Lucien_Cooremans', 'Lucien Cooremans', '1899']\n",
      "['http://dbpedia.org/resource/Lucien_François', 'Lucien François', '1934']\n",
      "['http://dbpedia.org/resource/Lucius_E._Burch_Jr.', 'Lucius E. Burch Jr.', '1912']\n",
      "['http://dbpedia.org/resource/Lucius_Jeremiah_Gartrell', 'Lucius Jeremiah Gartrell', '1821']\n",
      "['http://dbpedia.org/resource/Lucjan_Wolanowski', 'Lucjan Wolanowski', '1920']\n",
      "['http://dbpedia.org/resource/Lucrețiu_Pătrășcanu', 'Lucrețiu Pătrășcanu', '1900']\n",
      "['http://dbpedia.org/resource/Ludovico_Corrao', 'Ludovico Corrao', '1927']\n",
      "['http://dbpedia.org/resource/Ludwig_Stiegler', 'Ludwig Stiegler', '1944']\n",
      "['http://dbpedia.org/resource/Luigi_Nicola_Riserbato', 'Luigi Nicola Riserbato', '1969']\n",
      "['http://dbpedia.org/resource/Luigi_Zanda', 'Luigi Zanda', '1942']\n",
      "['http://dbpedia.org/resource/Luis_Alberto_Lacalle', 'Luis Alberto Lacalle', '1941']\n",
      "['http://dbpedia.org/resource/Luis_Alejandro_Capdevielle_Flores', 'Luis Alejandro Capdevielle Flores', '1953']\n",
      "['http://dbpedia.org/resource/Luis_Alfredo_Ramos', 'Luis Alfredo Ramos Botero', '1948']\n",
      "['http://dbpedia.org/resource/Luis_Antonio_Robles_Suárez', 'Luis Antonio Robles Suárez', '1849']\n",
      "['http://dbpedia.org/resource/Luis_Barros_Borgoño', 'Luis Barros Borgoño', '1858']\n",
      "['http://dbpedia.org/resource/Luis_Batlle_Berres', 'Luis Batlle', '1897']\n",
      "['http://dbpedia.org/resource/Luis_Felipe_Henao_Cardona', 'Luis Felipe Henao Cardona', '1979']\n",
      "['http://dbpedia.org/resource/Luis_Guillermo_Vélez', 'Luis Guillermo Vélez Trujillo', '1943']\n",
      "['http://dbpedia.org/resource/Luis_Guinot', 'Luis Guinot, Jr.', '1935']\n",
      "['http://dbpedia.org/resource/Luis_Padilla_Nervo', 'Luis Padilla Nervo', '1894']\n",
      "['http://dbpedia.org/resource/Luis_R._Sepúlveda', 'Luis R. Sepúlveda', '1964']\n",
      "['http://dbpedia.org/resource/Luis_Sáenz_Peña', 'Luis Sáenz Peña', '1822']\n",
      "['http://dbpedia.org/resource/Luis_Usera_Bugallal', 'Luis Usera Bugallal', '1890']\n"
     ]
    }
   ],
   "source": [
    "# Extract the values from the first five rows\n",
    "i = 0\n",
    "for l in rc['results']['bindings']:\n",
    "    if i < 30:\n",
    "        try: \n",
    "            name = l['name']['value']\n",
    "            print([l['person']['value'],name,l['year']['value']])\n",
    "        except :\n",
    "            try: \n",
    "                name = l['prefLabel']['value']\n",
    "                print([l['person']['value'],name,l['year']['value']])\n",
    "            except :\n",
    "                print([l['person']['value'],'',l['year']['value']])\n",
    "\n",
    "        i += 1"
   ]
  },
  {
   "cell_type": "markdown",
   "id": "sunset-september",
   "metadata": {},
   "source": [
    "### Inspects years of birth and count the number of births per year"
   ]
  },
  {
   "cell_type": "code",
   "execution_count": 55,
   "id": "whole-suspect",
   "metadata": {},
   "outputs": [],
   "source": [
    "# Explore\n",
    "yearsList = []\n",
    "for l in rc['results']['bindings']:\n",
    "    yearsList.append(l['year']['value'])"
   ]
  },
  {
   "cell_type": "code",
   "execution_count": 56,
   "id": "female-photograph",
   "metadata": {},
   "outputs": [
    {
     "data": {
      "text/plain": [
       "('1800', '2009')"
      ]
     },
     "execution_count": 56,
     "metadata": {},
     "output_type": "execute_result"
    }
   ],
   "source": [
    "min(yearsList), max(yearsList)"
   ]
  },
  {
   "cell_type": "code",
   "execution_count": 57,
   "id": "wired-bishop",
   "metadata": {},
   "outputs": [],
   "source": [
    "yearsList.sort()"
   ]
  },
  {
   "cell_type": "code",
   "execution_count": 58,
   "id": "round-granny",
   "metadata": {},
   "outputs": [],
   "source": [
    "# Count births per year\n",
    "counterYearsList = Counter(yearsList)\n",
    "groupedYearsList = list(zip(counterYearsList.keys(), counterYearsList.values()))"
   ]
  },
  {
   "cell_type": "code",
   "execution_count": 59,
   "id": "broad-simple",
   "metadata": {},
   "outputs": [
    {
     "data": {
      "text/plain": [
       "[('1800', 16),\n",
       " ('1801', 9),\n",
       " ('1802', 15),\n",
       " ('1803', 11),\n",
       " ('1804', 18),\n",
       " ('1805', 17),\n",
       " ('1806', 19),\n",
       " ('1807', 10),\n",
       " ('1808', 25),\n",
       " ('1809', 20),\n",
       " ('1810', 16),\n",
       " ('1811', 21),\n",
       " ('1812', 19),\n",
       " ('1813', 21),\n",
       " ('1814', 16),\n",
       " ('1815', 21),\n",
       " ('1816', 28),\n",
       " ('1817', 47),\n",
       " ('1818', 46),\n",
       " ('1819', 34),\n",
       " ('1820', 27),\n",
       " ('1821', 31),\n",
       " ('1822', 43),\n",
       " ('1823', 43),\n",
       " ('1824', 39),\n",
       " ('1825', 50),\n",
       " ('1826', 31),\n",
       " ('1827', 44),\n",
       " ('1828', 45),\n",
       " ('1829', 40),\n",
       " ('1830', 35),\n",
       " ('1831', 30),\n",
       " ('1832', 28),\n",
       " ('1833', 44),\n",
       " ('1834', 40),\n",
       " ('1835', 41),\n",
       " ('1836', 42),\n",
       " ('1837', 47),\n",
       " ('1838', 43),\n",
       " ('1839', 32),\n",
       " ('1840', 31),\n",
       " ('1841', 33),\n",
       " ('1842', 46),\n",
       " ('1843', 36),\n",
       " ('1844', 42),\n",
       " ('1845', 36),\n",
       " ('1846', 37),\n",
       " ('1847', 39),\n",
       " ('1848', 36),\n",
       " ('1849', 40),\n",
       " ('1850', 35),\n",
       " ('1851', 34),\n",
       " ('1852', 44),\n",
       " ('1853', 29),\n",
       " ('1854', 34),\n",
       " ('1855', 34),\n",
       " ('1856', 30),\n",
       " ('1857', 46),\n",
       " ('1858', 44),\n",
       " ('1859', 29),\n",
       " ('1860', 43),\n",
       " ('1861', 60),\n",
       " ('1862', 30),\n",
       " ('1863', 46),\n",
       " ('1864', 41),\n",
       " ('1865', 33),\n",
       " ('1866', 38),\n",
       " ('1867', 39),\n",
       " ('1868', 45),\n",
       " ('1869', 48),\n",
       " ('1870', 50),\n",
       " ('1871', 43),\n",
       " ('1872', 40),\n",
       " ('1873', 46),\n",
       " ('1874', 54),\n",
       " ('1875', 48),\n",
       " ('1876', 46),\n",
       " ('1877', 53),\n",
       " ('1878', 47),\n",
       " ('1879', 49),\n",
       " ('1880', 36),\n",
       " ('1881', 51),\n",
       " ('1882', 40),\n",
       " ('1883', 48),\n",
       " ('1884', 49),\n",
       " ('1885', 37),\n",
       " ('1886', 28),\n",
       " ('1887', 39),\n",
       " ('1888', 55),\n",
       " ('1889', 45),\n",
       " ('1890', 47),\n",
       " ('1891', 46),\n",
       " ('1892', 44),\n",
       " ('1893', 44),\n",
       " ('1894', 43),\n",
       " ('1895', 35),\n",
       " ('1896', 34),\n",
       " ('1897', 46),\n",
       " ('1898', 27),\n",
       " ('1899', 35),\n",
       " ('1900', 58),\n",
       " ('1901', 38),\n",
       " ('1902', 39),\n",
       " ('1903', 57),\n",
       " ('1904', 45),\n",
       " ('1905', 54),\n",
       " ('1906', 45),\n",
       " ('1907', 49),\n",
       " ('1908', 52),\n",
       " ('1909', 42),\n",
       " ('1910', 49),\n",
       " ('1911', 34),\n",
       " ('1912', 53),\n",
       " ('1913', 42),\n",
       " ('1914', 39),\n",
       " ('1915', 48),\n",
       " ('1916', 56),\n",
       " ('1917', 47),\n",
       " ('1918', 56),\n",
       " ('1919', 40),\n",
       " ('1920', 55),\n",
       " ('1921', 58),\n",
       " ('1922', 51),\n",
       " ('1923', 82),\n",
       " ('1924', 69),\n",
       " ('1925', 57),\n",
       " ('1926', 47),\n",
       " ('1927', 84),\n",
       " ('1928', 68),\n",
       " ('1929', 66),\n",
       " ('1930', 74),\n",
       " ('1931', 71),\n",
       " ('1932', 75),\n",
       " ('1933', 69),\n",
       " ('1934', 66),\n",
       " ('1935', 68),\n",
       " ('1936', 76),\n",
       " ('1937', 63),\n",
       " ('1938', 89),\n",
       " ('1939', 86),\n",
       " ('1940', 74),\n",
       " ('1941', 80),\n",
       " ('1942', 106),\n",
       " ('1943', 90),\n",
       " ('1944', 93),\n",
       " ('1945', 99),\n",
       " ('1946', 124),\n",
       " ('1947', 116),\n",
       " ('1948', 129),\n",
       " ('1949', 117),\n",
       " ('1950', 117),\n",
       " ('1951', 115),\n",
       " ('1952', 116),\n",
       " ('1953', 106),\n",
       " ('1954', 113),\n",
       " ('1955', 120),\n",
       " ('1956', 122),\n",
       " ('1957', 114),\n",
       " ('1958', 114),\n",
       " ('1959', 128),\n",
       " ('1960', 84),\n",
       " ('1961', 102),\n",
       " ('1962', 93),\n",
       " ('1963', 119),\n",
       " ('1964', 103),\n",
       " ('1965', 96),\n",
       " ('1966', 84),\n",
       " ('1967', 74),\n",
       " ('1968', 95),\n",
       " ('1969', 98),\n",
       " ('1970', 81),\n",
       " ('1971', 76),\n",
       " ('1972', 92),\n",
       " ('1973', 67),\n",
       " ('1974', 58),\n",
       " ('1975', 58),\n",
       " ('1976', 62),\n",
       " ('1977', 42),\n",
       " ('1978', 49),\n",
       " ('1979', 44),\n",
       " ('1980', 34),\n",
       " ('1981', 32),\n",
       " ('1982', 24),\n",
       " ('1983', 25),\n",
       " ('1984', 18),\n",
       " ('1985', 19),\n",
       " ('1986', 21),\n",
       " ('1987', 10),\n",
       " ('1988', 10),\n",
       " ('1989', 10),\n",
       " ('1990', 13),\n",
       " ('1991', 4),\n",
       " ('1992', 9),\n",
       " ('1993', 4),\n",
       " ('1994', 2),\n",
       " ('1995', 3),\n",
       " ('1996', 2),\n",
       " ('1997', 3),\n",
       " ('1999', 1),\n",
       " ('2000', 1),\n",
       " ('2009', 1)]"
      ]
     },
     "execution_count": 59,
     "metadata": {},
     "output_type": "execute_result"
    }
   ],
   "source": [
    "groupedYearsList"
   ]
  },
  {
   "cell_type": "code",
   "execution_count": 60,
   "id": "broken-inventory",
   "metadata": {},
   "outputs": [],
   "source": [
    "# Transform years from string to integer\n",
    "groupedYearsList = [[int(i[0]), i[1]] for i in groupedYearsList]"
   ]
  },
  {
   "cell_type": "code",
   "execution_count": 61,
   "id": "cognitive-dallas",
   "metadata": {},
   "outputs": [],
   "source": [
    "### Create a list of five years period, i.e. the list of the first year of each period\n",
    "d_list = []\n",
    "period = 5\n",
    "d_start = 1800\n",
    "d_list.append(d_start)\n",
    "\n",
    "i = 0\n",
    "while i < 35:\n",
    "    d_start = d_start + period\n",
    "    d_list.append(d_start)\n",
    "    i += 1"
   ]
  },
  {
   "cell_type": "code",
   "execution_count": 62,
   "id": "chubby-netscape",
   "metadata": {},
   "outputs": [
    {
     "name": "stdout",
     "output_type": "stream",
     "text": [
      "[1800, 1805]\n"
     ]
    },
    {
     "data": {
      "text/plain": [
       "(1800, 1975)"
      ]
     },
     "execution_count": 62,
     "metadata": {},
     "output_type": "execute_result"
    }
   ],
   "source": [
    "print(d_list[:2])\n",
    "min(d_list), max(d_list)"
   ]
  },
  {
   "cell_type": "code",
   "execution_count": 63,
   "id": "expensive-moldova",
   "metadata": {},
   "outputs": [
    {
     "data": {
      "image/png": "[encoded data removed]",
      "text/plain": [
       "<Figure size 1152x576 with 1 Axes>"
      ]
     },
     "metadata": {
      "needs_background": "light"
     },
     "output_type": "display_data"
    }
   ],
   "source": [
    "objects = [l[0] for l in groupedYearsList]\n",
    "eff = [l[1] for l in groupedYearsList]\n",
    "\n",
    "p1 = plt.bar(objects, eff)\n",
    "\n",
    "plt.xticks(d_list)\n",
    "plt.xlabel('Year')\n",
    "plt.ylabel('headcount')\n",
    "plt.title(\"\")\n",
    "plt.gcf().set_size_inches(16, 8)\n",
    "plt.xticks(rotation=45)\n",
    "## Change of fontsize and angle of xticklabels\n",
    "plt.show()"
   ]
  },
  {
   "cell_type": "code",
   "execution_count": null,
   "id": "blocked-acquisition",
   "metadata": {},
   "outputs": [],
   "source": []
  },
  {
   "cell_type": "code",
   "execution_count": 64,
   "id": "jewish-break",
   "metadata": {},
   "outputs": [],
   "source": [
    "# Grouping by five year period\n",
    "i_list = []\n",
    "for i in d_list:\n",
    "    i_n = 0\n",
    "    for l in groupedYearsList:\n",
    "        if l[0] >= i and l[0] < (i + 5):\n",
    "            i_n = i_n + l[1]\n",
    "    i_list.append([i, i_n])        "
   ]
  },
  {
   "cell_type": "code",
   "execution_count": 65,
   "id": "colored-contract",
   "metadata": {},
   "outputs": [
    {
     "data": {
      "image/png": "[encoded data removed]",
      "text/plain": [
       "<Figure size 1152x576 with 1 Axes>"
      ]
     },
     "metadata": {
      "needs_background": "light"
     },
     "output_type": "display_data"
    }
   ],
   "source": [
    "# Distribution by 5-year period\n",
    "\n",
    "objects = [str(l[0]) for l in i_list]\n",
    "eff = [l[1] for l in i_list]\n",
    "\n",
    "p1 = plt.bar(objects, eff)\n",
    "\n",
    "plt.ylabel('Headcount')\n",
    "plt.title('Births per five year period')\n",
    "plt.gcf().set_size_inches(16, 8)\n",
    "\n",
    "plt.xticks(rotation=45)\n",
    "plt.show()\n"
   ]
  },
  {
   "cell_type": "code",
   "execution_count": null,
   "id": "adopted-bruce",
   "metadata": {},
   "outputs": [],
   "source": []
  },
  {
   "cell_type": "code",
   "execution_count": null,
   "id": "guilty-congo",
   "metadata": {},
   "outputs": [],
   "source": []
  }
 ],
 "metadata": {
  "kernelspec": {
   "display_name": "Python 3",
   "language": "python",
   "name": "python3"
  },
  "language_info": {
   "codemirror_mode": {
    "name": "ipython",
    "version": 3
   },
   "file_extension": ".py",
   "mimetype": "text/x-python",
   "name": "python",
   "nbconvert_exporter": "python",
   "pygments_lexer": "ipython3",
   "version": "3.7.9"
  }
 },
 "nbformat": 4,
 "nbformat_minor": 5
}
