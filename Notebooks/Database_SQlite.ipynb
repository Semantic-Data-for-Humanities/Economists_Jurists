{
 "cells": [
  {
   "cell_type": "markdown",
   "id": "applied-bacteria",
   "metadata": {},
   "source": [
    "# Creation of a database SQlite"
   ]
  },
  {
   "cell_type": "markdown",
   "id": "coordinate-action",
   "metadata": {},
   "source": [
    "In this kernel, we will show how create a fonctional database SQlite. This database makes it possible not to ask the queries every time."
   ]
  },
  {
   "cell_type": "code",
   "execution_count": 2,
   "id": "tamil-tattoo",
   "metadata": {},
   "outputs": [],
   "source": [
    "# Import libraries usefull\n",
    "\n",
    "from SPARQLWrapper import SPARQLWrapper, SPARQLWrapper2, JSON, TURTLE, XML, RDFXML\n",
    "import pprint\n",
    "import csv\n",
    "# from bs4 import BeautifulSoup\n",
    "\n",
    "from collections import Counter\n",
    "from operator import itemgetter\n",
    "import pandas as pd\n",
    "\n",
    "import sqlite3 as sql\n",
    "import time\n",
    "\n",
    "from importlib import reload\n",
    "from shutil import copyfile"
   ]
  },
  {
   "cell_type": "code",
   "execution_count": 3,
   "id": "continued-water",
   "metadata": {},
   "outputs": [],
   "source": [
    "import sparql_functions as spqf # It's made-home library created by Francesco Beretta\n",
    "# so they must to be in the same folder as this file."
   ]
  },
  {
   "cell_type": "code",
   "execution_count": 4,
   "id": "southeast-chase",
   "metadata": {},
   "outputs": [],
   "source": [
    "### Connexion to a SQL Database or create it if it doesn't exist yet\n",
    "# into the indicated folder\n",
    "\n",
    "cn = sql.connect('data/sparql_queries_bis.db')"
   ]
  },
  {
   "cell_type": "code",
   "execution_count": 5,
   "id": "scheduled-appendix",
   "metadata": {},
   "outputs": [
    {
     "name": "stdout",
     "output_type": "stream",
     "text": [
      "('2021-07-02 12:11:47',)\n"
     ]
    }
   ],
   "source": [
    "## A  cursor is an object that allows you to execute queries on the database by isolating them properly\n",
    "c = cn.cursor()\n",
    "\n",
    "##  https://www.sqlite.org/lang_datefunc.html\n",
    "# this checks then it is well connect to the database with the current local time\n",
    "c.execute(\"SELECT datetime('now', 'localtime')\")\n",
    "print(c.fetchone())"
   ]
  },
  {
   "cell_type": "code",
   "execution_count": 5,
   "id": "warming-toronto",
   "metadata": {},
   "outputs": [],
   "source": [
    "## On ferme la base de données\n",
    "cn.close()"
   ]
  },
  {
   "cell_type": "code",
   "execution_count": 7,
   "id": "persistent-boring",
   "metadata": {},
   "outputs": [],
   "source": [
    "db = 'data/sparql_queries_bis.db'   ### 'data/database.db'"
   ]
  },
  {
   "cell_type": "code",
   "execution_count": 8,
   "id": "union-wichita",
   "metadata": {
    "tags": []
   },
   "outputs": [],
   "source": [
    "cn = sql.connect(db)\n",
    "c = cn.cursor()\n",
    "\n",
    "# Create table\n",
    "# c.execute('''DROP TABLE query;''')\n",
    "\n",
    "c.execute('''CREATE TABLE query (pk_query INTEGER PRIMARY KEY,\n",
    "label VARCHAR (100),\n",
    "description TEXT,\n",
    "project VARCHAR (150),\n",
    "sparql_endpoint VARCHAR (250),\n",
    "query TEXT,\n",
    "notes TEXT, \n",
    "timestmp text DEFAULT ((datetime('now','localtime'))))\n",
    "''')\n",
    "\n",
    "# Save (commit) the changes\n",
    "# disable # cn.commit()\n",
    "cn.close()"
   ]
  },
  {
   "cell_type": "code",
   "execution_count": 9,
   "id": "matched-mercury",
   "metadata": {},
   "outputs": [],
   "source": [
    "cn = sql.connect(db)\n",
    "c = cn.cursor()\n",
    "\n",
    "# Create table\n",
    "# c.execute('''DROP TABLE result;''')\n",
    "\n",
    "c.execute('''CREATE TABLE result (pk_result INTEGER PRIMARY KEY,\n",
    "fk_query INTEGER REFERENCES \"query\" (pk_query) MATCH SIMPLE,\n",
    "description TEXT,\n",
    "result TEXT,\n",
    "insert_data_into TEXT,\n",
    "notes TEXT, \n",
    "timestmp text DEFAULT ((datetime('now','localtime'))))\n",
    "''')\n",
    "\n",
    "# Save (commit) the changes\n",
    "# disable # cn.commit()\n",
    "cn.close()"
   ]
  },
  {
   "cell_type": "code",
   "execution_count": 10,
   "id": "extreme-canberra",
   "metadata": {},
   "outputs": [
    {
     "data": {
      "text/plain": [
       "'20210702_121235'"
      ]
     },
     "execution_count": 10,
     "metadata": {},
     "output_type": "execute_result"
    }
   ],
   "source": [
    "### Fonction qui récupère et met en forme le temps au moment de l'exécution\n",
    "\n",
    "# définition\n",
    "def timestamp_formatted_for_file_name():\n",
    "    is_now = time.strftime('%Y%m%d_%H%M%S')\n",
    "    return is_now\n",
    "\n",
    "# exécution\n",
    "timestamp_formatted_for_file_name()"
   ]
  },
  {
   "cell_type": "code",
   "execution_count": 11,
   "id": "abstract-belfast",
   "metadata": {},
   "outputs": [],
   "source": [
    "### Définir les adresses des fichiers, l'existant et celui à créer\n",
    "original_db = 'data/sparql_queries_bis.db'\n",
    "\n",
    "##  Noter que la différence de suffixe, en soi totalement arbitraire, \n",
    "#  dépend du fait que dans la configuration de .gitignore, .sqlite est exclu du verisonnement GIT\n",
    "#  contrairement à .db qui est versionné\n",
    "timestamped_db_copy = 'data/sparql_queries_bis_' + timestamp_formatted_for_file_name() + '.sqlite'"
   ]
  },
  {
   "cell_type": "code",
   "execution_count": 12,
   "id": "restricted-tiffany",
   "metadata": {},
   "outputs": [
    {
     "data": {
      "text/plain": [
       "'data/sparql_queries_bis_20210702_121249.sqlite'"
      ]
     },
     "execution_count": 12,
     "metadata": {},
     "output_type": "execute_result"
    }
   ],
   "source": [
    "### Créer une copie de sauvegarde avec timestamp du fichier (versionnement manuel)\n",
    "# ATTENTION : la base de données doit exister à l'endroit indiqué !\n",
    "## Cette requête n'est utile que si des modifications en écriture vont être apportées à la base de données,\n",
    "# afin de préserver le dernier état avant modification\n",
    "\n",
    "## Documentation:\n",
    "# https://docs.python.org/3/library/shutil.htmlcopied_db = copyfile(original_db, timestamped_db_copy)\n",
    "\n",
    "copied_db = copyfile(original_db, timestamped_db_copy)\n",
    "copied_db"
   ]
  },
  {
   "cell_type": "code",
   "execution_count": null,
   "id": "6e18cd76-7b46-486e-8427-ee144cbbb8d3",
   "metadata": {},
   "outputs": [],
   "source": []
  }
 ],
 "metadata": {
  "kernelspec": {
   "display_name": "Python 3",
   "language": "python",
   "name": "python3"
  },
  "language_info": {
   "codemirror_mode": {
    "name": "ipython",
    "version": 3
   },
   "file_extension": ".py",
   "mimetype": "text/x-python",
   "name": "python",
   "nbconvert_exporter": "python",
   "pygments_lexer": "ipython3",
   "version": "3.8.10"
  }
 },
 "nbformat": 4,
 "nbformat_minor": 5
}
