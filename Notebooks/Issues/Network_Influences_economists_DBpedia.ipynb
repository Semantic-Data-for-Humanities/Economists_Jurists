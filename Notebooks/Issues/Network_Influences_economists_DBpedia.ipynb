{
 "cells": [
  {
   "cell_type": "markdown",
   "id": "worse-bargain",
   "metadata": {},
   "source": [
    "# The influences of the economists (influenced and have been influenced)"
   ]
  },
  {
   "cell_type": "code",
   "execution_count": 17,
   "id": "ancient-pattern",
   "metadata": {},
   "outputs": [
    {
     "ename": "ModuleNotFoundError",
     "evalue": "No module named 'igraph'",
     "output_type": "error",
     "traceback": [
      "\u001b[0;31m---------------------------------------------------------------------------\u001b[0m",
      "\u001b[0;31mModuleNotFoundError\u001b[0m                       Traceback (most recent call last)",
      "\u001b[0;32m<ipython-input-17-37094a047cf1>\u001b[0m in \u001b[0;36m<module>\u001b[0;34m\u001b[0m\n\u001b[1;32m     11\u001b[0m \u001b[0;32mimport\u001b[0m \u001b[0mnetworkx\u001b[0m \u001b[0;32mas\u001b[0m \u001b[0mnx\u001b[0m\u001b[0;34m\u001b[0m\u001b[0;34m\u001b[0m\u001b[0m\n\u001b[1;32m     12\u001b[0m \u001b[0mget_ipython\u001b[0m\u001b[0;34m(\u001b[0m\u001b[0;34m)\u001b[0m\u001b[0;34m.\u001b[0m\u001b[0mrun_line_magic\u001b[0m\u001b[0;34m(\u001b[0m\u001b[0;34m'matplotlib'\u001b[0m\u001b[0;34m,\u001b[0m \u001b[0;34m'inline'\u001b[0m\u001b[0;34m)\u001b[0m\u001b[0;34m\u001b[0m\u001b[0;34m\u001b[0m\u001b[0m\n\u001b[0;32m---> 13\u001b[0;31m \u001b[0;32mimport\u001b[0m \u001b[0migraph\u001b[0m\u001b[0;34m\u001b[0m\u001b[0;34m\u001b[0m\u001b[0m\n\u001b[0m",
      "\u001b[0;31mModuleNotFoundError\u001b[0m: No module named 'igraph'"
     ]
    }
   ],
   "source": [
    "from SPARQLWrapper import SPARQLWrapper, SPARQLWrapper2, JSON, TURTLE, XML, RDFXML\n",
    "import pprint\n",
    "import csv\n",
    "# from bs4 import BeautifulSoup\n",
    "import matplotlib.pyplot as plt\n",
    "import numpy as np \n",
    "import scipy.stats\n",
    "import pandas as pd\n",
    "from collections import Counter\n",
    "from operator import itemgetter\n",
    "import networkx as nx\n",
    "%matplotlib inline\n"
   ]
  },
  {
   "cell_type": "code",
   "execution_count": 3,
   "id": "increased-portsmouth",
   "metadata": {},
   "outputs": [],
   "source": [
    "query = \"\"\"\n",
    "\n",
    "PREFIX foaf: <http://xmlns.com/foaf/0.1/>\n",
    "PREFIX dbo: <http://dbpedia.org/ontology/>\n",
    "PREFIX owl: <http://www.w3.org/2002/07/owl#>\n",
    "PREFIX dbp: <http://dbpedia.org/property/>\n",
    "\n",
    "SELECT DISTINCT ?economist ?name ?influencedBy ?influenced\n",
    "\n",
    "WHERE { ?economist a dbo:Economist .\n",
    "        ?economist foaf:name ?name .\n",
    "        ?economist dbo:nationality ?nationality .\n",
    "        ?economist owl:sameAs ?sameAs .\n",
    "        ?economist dbp:birthDate ?Birth_Date .\n",
    "        ?economist dbo:influencedBy ?influencedBy1 .\n",
    "        BIND(STRAFTER(STR(?influencedBy1),\"http://dbpedia.org/resource/\") AS ?influencedBy2)\n",
    "  BIND(REPLACE(STR(?influencedBy2),\"[_]\",\" \") AS ?influencedBy3)\n",
    "  BIND(REPLACE(STR(?influencedBy3),\"[é]\",\"e\") AS ?influencedBy4)\n",
    "  BIND(REPLACE(STR(?influencedBy4),\"J. M. Keynes\", \"John Maynard Keynes\") AS ?influencedBy)\n",
    "        ?economist dbo:influenced ?influenced1 .\n",
    "        BIND(STRAFTER(STR(?influenced1),\"http://dbpedia.org/resource/\") AS ?influenced2)\n",
    "  BIND(REPLACE(STR(?influenced2),\"[_]\",\" \") AS ?influenced3)\n",
    "  BIND(REPLACE(STR(?influenced3),\"[é]\",\"e\") AS ?influenced4)\n",
    "  BIND(REPLACE(STR(?influenced4),\"J. M. Keynes\", \"John Maynard Keynes\") AS ?influenced)\n",
    "        FILTER (xsd:date (?Birth_Date) > \"1800-01-01\"^^xsd:date)\n",
    "        FILTER (str(?influenced) != \"\")\n",
    "        FILTER (str(?influencedBy) != \"\")\n",
    "}\n",
    "\"\"\""
   ]
  },
  {
   "cell_type": "code",
   "execution_count": 4,
   "id": "korean-advancement",
   "metadata": {},
   "outputs": [],
   "source": [
    "sparql = SPARQLWrapper(\"https://dbpedia.org/sparql\")"
   ]
  },
  {
   "cell_type": "code",
   "execution_count": 5,
   "id": "local-necklace",
   "metadata": {},
   "outputs": [],
   "source": [
    "sparql.setQuery(query)\n",
    "sparql.setReturnFormat(JSON)"
   ]
  },
  {
   "cell_type": "code",
   "execution_count": 6,
   "id": "married-tobacco",
   "metadata": {},
   "outputs": [
    {
     "data": {
      "text/plain": [
       "dict"
      ]
     },
     "execution_count": 6,
     "metadata": {},
     "output_type": "execute_result"
    }
   ],
   "source": [
    "rc = sparql.queryAndConvert()\n",
    "type(rc)"
   ]
  },
  {
   "cell_type": "code",
   "execution_count": 7,
   "id": "soviet-boulder",
   "metadata": {},
   "outputs": [
    {
     "data": {
      "text/plain": [
       "692"
      ]
     },
     "execution_count": 7,
     "metadata": {},
     "output_type": "execute_result"
    }
   ],
   "source": [
    "# Number of rows in the result\n",
    "len(rc['results']['bindings'])"
   ]
  },
  {
   "cell_type": "code",
   "execution_count": 19,
   "id": "clear-directory",
   "metadata": {},
   "outputs": [
    {
     "name": "stdout",
     "output_type": "stream",
     "text": [
      "{'economist': {'type': 'uri', 'value': 'http://dbpedia.org/resource/Ludwig_Lachmann'}, 'name': {'type': 'literal', 'xml:lang': 'en', 'value': ''}, 'influencedBy': {'type': 'literal', 'value': 'Ludwig von Mises'}, 'influenced': {'type': 'literal', 'value': 'Don Lavoie'}}\n",
      "{'economist': {'type': 'uri', 'value': 'http://dbpedia.org/resource/Ludwig_Lachmann'}, 'name': {'type': 'literal', 'xml:lang': 'en', 'value': 'Ludwig Lachmann'}, 'influencedBy': {'type': 'literal', 'value': 'Ludwig von Mises'}, 'influenced': {'type': 'literal', 'value': 'Don Lavoie'}}\n",
      "{'economist': {'type': 'uri', 'value': 'http://dbpedia.org/resource/Ludwig_Lachmann'}, 'name': {'type': 'literal', 'xml:lang': 'en', 'value': ''}, 'influencedBy': {'type': 'literal', 'value': 'Ludwig von Mises'}, 'influenced': {'type': 'literal', 'value': 'Bruce Caldwell (historian of economic thought)'}}\n",
      "{'economist': {'type': 'uri', 'value': 'http://dbpedia.org/resource/Ludwig_Lachmann'}, 'name': {'type': 'literal', 'xml:lang': 'en', 'value': 'Ludwig Lachmann'}, 'influencedBy': {'type': 'literal', 'value': 'Ludwig von Mises'}, 'influenced': {'type': 'literal', 'value': 'Bruce Caldwell (historian of economic thought)'}}\n",
      "{'economist': {'type': 'uri', 'value': 'http://dbpedia.org/resource/Ludwig_Lachmann'}, 'name': {'type': 'literal', 'xml:lang': 'en', 'value': ''}, 'influencedBy': {'type': 'literal', 'value': 'Alfred Schutz'}, 'influenced': {'type': 'literal', 'value': 'Don Lavoie'}}\n"
     ]
    }
   ],
   "source": [
    "# Inspect the first three rows\n",
    "i = 0\n",
    "for l in rc['results']['bindings']:\n",
    "    if i < 5:\n",
    "        print(l)\n",
    "        i += 1"
   ]
  },
  {
   "cell_type": "code",
   "execution_count": 35,
   "id": "blessed-tourism",
   "metadata": {},
   "outputs": [],
   "source": [
    "# Extract the values from the first five rows\n",
    "i = 0\n",
    "results= []\n",
    "for l in rc['results']['bindings']:\n",
    "    if i < 10000 :\n",
    "        try: \n",
    "            name = l['name']['value']\n",
    "            result.append([l['economist']['value'],l['influencedBy']['value'], l['influenced']['value']])\n",
    "        except :\n",
    "            try: \n",
    "                name = l['prefLabel']['value']\n",
    "                result.append([l['economist']['value'],l['influencedBy']['value'], l['influenced']['value']])\n",
    "            except :\n",
    "                result.append([l['economist']['value'],l['influencedBy']['value'], l['influenced']['value']])\n",
    "\n",
    "        i += 1"
   ]
  },
  {
   "cell_type": "code",
   "execution_count": 36,
   "id": "behind-mambo",
   "metadata": {},
   "outputs": [
    {
     "name": "stdout",
     "output_type": "stream",
     "text": [
      "Index([], dtype='object')\n"
     ]
    }
   ],
   "source": [
    "df = pd.DataFrame(results, columns=['economist','influencedBy', 'influenced'])\n",
    "print(df.index)"
   ]
  },
  {
   "cell_type": "code",
   "execution_count": 34,
   "id": "minus-kentucky",
   "metadata": {},
   "outputs": [
    {
     "name": "stdout",
     "output_type": "stream",
     "text": [
      "[['http://dbpedia.org/resource/Ludwig_Lachmann' 'Ludwig von Mises'\n",
      "  'Don Lavoie']\n",
      " ['http://dbpedia.org/resource/Ludwig_Lachmann' 'Ludwig von Mises'\n",
      "  'Don Lavoie']\n",
      " ['http://dbpedia.org/resource/Ludwig_Lachmann' 'Ludwig von Mises'\n",
      "  'Bruce Caldwell (historian of economic thought)']\n",
      " ...\n",
      " ['http://dbpedia.org/resource/Mark_Gertler_(economist)' 'Ben Bernanke'\n",
      "  'Jordi Galí']\n",
      " ['http://dbpedia.org/resource/Wolfgang_Stützel' 'John Maynard Keynes'\n",
      "  'Peter Bofinger']\n",
      " ['http://dbpedia.org/resource/Wolfgang_Stützel' 'John Maynard Keynes'\n",
      "  'Heiner Flassbeck']]\n"
     ]
    },
    {
     "name": "stderr",
     "output_type": "stream",
     "text": [
      "/home/sylvain/anaconda3/envs/Github/lib/python3.7/site-packages/ipykernel_launcher.py:1: FutureWarning: Method .as_matrix will be removed in a future version. Use .values instead.\n",
      "  \"\"\"Entry point for launching an IPython kernel.\n"
     ]
    }
   ],
   "source": [
    "MAdr=df.as_matrix()\n",
    "print(MAdr)"
   ]
  },
  {
   "cell_type": "code",
   "execution_count": null,
   "id": "aggressive-client",
   "metadata": {},
   "outputs": [],
   "source": []
  },
  {
   "cell_type": "code",
   "execution_count": 37,
   "id": "standing-supervision",
   "metadata": {},
   "outputs": [
    {
     "ename": "TypeError",
     "evalue": "list indices must be integers or slices, not str",
     "output_type": "error",
     "traceback": [
      "\u001b[0;31m---------------------------------------------------------------------------\u001b[0m",
      "\u001b[0;31mTypeError\u001b[0m                                 Traceback (most recent call last)",
      "\u001b[0;32m<ipython-input-37-40f7e799a0a3>\u001b[0m in \u001b[0;36m<module>\u001b[0;34m\u001b[0m\n\u001b[1;32m      1\u001b[0m \u001b[0mnet\u001b[0m\u001b[0;34m=\u001b[0m\u001b[0mnx\u001b[0m\u001b[0;34m.\u001b[0m\u001b[0mGraph\u001b[0m\u001b[0;34m(\u001b[0m\u001b[0;34m)\u001b[0m\u001b[0;34m\u001b[0m\u001b[0;34m\u001b[0m\u001b[0m\n\u001b[0;32m----> 2\u001b[0;31m \u001b[0;32mfor\u001b[0m \u001b[0mresult\u001b[0m \u001b[0;32min\u001b[0m \u001b[0mresults\u001b[0m\u001b[0;34m[\u001b[0m\u001b[0;34m'economist'\u001b[0m\u001b[0;34m]\u001b[0m\u001b[0;34m:\u001b[0m\u001b[0;34m\u001b[0m\u001b[0;34m\u001b[0m\u001b[0m\n\u001b[0m\u001b[1;32m      3\u001b[0m     \u001b[0;32mfor\u001b[0m \u001b[0mi\u001b[0m \u001b[0;32min\u001b[0m \u001b[0mrange\u001b[0m\u001b[0;34m(\u001b[0m\u001b[0mlen\u001b[0m\u001b[0;34m(\u001b[0m\u001b[0mresult\u001b[0m\u001b[0;34m[\u001b[0m\u001b[0;34m'economist'\u001b[0m\u001b[0;34m]\u001b[0m\u001b[0;34m[\u001b[0m\u001b[0;34m'influenced'\u001b[0m\u001b[0;34m]\u001b[0m\u001b[0;34m)\u001b[0m\u001b[0;34m)\u001b[0m\u001b[0;34m:\u001b[0m\u001b[0;34m\u001b[0m\u001b[0;34m\u001b[0m\u001b[0m\n\u001b[1;32m      4\u001b[0m         \u001b[0meco\u001b[0m\u001b[0;34m=\u001b[0m\u001b[0mresult\u001b[0m\u001b[0;34m[\u001b[0m\u001b[0;34m'economist'\u001b[0m\u001b[0;34m]\u001b[0m\u001b[0;34m[\u001b[0m\u001b[0;34m'influenced'\u001b[0m\u001b[0;34m]\u001b[0m\u001b[0;34m[\u001b[0m\u001b[0mi\u001b[0m\u001b[0;34m]\u001b[0m\u001b[0;34m[\u001b[0m\u001b[0;34m'influencedBy'\u001b[0m\u001b[0;34m]\u001b[0m\u001b[0;34m\u001b[0m\u001b[0;34m\u001b[0m\u001b[0m\n\u001b[1;32m      5\u001b[0m         \u001b[0;32mif\u001b[0m \u001b[0meconomist\u001b[0m \u001b[0;32mnot\u001b[0m \u001b[0;32min\u001b[0m \u001b[0mnet\u001b[0m\u001b[0;34m:\u001b[0m\u001b[0;34m\u001b[0m\u001b[0;34m\u001b[0m\u001b[0m\n",
      "\u001b[0;31mTypeError\u001b[0m: list indices must be integers or slices, not str"
     ]
    }
   ],
   "source": [
    "net=nx.Graph()\n",
    "for result in results['economist']:    \n",
    "    for i in range(len(result['economist']['influenced'])):\n",
    "        eco=result['economist']['influenced'][i]['influencedBy']\n",
    "        if economist not in net:\n",
    "            net.add_node(eco, rc=rc[economist], nEconomist=0)\n",
    "for result in results['economist']:    \n",
    "    for i in range(len(result['economist']['influenced'])-1):\n",
    "        eco1=result['economist']['influenced'][i]['influencedBy']\n",
    "        net.nodes[eco1]['nEconomists']+=1\n",
    "        for j in range(i+1, len(result['economist']['influenced'])):\n",
    "            eco2=result['economist']['influenced'][j]['influencedBy']\n",
    "            net.nodes[eco2]['nEconomists']+=1\n",
    "            net.add_edge(eco1,eco2)"
   ]
  },
  {
   "cell_type": "code",
   "execution_count": null,
   "id": "meaningful-fields",
   "metadata": {},
   "outputs": [],
   "source": []
  }
 ],
 "metadata": {
  "kernelspec": {
   "display_name": "Python 3",
   "language": "python",
   "name": "python3"
  },
  "language_info": {
   "codemirror_mode": {
    "name": "ipython",
    "version": 3
   },
   "file_extension": ".py",
   "mimetype": "text/x-python",
   "name": "python",
   "nbconvert_exporter": "python",
   "pygments_lexer": "ipython3",
   "version": "3.7.9"
  }
 },
 "nbformat": 4,
 "nbformat_minor": 5
}
