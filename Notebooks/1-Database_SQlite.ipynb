{
 "cells": [
  {
   "cell_type": "markdown",
   "id": "regional-termination",
   "metadata": {},
   "source": [
    "# Creation of a database SQlite"
   ]
  },
  {
   "cell_type": "markdown",
   "id": "alone-metro",
   "metadata": {},
   "source": [
    "In this notebook, we are going to show how to create an SQLite database. This SQLite database will be very useful not to execute SPARQL queries every time.\n",
    "In addition, with the database, can put some comments to remind us how to realize queries.\n",
    "Finally, it will be possible to enter the response to a request and thus not to execute the request each time. "
   ]
  },
  {
   "cell_type": "code",
   "execution_count": 2,
   "id": "marked-thumb",
   "metadata": {},
   "outputs": [],
   "source": [
    "# Import libraries usefull\n",
    "\n",
    "from SPARQLWrapper import SPARQLWrapper, SPARQLWrapper2, JSON, TURTLE, XML, RDFXML\n",
    "import pprint\n",
    "import csv\n",
    "# from bs4 import BeautifulSoup\n",
    "\n",
    "from collections import Counter\n",
    "from operator import itemgetter\n",
    "import pandas as pd\n",
    "\n",
    "import sqlite3 as sql\n",
    "import time\n",
    "\n",
    "from importlib import reload\n",
    "from shutil import copyfile"
   ]
  },
  {
   "cell_type": "code",
   "execution_count": 3,
   "id": "expected-japanese",
   "metadata": {},
   "outputs": [],
   "source": [
    "import sparql_functions as spqf # It's made-home library created by Francesco Beretta\n",
    "# so they must to be in the same folder as this file."
   ]
  },
  {
   "cell_type": "code",
   "execution_count": 4,
   "id": "finnish-novelty",
   "metadata": {},
   "outputs": [],
   "source": [
    "### Connexion to a SQL Database or create it if it doesn't exist yet\n",
    "# into the indicated folder\n",
    "\n",
    "cn = sql.connect('data/sparql_queries.db')"
   ]
  },
  {
   "cell_type": "code",
   "execution_count": 5,
   "id": "trying-cable",
   "metadata": {},
   "outputs": [
    {
     "name": "stdout",
     "output_type": "stream",
     "text": [
      "('2021-07-02 16:35:54',)\n"
     ]
    }
   ],
   "source": [
    "## A  cursor is an object that allows you to execute queries on the database by isolating them properly\n",
    "c = cn.cursor()\n",
    "\n",
    "##  https://www.sqlite.org/lang_datefunc.html\n",
    "# this checks then it is well connect to the database with the current local time\n",
    "c.execute(\"SELECT datetime('now', 'localtime')\")\n",
    "print(c.fetchone())"
   ]
  },
  {
   "cell_type": "code",
   "execution_count": 5,
   "id": "noble-bones",
   "metadata": {},
   "outputs": [],
   "source": [
    "## This close the database\n",
    "cn.close()"
   ]
  },
  {
   "cell_type": "code",
   "execution_count": 6,
   "id": "convenient-grass",
   "metadata": {},
   "outputs": [],
   "source": [
    "db = 'data/sparql_queries.db'   ### 'data/database.db'"
   ]
  },
  {
   "cell_type": "code",
   "execution_count": 7,
   "id": "beautiful-delhi",
   "metadata": {
    "tags": []
   },
   "outputs": [],
   "source": [
    "cn = sql.connect(db)\n",
    "c = cn.cursor()\n",
    "\n",
    "# Create table of the queries\n",
    "\n",
    "c.execute('''CREATE TABLE query (pk_query INTEGER PRIMARY KEY,\n",
    "label VARCHAR (100),\n",
    "database VARCHAR (100),\n",
    "description TEXT,\n",
    "project VARCHAR (150),\n",
    "sparql_endpoint VARCHAR (250),\n",
    "query TEXT,\n",
    "notes TEXT, \n",
    "timestmp text DEFAULT ((datetime('now','localtime'))))\n",
    "''')\n",
    "\n",
    "# Save (commit) the changes\n",
    "# disable # cn.commit()\n",
    "cn.close()"
   ]
  },
  {
   "cell_type": "code",
   "execution_count": 8,
   "id": "accredited-output",
   "metadata": {},
   "outputs": [],
   "source": [
    "cn = sql.connect(db)\n",
    "c = cn.cursor()\n",
    "\n",
    "# Create table \n",
    "\n",
    "c.execute('''CREATE TABLE result (pk_result INTEGER PRIMARY KEY,\n",
    "fk_query INTEGER REFERENCES \"query\" (pk_query) MATCH SIMPLE,\n",
    "description TEXT,\n",
    "result TEXT,\n",
    "insert_data_into TEXT,\n",
    "notes TEXT, \n",
    "timestmp text DEFAULT ((datetime('now','localtime'))))\n",
    "''')\n",
    "\n",
    "# Save (commit) the changes\n",
    "# disable # cn.commit()\n",
    "cn.close()"
   ]
  },
  {
   "cell_type": "code",
   "execution_count": 10,
   "id": "impossible-grant",
   "metadata": {},
   "outputs": [
    {
     "data": {
      "text/plain": [
       "'20210702_121235'"
      ]
     },
     "execution_count": 10,
     "metadata": {},
     "output_type": "execute_result"
    }
   ],
   "source": [
    "### This function gets and formates the time during the execution \n",
    "\n",
    "# definition\n",
    "def timestamp_formatted_for_file_name():\n",
    "    is_now = time.strftime('%Y%m%d_%H%M%S')\n",
    "    return is_now\n",
    "\n",
    "# execution\n",
    "timestamp_formatted_for_file_name()"
   ]
  },
  {
   "cell_type": "code",
   "execution_count": 11,
   "id": "likely-therapy",
   "metadata": {},
   "outputs": [],
   "source": [
    "### This defines the file addresses of the existing one and the new one.\n",
    "\n",
    "original_db = 'data/sparql_queries.db'\n",
    "\n",
    "# the suffix \".sqlite\" is arbitrary but in the .gitignore configuration, \n",
    "#.sqlite is excluded to the GIT versioning, contrarily to .db \n",
    "\n",
    "timestamped_db_copy = 'data/sparql_queries_' + timestamp_formatted_for_file_name() + '.sqlite'"
   ]
  },
  {
   "cell_type": "code",
   "execution_count": 12,
   "id": "distinguished-interface",
   "metadata": {},
   "outputs": [
    {
     "data": {
      "text/plain": [
       "'data/sparql_queries_bis_20210702_121249.sqlite'"
      ]
     },
     "execution_count": 12,
     "metadata": {},
     "output_type": "execute_result"
    }
   ],
   "source": [
    "### Create a copy\n",
    "\n",
    "## This copy is useful only if some modifications will be added to the database and preserve the last state before modifications.\n",
    "\n",
    "## Documentation:\n",
    "# https://docs.python.org/3/library/shutil.htmlcopied_db = copyfile(original_db, timestamped_db_copy)\n",
    "\n",
    "copied_db = copyfile(original_db, timestamped_db_copy)\n",
    "copied_db"
   ]
  },
  {
   "cell_type": "code",
   "execution_count": null,
   "id": "secondary-apparel",
   "metadata": {},
   "outputs": [],
   "source": []
  }
 ],
 "metadata": {
  "kernelspec": {
   "display_name": "Python 3",
   "language": "python",
   "name": "python3"
  },
  "language_info": {
   "codemirror_mode": {
    "name": "ipython",
    "version": 3
   },
   "file_extension": ".py",
   "mimetype": "text/x-python",
   "name": "python",
   "nbconvert_exporter": "python",
   "pygments_lexer": "ipython3",
   "version": "3.7.9"
  }
 },
 "nbformat": 4,
 "nbformat_minor": 5
}
