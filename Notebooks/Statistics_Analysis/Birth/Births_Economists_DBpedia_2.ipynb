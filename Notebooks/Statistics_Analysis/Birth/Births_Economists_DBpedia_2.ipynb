{
 "cells": [
  {
   "cell_type": "markdown",
   "id": "french-minority",
   "metadata": {},
   "source": [
    "# The birth of the economists on DBpedia"
   ]
  },
  {
   "cell_type": "markdown",
   "id": "intellectual-angle",
   "metadata": {},
   "source": [
    "We will extract data on economists through requests to DBpedia."
   ]
  },
  {
   "cell_type": "code",
   "execution_count": 1,
   "id": "informed-kennedy",
   "metadata": {},
   "outputs": [],
   "source": [
    "from SPARQLWrapper import SPARQLWrapper, SPARQLWrapper2, JSON, TURTLE, XML, RDFXML\n",
    "import pprint\n",
    "import csv\n",
    "import matplotlib.pyplot as plt\n",
    "import numpy as np \n",
    "from collections import Counter\n",
    "from operator import itemgetter\n",
    "import pandas as pd"
   ]
  },
  {
   "cell_type": "code",
   "execution_count": 2,
   "id": "general-aircraft",
   "metadata": {},
   "outputs": [],
   "source": [
    "sparql = SPARQLWrapper(\"https://dbpedia.org/sparql\") ##, returnFormat=RDFXML)"
   ]
  },
  {
   "cell_type": "code",
   "execution_count": 120,
   "id": "removable-marks",
   "metadata": {},
   "outputs": [],
   "source": [
    "query = \"\"\"\n",
    "PREFIX foaf: <http://xmlns.com/foaf/0.1/>\n",
    "PREFIX dbo: <http://dbpedia.org/ontology/>\n",
    "PREFIX owl: <http://www.w3.org/2002/07/owl#>\n",
    "PREFIX dbp: <http://dbpedia.org/property/>\n",
    "PREFIX  dbr:  <http://dbpedia.org/resource/>\n",
    "\n",
    "SELECT DISTINCT ?economist ?name (year(xsd:dateTime(?Birth_Date)) AS ?year)\n",
    "\n",
    "WHERE\n",
    "     {\n",
    "        {?economist ?propriety dbr:Economist .\n",
    "        ?economist foaf:name ?name .\n",
    "        ?economist dbp:birthDate ?Birth_Date .\n",
    "        ?economist owl:sameAs ?sameAs .\n",
    "        ?economist dbo:abstract ?abstract .\n",
    "\n",
    "        FILTER (xsd:date (?Birth_Date) > \"1800-01-01\"^^xsd:date)\n",
    "        FILTER (CONTAINS(?name, \" \"))\n",
    "      \n",
    "        BIND(STRAFTER(STR(?nationality1),\"http://dbpedia.org/resource/\") AS ?nationality2)\n",
    "        BIND(REPLACE(STR(?nationality2),\"[_]\",\" \") AS ?nationality3)\n",
    "        BIND(REPLACE(STR(?nationality3),\"United States of America\", \"United States\") AS ?nationality4)\n",
    "        BIND(REPLACE(STR(?nationality4),\"Americans\", \"United States\") AS ?nationality5)\n",
    "        BIND(REPLACE(STR(?nationality5),\"American people\", \"United States\") AS ?nationality6)\n",
    "        BIND(REPLACE(STR(?nationality6),\"United States nationality\", \"United States\") AS ?nationality)\n",
    "        }\n",
    "     UNION\n",
    "        {\n",
    "         ?economist a dbo:Economist .\n",
    "        ?economist foaf:name ?name .\n",
    "        ?economist dbp:birthDate ?Birth_Date .\n",
    "        ?economist owl:sameAs ?sameAs .\n",
    "\n",
    "        BIND(STRAFTER(STR(?nationality1),\"http://dbpedia.org/resource/\") AS ?nationality2)\n",
    "        BIND(REPLACE(STR(?nationality2),\"[_]\",\" \") AS ?nationality3)\n",
    "        BIND(REPLACE(STR(?nationality3),\"United States of America\", \"United States\") AS ?nationality4)\n",
    "        BIND(REPLACE(STR(?nationality4),\"Americans\", \"United States\") AS ?nationality5)\n",
    "        BIND(REPLACE(STR(?nationality5),\"American people\", \"United States\") AS ?nationality6)\n",
    "        BIND(REPLACE(STR(?nationality6),\"United States nationality\", \"United States\") AS ?nationality)\n",
    "\n",
    "        FILTER (xsd:date (?Birth_Date) > \"1800-01-01\"^^xsd:date)\n",
    "        }\n",
    "        UNION\n",
    "       {\n",
    "        ?economist a dbo:Professor .\n",
    "        ?economist foaf:name ?name .\n",
    "        ?economist dbp:birthDate ?Birth_Date .\n",
    "        ?economist owl:sameAs ?sameAs .\n",
    "        ?economist dbo:abstract ?abstract .\n",
    "\n",
    "        FILTER (CONTAINS(?abstract, \"Economist\") || CONTAINS(?abstract, \"economist\") || CONTAINS(?abstract, \"économiste\")  || CONTAINS(?abstract, \"Économiste\"))\n",
    "        FILTER (CONTAINS(?name, \" \"))\n",
    "        FILTER (xsd:date (?Birth_Date) > \"1800-01-01\"^^xsd:date)\n",
    "       }\n",
    "       UNION\n",
    "       {\n",
    "        ?economist a dbo:Person .\n",
    "        ?economist foaf:name ?name .\n",
    "        ?economist dbp:birthDate ?Birth_Date .\n",
    "        ?economist owl:sameAs ?sameAs .\n",
    "        ?economist dbo:abstract ?abstract .\n",
    "       \n",
    "       FILTER (CONTAINS(?name, \" \"))\n",
    "        FILTER (CONTAINS(?abstract, \"Economist\") || CONTAINS(?abstract, \"economist\") || CONTAINS(?abstract, \"économiste\")  || CONTAINS(?abstract, \"Économiste\"))\n",
    "        BIND(STRAFTER(STR(?nationality1),\"http://dbpedia.org/resource/\") AS ?nationality2)\n",
    "        BIND(REPLACE(STR(?nationality2),\"[_]\",\" \") AS ?nationality3)\n",
    "        BIND(REPLACE(STR(?nationality3),\"United States of America\", \"United States\") AS ?nationality4)\n",
    "        BIND(REPLACE(STR(?nationality4),\"Americans\", \"United States\") AS ?nationality5)\n",
    "        BIND(REPLACE(STR(?nationality5),\"American people\", \"United States\") AS ?nationality6)\n",
    "        BIND(REPLACE(STR(?nationality6),\"United States nationality\", \"United States\") AS ?nationality)\n",
    "\n",
    "        FILTER (xsd:date (?Birth_Date) > \"1800-01-01\"^^xsd:date)\n",
    "  }\n",
    "     }\n",
    "\"\"\""
   ]
  },
  {
   "cell_type": "code",
   "execution_count": 106,
   "id": "entitled-distinction",
   "metadata": {},
   "outputs": [
    {
     "data": {
      "text/plain": [
       "dict"
      ]
     },
     "execution_count": 106,
     "metadata": {},
     "output_type": "execute_result"
    }
   ],
   "source": [
    "sparql.setQuery(query)\n",
    "sparql.setReturnFormat(JSON)\n",
    "rc = sparql.queryAndConvert()\n",
    "type(rc)"
   ]
  },
  {
   "cell_type": "code",
   "execution_count": 107,
   "id": "french-williams",
   "metadata": {},
   "outputs": [
    {
     "data": {
      "text/plain": [
       "4773"
      ]
     },
     "execution_count": 107,
     "metadata": {},
     "output_type": "execute_result"
    }
   ],
   "source": [
    "# Number of rows in the result\n",
    "len(rc['results']['bindings'])"
   ]
  },
  {
   "cell_type": "code",
   "execution_count": 108,
   "id": "committed-light",
   "metadata": {},
   "outputs": [
    {
     "name": "stdout",
     "output_type": "stream",
     "text": [
      "{'economist': {'type': 'uri', 'value': 'http://dbpedia.org/resource/Lucrezia_Reichlin'}, 'name': {'type': 'literal', 'xml:lang': 'en', 'value': 'Lucrezia Reichlin'}, 'year': {'type': 'typed-literal', 'datatype': 'http://www.w3.org/2001/XMLSchema#integer', 'value': '1954'}}\n",
      "{'economist': {'type': 'uri', 'value': 'http://dbpedia.org/resource/Ludwig_Bamberger'}, 'name': {'type': 'literal', 'xml:lang': 'en', 'value': 'Ludwig Bamberger'}, 'year': {'type': 'typed-literal', 'datatype': 'http://www.w3.org/2001/XMLSchema#integer', 'value': '1823'}}\n",
      "{'economist': {'type': 'uri', 'value': 'http://dbpedia.org/resource/Ludwig_von_Mises'}, 'name': {'type': 'literal', 'xml:lang': 'en', 'value': 'Ludwig von Mises'}, 'year': {'type': 'typed-literal', 'datatype': 'http://www.w3.org/2001/XMLSchema#integer', 'value': '1881'}}\n",
      "{'economist': {'type': 'uri', 'value': 'http://dbpedia.org/resource/Luigi_Amoroso'}, 'name': {'type': 'literal', 'xml:lang': 'en', 'value': 'Luigi Amoroso'}, 'year': {'type': 'typed-literal', 'datatype': 'http://www.w3.org/2001/XMLSchema#integer', 'value': '1886'}}\n",
      "{'economist': {'type': 'uri', 'value': 'http://dbpedia.org/resource/Luigi_Bodio'}, 'name': {'type': 'literal', 'xml:lang': 'en', 'value': 'Luigi Bodio'}, 'year': {'type': 'typed-literal', 'datatype': 'http://www.w3.org/2001/XMLSchema#integer', 'value': '1840'}}\n"
     ]
    }
   ],
   "source": [
    "# Inspect the first three rows\n",
    "i = 0\n",
    "for l in rc['results']['bindings']:\n",
    "    if i < 5:\n",
    "        print(l)\n",
    "        i += 1"
   ]
  },
  {
   "cell_type": "code",
   "execution_count": 109,
   "id": "essential-lightning",
   "metadata": {},
   "outputs": [
    {
     "name": "stdout",
     "output_type": "stream",
     "text": [
      "['http://dbpedia.org/resource/Lucrezia_Reichlin', 'Lucrezia Reichlin', '1954']\n",
      "['http://dbpedia.org/resource/Ludwig_Bamberger', 'Ludwig Bamberger', '1823']\n",
      "['http://dbpedia.org/resource/Ludwig_von_Mises', 'Ludwig von Mises', '1881']\n",
      "['http://dbpedia.org/resource/Luigi_Amoroso', 'Luigi Amoroso', '1886']\n",
      "['http://dbpedia.org/resource/Luigi_Bodio', 'Luigi Bodio', '1840']\n"
     ]
    }
   ],
   "source": [
    "# Extract the values from the first five rows\n",
    "i = 0\n",
    "for l in rc['results']['bindings']:\n",
    "    if i < 5:\n",
    "        try: \n",
    "            name = l['name']['value']\n",
    "            print([l['economist']['value'],name,l['year']['value']])\n",
    "        except :\n",
    "            try: \n",
    "                name = l['prefLabel']['value']\n",
    "                print([l['economist']['value'],name,l['year']['value']])\n",
    "            except :\n",
    "                print([l['economist']['value'],'',l['year']['value']])\n",
    "\n",
    "        i += 1"
   ]
  },
  {
   "cell_type": "code",
   "execution_count": 110,
   "id": "blessed-philadelphia",
   "metadata": {},
   "outputs": [],
   "source": [
    "# Explore\n",
    "yearsList = []\n",
    "for l in rc['results']['bindings']:\n",
    "    yearsList.append(l['year']['value'])"
   ]
  },
  {
   "cell_type": "code",
   "execution_count": 111,
   "id": "expired-taylor",
   "metadata": {},
   "outputs": [
    {
     "data": {
      "text/plain": [
       "('1800', '2000')"
      ]
     },
     "execution_count": 111,
     "metadata": {},
     "output_type": "execute_result"
    }
   ],
   "source": [
    "min(yearsList), max(yearsList)"
   ]
  },
  {
   "cell_type": "code",
   "execution_count": 112,
   "id": "amino-surgeon",
   "metadata": {},
   "outputs": [],
   "source": [
    "yearsList.sort()"
   ]
  },
  {
   "cell_type": "code",
   "execution_count": 113,
   "id": "intensive-speaker",
   "metadata": {},
   "outputs": [
    {
     "data": {
      "text/plain": [
       "[('1800', 1),\n",
       " ('1801', 4),\n",
       " ('1803', 2),\n",
       " ('1804', 3),\n",
       " ('1805', 3),\n",
       " ('1806', 2),\n",
       " ('1807', 1),\n",
       " ('1808', 2),\n",
       " ('1809', 3),\n",
       " ('1810', 2),\n",
       " ('1811', 1),\n",
       " ('1812', 3),\n",
       " ('1813', 5),\n",
       " ('1814', 3),\n",
       " ('1815', 2),\n",
       " ('1816', 2),\n",
       " ('1817', 3),\n",
       " ('1818', 4),\n",
       " ('1819', 2),\n",
       " ('1820', 3),\n",
       " ('1821', 2),\n",
       " ('1822', 6),\n",
       " ('1823', 5),\n",
       " ('1824', 1),\n",
       " ('1825', 3),\n",
       " ('1826', 2),\n",
       " ('1827', 5),\n",
       " ('1828', 2),\n",
       " ('1830', 3),\n",
       " ('1833', 4),\n",
       " ('1834', 5),\n",
       " ('1835', 4),\n",
       " ('1837', 1),\n",
       " ('1838', 8),\n",
       " ('1839', 5),\n",
       " ('1840', 5),\n",
       " ('1841', 6),\n",
       " ('1842', 4),\n",
       " ('1843', 1),\n",
       " ('1844', 5),\n",
       " ('1845', 4),\n",
       " ('1846', 2),\n",
       " ('1847', 7),\n",
       " ('1848', 1),\n",
       " ('1849', 4),\n",
       " ('1850', 4),\n",
       " ('1851', 8),\n",
       " ('1852', 6),\n",
       " ('1853', 6),\n",
       " ('1854', 7),\n",
       " ('1855', 2),\n",
       " ('1856', 6),\n",
       " ('1857', 5),\n",
       " ('1858', 3),\n",
       " ('1859', 5),\n",
       " ('1860', 6),\n",
       " ('1861', 9),\n",
       " ('1862', 7),\n",
       " ('1863', 6),\n",
       " ('1864', 5),\n",
       " ('1865', 10),\n",
       " ('1866', 8),\n",
       " ('1867', 10),\n",
       " ('1868', 6),\n",
       " ('1869', 4),\n",
       " ('1870', 8),\n",
       " ('1871', 5),\n",
       " ('1872', 6),\n",
       " ('1873', 10),\n",
       " ('1874', 13),\n",
       " ('1875', 10),\n",
       " ('1876', 15),\n",
       " ('1877', 10),\n",
       " ('1878', 7),\n",
       " ('1879', 12),\n",
       " ('1880', 10),\n",
       " ('1881', 9),\n",
       " ('1882', 4),\n",
       " ('1883', 16),\n",
       " ('1884', 6),\n",
       " ('1885', 9),\n",
       " ('1886', 18),\n",
       " ('1887', 11),\n",
       " ('1888', 23),\n",
       " ('1889', 10),\n",
       " ('1890', 9),\n",
       " ('1891', 19),\n",
       " ('1892', 18),\n",
       " ('1893', 13),\n",
       " ('1894', 12),\n",
       " ('1895', 10),\n",
       " ('1896', 11),\n",
       " ('1897', 14),\n",
       " ('1898', 18),\n",
       " ('1899', 16),\n",
       " ('1900', 15),\n",
       " ('1901', 18),\n",
       " ('1902', 21),\n",
       " ('1903', 20),\n",
       " ('1904', 26),\n",
       " ('1905', 23),\n",
       " ('1906', 15),\n",
       " ('1907', 22),\n",
       " ('1908', 22),\n",
       " ('1909', 9),\n",
       " ('1910', 29),\n",
       " ('1911', 22),\n",
       " ('1912', 18),\n",
       " ('1913', 20),\n",
       " ('1914', 29),\n",
       " ('1915', 22),\n",
       " ('1916', 18),\n",
       " ('1917', 26),\n",
       " ('1918', 28),\n",
       " ('1919', 20),\n",
       " ('1920', 25),\n",
       " ('1921', 34),\n",
       " ('1922', 39),\n",
       " ('1923', 37),\n",
       " ('1924', 34),\n",
       " ('1925', 45),\n",
       " ('1926', 43),\n",
       " ('1927', 52),\n",
       " ('1928', 47),\n",
       " ('1929', 34),\n",
       " ('1930', 67),\n",
       " ('1931', 52),\n",
       " ('1932', 34),\n",
       " ('1933', 50),\n",
       " ('1934', 39),\n",
       " ('1935', 43),\n",
       " ('1936', 52),\n",
       " ('1937', 51),\n",
       " ('1938', 50),\n",
       " ('1939', 68),\n",
       " ('1940', 59),\n",
       " ('1941', 61),\n",
       " ('1942', 88),\n",
       " ('1943', 93),\n",
       " ('1944', 77),\n",
       " ('1945', 77),\n",
       " ('1946', 98),\n",
       " ('1947', 98),\n",
       " ('1948', 91),\n",
       " ('1949', 93),\n",
       " ('1950', 89),\n",
       " ('1951', 96),\n",
       " ('1952', 87),\n",
       " ('1953', 88),\n",
       " ('1954', 111),\n",
       " ('1955', 86),\n",
       " ('1956', 80),\n",
       " ('1957', 91),\n",
       " ('1958', 93),\n",
       " ('1959', 74),\n",
       " ('1960', 71),\n",
       " ('1961', 93),\n",
       " ('1962', 83),\n",
       " ('1963', 72),\n",
       " ('1964', 65),\n",
       " ('1965', 60),\n",
       " ('1966', 62),\n",
       " ('1967', 62),\n",
       " ('1968', 51),\n",
       " ('1969', 58),\n",
       " ('1970', 46),\n",
       " ('1971', 33),\n",
       " ('1972', 51),\n",
       " ('1973', 40),\n",
       " ('1974', 29),\n",
       " ('1975', 35),\n",
       " ('1976', 22),\n",
       " ('1977', 23),\n",
       " ('1978', 25),\n",
       " ('1979', 19),\n",
       " ('1980', 12),\n",
       " ('1981', 14),\n",
       " ('1982', 11),\n",
       " ('1983', 11),\n",
       " ('1984', 14),\n",
       " ('1985', 8),\n",
       " ('1986', 7),\n",
       " ('1988', 7),\n",
       " ('1989', 5),\n",
       " ('1990', 8),\n",
       " ('1991', 1),\n",
       " ('1993', 2),\n",
       " ('1994', 1),\n",
       " ('1995', 1),\n",
       " ('2000', 1)]"
      ]
     },
     "execution_count": 113,
     "metadata": {},
     "output_type": "execute_result"
    }
   ],
   "source": [
    "counterYearsList= Counter(yearsList)\n",
    "groupedYearsList = list(zip(counterYearsList.keys(), counterYearsList.values()))\n",
    "groupedYearsList"
   ]
  },
  {
   "cell_type": "code",
   "execution_count": 114,
   "id": "unauthorized-organic",
   "metadata": {},
   "outputs": [],
   "source": [
    "# Transform years from string to integer\n",
    "groupedYearsList = [[int(i[0]), i[1]] for i in groupedYearsList]"
   ]
  },
  {
   "cell_type": "code",
   "execution_count": 115,
   "id": "standing-convergence",
   "metadata": {},
   "outputs": [],
   "source": [
    "### Create a list of five years period, i.e. the list of the first year of each period\n",
    "d_list = []\n",
    "period = 5\n",
    "d_start = 1800\n",
    "d_list.append(d_start)\n",
    "\n",
    "i = 0\n",
    "while i < 35:\n",
    "    d_start = d_start + period\n",
    "    d_list.append(d_start)\n",
    "    i += 1"
   ]
  },
  {
   "cell_type": "code",
   "execution_count": 116,
   "id": "prescription-dating",
   "metadata": {},
   "outputs": [
    {
     "name": "stdout",
     "output_type": "stream",
     "text": [
      "[1800, 1805]\n"
     ]
    },
    {
     "data": {
      "text/plain": [
       "(1800, 1975)"
      ]
     },
     "execution_count": 116,
     "metadata": {},
     "output_type": "execute_result"
    }
   ],
   "source": [
    "print(d_list[:2])\n",
    "min(d_list), max(d_list)"
   ]
  },
  {
   "cell_type": "code",
   "execution_count": 117,
   "id": "blank-tomorrow",
   "metadata": {},
   "outputs": [
    {
     "data": {
      "image/png": "[encoded data removed]",
      "text/plain": [
       "<Figure size 1152x576 with 1 Axes>"
      ]
     },
     "metadata": {
      "needs_background": "light"
     },
     "output_type": "display_data"
    }
   ],
   "source": [
    "objects = [l[0] for l in groupedYearsList]\n",
    "eff = [l[1] for l in groupedYearsList]\n",
    "\n",
    "p1 = plt.bar(objects, eff)\n",
    "\n",
    "plt.xticks(d_list)\n",
    "plt.xlabel('Year')\n",
    "plt.ylabel('headcount')\n",
    "plt.title(\"The headcount of economists' nationality\")\n",
    "plt.gcf().set_size_inches(16, 8)\n",
    "plt.xticks(rotation=45)\n",
    "## Change of fontsize and angle of xticklabels\n",
    "plt.show()"
   ]
  },
  {
   "cell_type": "code",
   "execution_count": 118,
   "id": "trying-brighton",
   "metadata": {},
   "outputs": [],
   "source": [
    "# Grouping by five year period\n",
    "i_list = []\n",
    "for i in d_list:\n",
    "    i_n = 0\n",
    "    for l in groupedYearsList:\n",
    "        if l[0] >= i and l[0] < (i + 5):\n",
    "            i_n = i_n + l[1]\n",
    "    i_list.append([i, i_n])"
   ]
  },
  {
   "cell_type": "code",
   "execution_count": 119,
   "id": "bottom-hudson",
   "metadata": {},
   "outputs": [
    {
     "data": {
      "image/png": "[encoded data removed]",
      "text/plain": [
       "<Figure size 1152x576 with 1 Axes>"
      ]
     },
     "metadata": {
      "needs_background": "light"
     },
     "output_type": "display_data"
    }
   ],
   "source": [
    "# Distribution by 5-year period\n",
    "\n",
    "objects = [str(l[0]) for l in i_list]\n",
    "eff = [l[1] for l in i_list]\n",
    "p1 = plt.bar(objects, eff)\n",
    "plt.ylabel('Headcount')\n",
    "plt.title('Births per five year period')\n",
    "plt.gcf().set_size_inches(16, 8)\n",
    "plt.xticks(rotation=45)\n",
    "plt.show()\n"
   ]
  },
  {
   "cell_type": "code",
   "execution_count": null,
   "id": "given-carrier",
   "metadata": {},
   "outputs": [],
   "source": []
  }
 ],
 "metadata": {
  "kernelspec": {
   "display_name": "Python 3",
   "language": "python",
   "name": "python3"
  },
  "language_info": {
   "codemirror_mode": {
    "name": "ipython",
    "version": 3
   },
   "file_extension": ".py",
   "mimetype": "text/x-python",
   "name": "python",
   "nbconvert_exporter": "python",
   "pygments_lexer": "ipython3",
   "version": "3.7.9"
  }
 },
 "nbformat": 4,
 "nbformat_minor": 5
}
