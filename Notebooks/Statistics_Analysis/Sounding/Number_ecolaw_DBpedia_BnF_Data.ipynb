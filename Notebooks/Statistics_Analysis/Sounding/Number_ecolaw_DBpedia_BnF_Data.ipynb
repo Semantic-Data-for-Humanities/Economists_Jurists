{
 "cells": [
  {
   "cell_type": "markdown",
   "id": "documented-possession",
   "metadata": {},
   "source": [
    "# Sounding on DBpedia and BnF.Data"
   ]
  },
  {
   "cell_type": "markdown",
   "id": "accompanied-belize",
   "metadata": {},
   "source": [
    "In this notebook, we will show a query about the number of lawyers and economists on DBpedia and BnF.Data.\n",
    "\n",
    "Unfortunately, we can't run it because the SERVICE clause doesn't works on DBPedia and BnF.Data endpoints. So we will use GraphDB who permits to use them with the SERVICE clause."
   ]
  },
  {
   "cell_type": "markdown",
   "id": "seasonal-filter",
   "metadata": {},
   "source": [
    "## Economist"
   ]
  },
  {
   "cell_type": "markdown",
   "id": "demographic-evanescence",
   "metadata": {},
   "source": [
    "First, we study the number of economists by performing a query that aggregates data from BnF.Data and DBpedia. On DBpedia, we combine the data available from the Wikipedia site and the use of their ontology. Furthermore, the data between DBpedia and BnF.data are aligned."
   ]
  },
  {
   "cell_type": "code",
   "execution_count": null,
   "id": "cloudy-thermal",
   "metadata": {},
   "outputs": [],
   "source": [
    "query = \"\"\"\n",
    "PREFIX foaf: <http://xmlns.com/foaf/0.1/>\n",
    "PREFIX dbo: <http://dbpedia.org/ontology/>\n",
    "PREFIX owl: <http://www.w3.org/2002/07/owl#>\n",
    "PREFIX dbp: <http://dbpedia.org/property/>\n",
    "PREFIX  dbr:  <http://dbpedia.org/resource/>\n",
    "\n",
    "PREFIX  egr:  <http://rdvocab.info/ElementsGr2/>\n",
    "PREFIX skos: <http://www.w3.org/2004/02/skos/core#>\n",
    "\n",
    "PREFIX xsd: <http://www.w3.org/2001/XMLSchema#>\n",
    "\n",
    "SELECT ?s ?name ?prefLabel ?year\n",
    "WHERE\n",
    "  {\n",
    "     {SERVICE <https://data.bnf.fr/sparql>\n",
    "          {SELECT DISTINCT ?s ?name ?prefLabel ?year\n",
    "           WHERE\n",
    "    \n",
    "                  {?s egr:biographicalInformation ?bio .\n",
    "                   ?s egr:dateOfBirth ?bd .\n",
    "                 \n",
    "                   BIND(STRBEFORE(STRAFTER(STR(?bd), \"http://data.bnf.fr/date/\"), \"/\") AS ?year)\n",
    "                   FILTER ( ?year > \"1800\" )\n",
    "                   FILTER ( regex(?bio, \"économiste\", \"i\") || regex(?bio, \"Economist\", \"i\") || regex(?bio, \"professeur d'économie\", \"i\") || regex(?bio, \"économie\", \"i\") ||regex(?bio, \"docteur en économie\", \"i\"))\n",
    "                \n",
    "                   OPTIONAL {?s foaf:name ?name}\n",
    "                   OPTIONAL {?s skos:prefLabel ?prefLabel}\n",
    "                  }\n",
    "          }\n",
    "    }\n",
    "    UNION\n",
    "    {SERVICE <https://DBpedia.org/sparql>\n",
    "          {SELECT DISTINCT ?s ?name (year(xsd:dateTime(?Birth_Date)) AS ?year)\n",
    "           WHERE\n",
    "                { \n",
    "                      {?s a dbo:Economist .\n",
    "                       ?s dbp:birthDate ?Birth_Date .\n",
    "                      FILTER (xsd:date (?Birth_Date) > \"1800-01-01\"^^xsd:date)\n",
    "                      OPTIONAL{?s foaf:name ?name .}\n",
    "\n",
    "                      }\n",
    "                     UNION\n",
    "                     {?s ?propriety dbr:Economist .\n",
    "                      ?s dbp:birthDate ?Birth_Date .\n",
    "                     FILTER (xsd:date (?Birth_Date) > \"1800-01-01\"^^xsd:date)\n",
    "                     OPTIONAL{?s foaf:name ?name .}\n",
    "                     }\n",
    "               }\n",
    "          }\n",
    "    }\n",
    "  }\n",
    "ORDER BY ?year\n",
    "\"\"\""
   ]
  },
  {
   "cell_type": "markdown",
   "id": "streaming-commons",
   "metadata": {},
   "source": [
    "In running the query, we find  4,624 results who could that could fit into the definition of economist, although some results are duplicated because some people have two labels and one is empty."
   ]
  },
  {
   "cell_type": "markdown",
   "id": "assumed-antibody",
   "metadata": {},
   "source": [
    "## Lawyer"
   ]
  },
  {
   "cell_type": "code",
   "execution_count": null,
   "id": "medium-bristol",
   "metadata": {},
   "outputs": [],
   "source": [
    "Secondly, we study the number of lawyer. "
   ]
  },
  {
   "cell_type": "code",
   "execution_count": 4,
   "id": "cathedral-kernel",
   "metadata": {},
   "outputs": [],
   "source": [
    "query = \"\"\"\n",
    "PREFIX foaf: <http://xmlns.com/foaf/0.1/>\n",
    "PREFIX dbo: <http://dbpedia.org/ontology/>\n",
    "PREFIX owl: <http://www.w3.org/2002/07/owl#>\n",
    "PREFIX dbp: <http://dbpedia.org/property/>\n",
    "PREFIX  dbr:  <http://dbpedia.org/resource/>\n",
    "PREFIX rdagroup2elements: <http://rdvocab.info/uri/schema/FRBRentitiesRDA>\n",
    "PREFIX  egr:  <http://rdvocab.info/ElementsGr2/>\n",
    "PREFIX skos: <http://www.w3.org/2004/02/skos/core#>\n",
    "\n",
    "PREFIX xsd: <http://www.w3.org/2001/XMLSchema#>\n",
    "\n",
    "SELECT ?s ?name ?prefLabel ?year\n",
    "WHERE\n",
    "{\n",
    "    {SERVICE <https://data.bnf.fr/sparql>\n",
    "         {SELECT DISTINCT ?s ?name ?prefLabel ?year\n",
    "           WHERE\n",
    "    \n",
    "                  {?s egr:biographicalInformation ?bio .\n",
    "                   ?s egr:dateOfBirth ?bd\n",
    "                   BIND(STRBEFORE(STRAFTER(STR(?bd), \"http://data.bnf.fr/date/\"), \"/\") AS ?year)\n",
    "                   FILTER(?year > \"1800\")\n",
    "                   FILTER ( regex(?bio, \"juriste\", \"i\") || regex(?bio, \"Jurist\", \"i\") || regex(?bio, \"professeur de droit\", \"i\") || regex(?bio, \"Lawyer\", \"i\") ||regex(?bio, \"docteur en droit\", \"i\"))\n",
    "                   OPTIONAL {?s foaf:name ?name}\n",
    "                   OPTIONAL {?s skos:prefLabel ?prefLabel}\n",
    "                  }\n",
    "          }\n",
    "    }\n",
    "   UNION\n",
    "   {\n",
    "    SERVICE <https://DBpedia.org/sparql>\n",
    "       {SELECT DISTINCT ?s ?name (year(xsd:dateTime(?Birth_Date)) AS ?year)\n",
    "          WHERE\n",
    "             {\n",
    "                 {?s ?propriety dbr:Jurist .\n",
    "                  ?s dbp:birthDate ?Birth_Date .\n",
    "                  FILTER (xsd:date (?Birth_Date) > \"1800-01-01\"^^xsd:date)\n",
    "                  OPTIONAL{?s foaf:name ?name .\n",
    "                  FILTER (xsd:string(?name) !=\"Marcus Tullius Cicero\")\n",
    "                          }\n",
    "                 }\n",
    "                UNION\n",
    "                 {?s a dbo:Lawyer .\n",
    "                  ?s dbp:birthDate ?Birth_Date .\n",
    "                  FILTER (xsd:date (?Birth_Date) > \"1800-01-01\"^^xsd:date)\n",
    "                  OPTIONAL{?s foaf:name ?name .\n",
    "                  FILTER (xsd:string(?name) !=\"Marcus Tullius Cicero\")\n",
    "                           }    \n",
    "                 }\n",
    "                UNION\n",
    "                 {?s a dbo:Professor .\n",
    "                  ?s dbp:birthDate ?Birth_Date .\n",
    "                  ?s owl:sameAs ?sameAs .\n",
    "                  ?s dbo:abstract ?abstract .\n",
    "                  FILTER (CONTAINS(?abstract, \"Jurist\") || CONTAINS(?abstract, \"Lawyer\") || CONTAINS(?abstract, \"lawyer\")  || CONTAINS(?abstract, \"jurist\")|| CONTAINS(?abstract, \"juriste\")|| CONTAINS(?abstract, \"Juriste\"))\n",
    "                  OPTIONAL{?s foaf:name ?name .\n",
    "                  FILTER (xsd:string(?name) !=\"Marcus Tullius Cicero\")\n",
    "                           }\n",
    "                  FILTER (xsd:date (?Birth_Date) > \"1800-01-01\"^^xsd:date)\n",
    "                  }\n",
    "             }\n",
    "        }\n",
    "   }\n",
    "}\n",
    "\n",
    "ORDER BY ?year\n",
    "\"\"\""
   ]
  },
  {
   "cell_type": "markdown",
   "id": "bearing-colon",
   "metadata": {},
   "source": [
    "Running the query, we find 6,209 results that could fit into the Jurist/Lawyer definition, although again some results are duplicated."
   ]
  },
  {
   "cell_type": "markdown",
   "id": "studied-cameroon",
   "metadata": {},
   "source": [
    "Then, we tried to combine both queries but GraphDB would not display them, certainly because the query is too heavy."
   ]
  }
 ],
 "metadata": {
  "kernelspec": {
   "display_name": "Python 3",
   "language": "python",
   "name": "python3"
  },
  "language_info": {
   "codemirror_mode": {
    "name": "ipython",
    "version": 3
   },
   "file_extension": ".py",
   "mimetype": "text/x-python",
   "name": "python",
   "nbconvert_exporter": "python",
   "pygments_lexer": "ipython3",
   "version": "3.7.9"
  }
 },
 "nbformat": 4,
 "nbformat_minor": 5
}
