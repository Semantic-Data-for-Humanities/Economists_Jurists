{
 "cells": [
  {
   "cell_type": "code",
   "execution_count": 4,
   "id": "corrected-entrance",
   "metadata": {},
   "outputs": [],
   "source": [
    "    \n",
    "from SPARQLWrapper import SPARQLWrapper, SPARQLWrapper2, JSON, TURTLE, XML, RDFXML\n",
    "import pprint\n",
    "import csv\n",
    "# from bs4 import BeautifulSoup\n",
    "\n",
    "from collections import Counter\n",
    "from operator import itemgetter\n",
    "import pandas as pd\n",
    "\n",
    "import sqlite3 as sql\n",
    "import time\n",
    "\n",
    "from importlib import reload\n",
    "from shutil import copyfile\n",
    "\n",
    "import matplotlib.pyplot as plt\n",
    "import numpy as np\n",
    "import statistics as stat\n",
    "import scipy.stats\n",
    "import pandas as pd\n",
    "import pprint\n",
    "import csv\n",
    "import ast\n",
    "import re\n",
    "from collections import Counter\n",
    "from operator import itemgetter\n",
    "\n",
    "import networkx as nx"
   ]
  },
  {
   "cell_type": "code",
   "execution_count": 56,
   "id": "occupational-relation",
   "metadata": {},
   "outputs": [],
   "source": [
    "### Instructions pour l'installation dans JupyterLab : \n",
    "# https://ipywidgets.readthedocs.io/en/latest/user_install.html#installing-in-jupyterlab-3-0\n",
    "# Utiliser idéalement JupyterLab 3.0\n",
    "\n",
    "from ipywidgets import (\n",
    "    interact, IntSlider, Checkbox,\n",
    "    interactive, SelectMultiple)\n"
   ]
  },
  {
   "cell_type": "code",
   "execution_count": 5,
   "id": "cooperative-score",
   "metadata": {},
   "outputs": [],
   "source": [
    "import sparql_functions as spqf"
   ]
  },
  {
   "cell_type": "code",
   "execution_count": 6,
   "id": "welcome-avatar",
   "metadata": {},
   "outputs": [],
   "source": [
    "### It's define the database ligne to use\n",
    "pk_query = 101\n",
    "\n",
    "# Connexion to the database\n",
    "original_db = 'data/sparql_queries.db'\n",
    "conn = sql.connect(original_db)\n",
    "\n",
    "c = conn.cursor()\n",
    "\n",
    "### It runs the query on the SQLite database to get the row values \n",
    "c.execute('SELECT * FROM query WHERE pk_query = ?', [pk_query]) ### a list around argument is needed for a string longer then one\n",
    "#c.execute('SELECT * FROM query WHERE pk_query = 10')\n",
    "\n",
    "rc = c.fetchone()\n",
    "\n",
    "# close connexion\n",
    "conn.close()\n"
   ]
  },
  {
   "cell_type": "code",
   "execution_count": 7,
   "id": "moving-specific",
   "metadata": {},
   "outputs": [
    {
     "name": "stdout",
     "output_type": "stream",
     "text": [
      "We seek to obtain the nationalities of the individuals. First, we search the label of the nationality. Then, we realise a substring with the SUBSTR clause (gets the first five characters) and it counts) them.\n",
      "-----\n",
      "http://localhost:7200/repositories/IMPORT\n",
      "-----\n",
      "2021-06-16 10:40:31\n",
      "\n",
      "\n",
      "------------------\n",
      "PREFIX ome: <https://ontome.net/class/>\n",
      "PREFIX  bio: <http://vocab.org/bio/0.1/>\n",
      "PREFIX  egr:  <http://rdvocab.info/ElementsGr2/>\n",
      "\n",
      "PREFIX  wd:   <http://www.wikidata.org/entity/>\n",
      "PREFIX  wdt:  <http://www.wikidata.org/prop/direct/>\n",
      "PREFIX rdfs: <http://www.w3.org/2000/01/rdf-schema#>\n",
      "PREFIX owl: <http://www.w3.org/2002/07/owl#>\n",
      "PREFIX rdf: <http://www.w3.org/1999/02/22-rdf-syntax-ns#>\n",
      "\n",
      "PREFIX xsd: <http://www.w3.org/2001/XMLSchema#>\n",
      "\n",
      "SELECT  ?nationality ?count_nationality ?natio\n",
      "WHERE {\n",
      "SELECT Distinct   ?nationality (count(?nationality) AS ?count_nationality) (substr(?nationality, 1,5) AS ?natio)\n",
      "   WHERE\n",
      "      {?person wdt:P27 ?na .\n",
      "        ?na rdfs:label ?nationality\n",
      "            FILTER ( (!regex(?nationality, \"t2\") ) && (!regex(?nationality, \"t1\") )  && (!regex(?nationality, \"t3\") ) && (!regex(?nationality, \"t4\") )  && (!regex(?nationality, \"t8\") ) && (!regex(?nationality, \"t9\") )  && (!regex(?nationality, \"t6\") ) && (!regex(?nationality, \"t7\") ) )\n",
      "      }\n",
      "        GROUP BY ?nationality substr(?nationality, 1,5)\n",
      "\tORDER BY DESC (?count_nationality)\n",
      "}\n",
      "\n",
      "\n",
      "\n",
      "------------------\n",
      "\n"
     ]
    }
   ],
   "source": [
    "print(rc[2] +  \"\\n-----\\n\" + rc[4] +  \"\\n-----\\n\" +   rc[7]+  \"\\n\\n\\n------------------\\n\" +  rc[5] + \"\\n\\n\\n------------------\\n\")"
   ]
  },
  {
   "cell_type": "code",
   "execution_count": 9,
   "id": "representative-shore",
   "metadata": {},
   "outputs": [
    {
     "name": "stdout",
     "output_type": "stream",
     "text": [
      "<class 'dict'>\n"
     ]
    }
   ],
   "source": [
    "### Execute the SPARQL query wrapped in the function in the library _sparql_functions.py_\n",
    "# The first setting correspond to SPARQL Endpoint, the seconde to the query\n",
    "q = spqf.get_json_sparql_result(rc[4],rc[5])"
   ]
  },
  {
   "cell_type": "code",
   "execution_count": 10,
   "id": "special-iceland",
   "metadata": {},
   "outputs": [
    {
     "name": "stdout",
     "output_type": "stream",
     "text": [
      "503\n"
     ]
    }
   ],
   "source": [
    "##### Transform the result into a list with a fonction of the library #####\n",
    "#### Result of the query\n",
    "r_query = [l for l in spqf.sparql_result_to_list(q)]\n",
    "print(len(r_query))\n",
    "#r_query"
   ]
  },
  {
   "cell_type": "code",
   "execution_count": 11,
   "id": "thrown-leave",
   "metadata": {},
   "outputs": [],
   "source": [
    "# Save the list in the CSV format \n",
    "# It is necessary after saving to code all nationalities into continent \n",
    "file= 'spreadsheets/nationalities.csv'\n",
    "with open(file, 'w', newline='') as csvfile:\n",
    "    writ = csv.writer(csvfile, delimiter='|',\n",
    "                            quotechar='\"', quoting=csv.QUOTE_MINIMAL)\n",
    "    writ.writerow(['nationality', 'freq', 'code'])\n",
    "    for l in r_query:\n",
    "        writ.writerow(l)"
   ]
  },
  {
   "cell_type": "code",
   "execution_count": 109,
   "id": "optional-oklahoma",
   "metadata": {},
   "outputs": [],
   "source": [
    "# It opens the file with the continent\n",
    "file= 'spreadsheets/nationalities_coded.csv'\n",
    "file_cont = []\n",
    "with open(file, newline='') as csvfile:\n",
    "    read = csv.reader(csvfile, delimiter='|', quotechar='\"')\n",
    "    for row in read:\n",
    "        file_cont.append(row)"
   ]
  },
  {
   "cell_type": "code",
   "execution_count": 110,
   "id": "norwegian-platinum",
   "metadata": {},
   "outputs": [
    {
     "name": "stdout",
     "output_type": "stream",
     "text": [
      "504\n"
     ]
    },
    {
     "data": {
      "text/plain": [
       "[['United States of America', '25500', 'Unite', 'North Am.'],\n",
       " ['Germany', '12223', 'Germa', 'Europe'],\n",
       " ['Spain', '5396', 'Spain', 'Europe'],\n",
       " ['France', '3933', 'Franc', 'Europe'],\n",
       " ['United Kingdom', '3853', 'Unite', 'Europe'],\n",
       " ['Japan', '3845', 'Japan', 'Asia'],\n",
       " ['Poland', '3016', 'Polan', 'Europe'],\n",
       " ['Brazil', '2721', 'Brazi', 'South Am.'],\n",
       " ['Canada', '2598', 'Canad', 'North Am.']]"
      ]
     },
     "execution_count": 110,
     "metadata": {},
     "output_type": "execute_result"
    }
   ],
   "source": [
    "print(len(file_cont))\n",
    "file_cont[1:10]"
   ]
  },
  {
   "cell_type": "code",
   "execution_count": 111,
   "id": "fresh-criterion",
   "metadata": {},
   "outputs": [
    {
     "name": "stdout",
     "output_type": "stream",
     "text": [
      "503\n"
     ]
    },
    {
     "data": {
      "text/html": [
       "<div>\n",
       "<style scoped>\n",
       "    .dataframe tbody tr th:only-of-type {\n",
       "        vertical-align: middle;\n",
       "    }\n",
       "\n",
       "    .dataframe tbody tr th {\n",
       "        vertical-align: top;\n",
       "    }\n",
       "\n",
       "    .dataframe thead th {\n",
       "        text-align: right;\n",
       "    }\n",
       "</style>\n",
       "<table border=\"1\" class=\"dataframe\">\n",
       "  <thead>\n",
       "    <tr style=\"text-align: right;\">\n",
       "      <th></th>\n",
       "      <th>nationality</th>\n",
       "      <th>continent</th>\n",
       "    </tr>\n",
       "  </thead>\n",
       "  <tbody>\n",
       "    <tr>\n",
       "      <th>0</th>\n",
       "      <td>United States of America</td>\n",
       "      <td>North Am.</td>\n",
       "    </tr>\n",
       "    <tr>\n",
       "      <th>1</th>\n",
       "      <td>Germany</td>\n",
       "      <td>Europe</td>\n",
       "    </tr>\n",
       "    <tr>\n",
       "      <th>2</th>\n",
       "      <td>Spain</td>\n",
       "      <td>Europe</td>\n",
       "    </tr>\n",
       "    <tr>\n",
       "      <th>3</th>\n",
       "      <td>France</td>\n",
       "      <td>Europe</td>\n",
       "    </tr>\n",
       "    <tr>\n",
       "      <th>4</th>\n",
       "      <td>United Kingdom</td>\n",
       "      <td>Europe</td>\n",
       "    </tr>\n",
       "  </tbody>\n",
       "</table>\n",
       "</div>"
      ],
      "text/plain": [
       "                nationality  continent\n",
       "0  United States of America  North Am.\n",
       "1                   Germany     Europe\n",
       "2                     Spain     Europe\n",
       "3                    France     Europe\n",
       "4            United Kingdom     Europe"
      ]
     },
     "execution_count": 111,
     "metadata": {},
     "output_type": "execute_result"
    }
   ],
   "source": [
    "# Keep only the nationality and its continent\n",
    "df_coded_nation = pd.DataFrame(file_cont[1:], columns=['nationality','eff','code', 'continent'])\n",
    "nat_coded = df_coded_nation[['nationality','continent']]\n",
    "print(len(nat_codes))\n",
    "nat_coded.head()"
   ]
  },
  {
   "cell_type": "code",
   "execution_count": 112,
   "id": "affiliated-understanding",
   "metadata": {},
   "outputs": [],
   "source": [
    "## It's define the database ligne to use\n",
    "pk_query = 102\n",
    "\n",
    "# Connexion to the database\n",
    "original_db = 'data/sparql_queries.db'\n",
    "conn = sql.connect(original_db)\n",
    "\n",
    "c = conn.cursor()\n",
    "\n",
    "### It runs the query on the SQLite database to get the row values \n",
    "c.execute('SELECT * FROM query WHERE pk_query = ?', [pk_query]) ### a list around argument is needed for a string longer then one\n",
    "#c.execute('SELECT * FROM query WHERE pk_query = 10')\n",
    "\n",
    "rc = c.fetchone()\n",
    "\n",
    "# close connexion\n",
    "conn.close()\n"
   ]
  },
  {
   "cell_type": "code",
   "execution_count": 113,
   "id": "ahead-zambia",
   "metadata": {},
   "outputs": [
    {
     "name": "stdout",
     "output_type": "stream",
     "text": [
      "We seek to obtain the year of the individuals to analyse the nationalities in the time.\n",
      "-----\n",
      "http://localhost:7200/repositories/IMPORT\n",
      "-----\n",
      "2021-06-16 17:58:19\n",
      "\n",
      "\n",
      "------------------\n",
      "PREFIX ome: <https://ontome.net/class/>\n",
      "PREFIX  bio: <http://vocab.org/bio/0.1/>\n",
      "PREFIX  egr:  <http://rdvocab.info/ElementsGr2/>\n",
      "\n",
      "PREFIX  wd:   <http://www.wikidata.org/entity/>\n",
      "PREFIX  wdt:  <http://www.wikidata.org/prop/direct/>\n",
      "PREFIX rdfs: <http://www.w3.org/2000/01/rdf-schema#>\n",
      "PREFIX owl: <http://www.w3.org/2002/07/owl#>\n",
      "PREFIX rdf: <http://www.w3.org/1999/02/22-rdf-syntax-ns#>\n",
      "\n",
      "PREFIX xsd: <http://www.w3.org/2001/XMLSchema#>\n",
      "SELECT  ?person   ?year ?nationality\n",
      "WHERE{\n",
      "SELECT  ?person ?nationality (ROUND(AVG(?birthDate_avg)) AS ?year)\n",
      "WHERE {\n",
      "    SELECT Distinct ?person ?nationality (YEAR(?bD) AS ?birthDate_avg)\n",
      "   WHERE\n",
      "      {?person wdt:P569 ?bD .\n",
      "       ?person wdt:P27 ?na .\n",
      "       ?na rdfs:label ?nationality\n",
      "        FILTER ( (!regex(?nationality, \"t2\") ) && (!regex(?nationality, \"t1\") )  && (!regex(?nationality, \"t3\") ) && (!regex(?nationality, \"t4\") )  && (!regex(?nationality, \"t8\") ) && (!regex(?nationality, \"t9\") )  && (!regex(?nationality, \"t6\") ) && (!regex(?nationality, \"t7\") ) )\n",
      "      }\n",
      "}\n",
      "   GROUP BY ?person ?nationality\n",
      "}\n",
      "\n",
      "\n",
      "\n",
      "------------------\n",
      "\n"
     ]
    }
   ],
   "source": [
    "print(rc[2] +  \"\\n-----\\n\" + rc[4] +  \"\\n-----\\n\" +   rc[7]+  \"\\n\\n\\n------------------\\n\" +  rc[5] + \"\\n\\n\\n------------------\\n\")"
   ]
  },
  {
   "cell_type": "code",
   "execution_count": 114,
   "id": "indirect-advice",
   "metadata": {},
   "outputs": [
    {
     "name": "stdout",
     "output_type": "stream",
     "text": [
      "<class 'dict'>\n"
     ]
    }
   ],
   "source": [
    "### Execute the SPARQL query wrapped in the function in the library _sparql_functions.py_\n",
    "# The first setting correspond to SPARQL Endpoint, the seconde to the query\n",
    "q = spqf.get_json_sparql_result(rc[4],rc[5])"
   ]
  },
  {
   "cell_type": "code",
   "execution_count": 26,
   "id": "bored-interval",
   "metadata": {},
   "outputs": [
    {
     "name": "stdout",
     "output_type": "stream",
     "text": [
      "118874\n"
     ]
    }
   ],
   "source": [
    "##### Transform the result into a list with a fonction of the library #####\n",
    "#### Result of the query\n",
    "r_query = [l for l in spqf.sparql_result_to_list(q)]\n",
    "print(len(r_query))\n",
    "#r_query"
   ]
  },
  {
   "cell_type": "code",
   "execution_count": 115,
   "id": "careful-mexican",
   "metadata": {},
   "outputs": [],
   "source": [
    "df_result_year = pd.DataFrame(r_query)\n",
    "df_result_year.columns =['uri_entity', 'year', 'nationality']\n"
   ]
  },
  {
   "cell_type": "code",
   "execution_count": 116,
   "id": "valuable-munich",
   "metadata": {},
   "outputs": [
    {
     "data": {
      "text/html": [
       "<div>\n",
       "<style scoped>\n",
       "    .dataframe tbody tr th:only-of-type {\n",
       "        vertical-align: middle;\n",
       "    }\n",
       "\n",
       "    .dataframe tbody tr th {\n",
       "        vertical-align: top;\n",
       "    }\n",
       "\n",
       "    .dataframe thead th {\n",
       "        text-align: right;\n",
       "    }\n",
       "</style>\n",
       "<table border=\"1\" class=\"dataframe\">\n",
       "  <thead>\n",
       "    <tr style=\"text-align: right;\">\n",
       "      <th></th>\n",
       "      <th>uri_entity</th>\n",
       "      <th>year</th>\n",
       "      <th>nationality</th>\n",
       "    </tr>\n",
       "  </thead>\n",
       "  <tbody>\n",
       "    <tr>\n",
       "      <th>0</th>\n",
       "      <td>urn:uuid:fb3527da-478c-4e4f-a861-9de00b9d154b</td>\n",
       "      <td>1959</td>\n",
       "      <td>Canada</td>\n",
       "    </tr>\n",
       "    <tr>\n",
       "      <th>1</th>\n",
       "      <td>urn:uuid:5c7f3133-a15b-4f35-8e17-162cf63207f7</td>\n",
       "      <td>1809</td>\n",
       "      <td>United States of America</td>\n",
       "    </tr>\n",
       "    <tr>\n",
       "      <th>2</th>\n",
       "      <td>urn:uuid:92ebbd17-f4d1-4cdd-816c-5fcf4ba34dce</td>\n",
       "      <td>1912</td>\n",
       "      <td>Germany</td>\n",
       "    </tr>\n",
       "    <tr>\n",
       "      <th>3</th>\n",
       "      <td>urn:uuid:9ce56c33-08da-497c-afb0-38cb6ff6536c</td>\n",
       "      <td>1884</td>\n",
       "      <td>United States of America</td>\n",
       "    </tr>\n",
       "    <tr>\n",
       "      <th>4</th>\n",
       "      <td>urn:uuid:2178758f-d8df-447d-b64b-bd78dfe045b7</td>\n",
       "      <td>1940</td>\n",
       "      <td>Ukraine</td>\n",
       "    </tr>\n",
       "  </tbody>\n",
       "</table>\n",
       "</div>"
      ],
      "text/plain": [
       "                                      uri_entity  year  \\\n",
       "0  urn:uuid:fb3527da-478c-4e4f-a861-9de00b9d154b  1959   \n",
       "1  urn:uuid:5c7f3133-a15b-4f35-8e17-162cf63207f7  1809   \n",
       "2  urn:uuid:92ebbd17-f4d1-4cdd-816c-5fcf4ba34dce  1912   \n",
       "3  urn:uuid:9ce56c33-08da-497c-afb0-38cb6ff6536c  1884   \n",
       "4  urn:uuid:2178758f-d8df-447d-b64b-bd78dfe045b7  1940   \n",
       "\n",
       "                nationality  \n",
       "0                    Canada  \n",
       "1  United States of America  \n",
       "2                   Germany  \n",
       "3  United States of America  \n",
       "4                   Ukraine  "
      ]
     },
     "execution_count": 116,
     "metadata": {},
     "output_type": "execute_result"
    }
   ],
   "source": [
    "df_result_year.head()"
   ]
  },
  {
   "cell_type": "code",
   "execution_count": 117,
   "id": "relevant-prize",
   "metadata": {},
   "outputs": [
    {
     "name": "stdout",
     "output_type": "stream",
     "text": [
      "118874\n"
     ]
    },
    {
     "data": {
      "text/html": [
       "<div>\n",
       "<style scoped>\n",
       "    .dataframe tbody tr th:only-of-type {\n",
       "        vertical-align: middle;\n",
       "    }\n",
       "\n",
       "    .dataframe tbody tr th {\n",
       "        vertical-align: top;\n",
       "    }\n",
       "\n",
       "    .dataframe thead th {\n",
       "        text-align: right;\n",
       "    }\n",
       "</style>\n",
       "<table border=\"1\" class=\"dataframe\">\n",
       "  <thead>\n",
       "    <tr style=\"text-align: right;\">\n",
       "      <th></th>\n",
       "      <th>uri_entity</th>\n",
       "      <th>year</th>\n",
       "      <th>nationality</th>\n",
       "      <th>continent</th>\n",
       "    </tr>\n",
       "  </thead>\n",
       "  <tbody>\n",
       "    <tr>\n",
       "      <th>30</th>\n",
       "      <td>urn:uuid:63cef059-c16a-475c-b4a3-f2b013d705ee</td>\n",
       "      <td>1840</td>\n",
       "      <td>Canada</td>\n",
       "      <td>North Am.</td>\n",
       "    </tr>\n",
       "    <tr>\n",
       "      <th>75943</th>\n",
       "      <td>urn:uuid:63cf0cd9-b90b-423d-8d51-b0792bcba109</td>\n",
       "      <td>1954</td>\n",
       "      <td>Mexico</td>\n",
       "      <td>North Am.</td>\n",
       "    </tr>\n",
       "    <tr>\n",
       "      <th>11123</th>\n",
       "      <td>urn:uuid:63cf62b9-6d0a-4a63-ba09-da3055ea98a0</td>\n",
       "      <td>1872</td>\n",
       "      <td>United States of America</td>\n",
       "      <td>North Am.</td>\n",
       "    </tr>\n",
       "    <tr>\n",
       "      <th>82560</th>\n",
       "      <td>urn:uuid:63d00487-57f8-4fcd-a65d-a59145e0d193</td>\n",
       "      <td>1943</td>\n",
       "      <td>Kingdom of Italy</td>\n",
       "      <td>Europe</td>\n",
       "    </tr>\n",
       "    <tr>\n",
       "      <th>80048</th>\n",
       "      <td>urn:uuid:63d00487-57f8-4fcd-a65d-a59145e0d193</td>\n",
       "      <td>1943</td>\n",
       "      <td>Italy</td>\n",
       "      <td>Europe</td>\n",
       "    </tr>\n",
       "    <tr>\n",
       "      <th>...</th>\n",
       "      <td>...</td>\n",
       "      <td>...</td>\n",
       "      <td>...</td>\n",
       "      <td>...</td>\n",
       "    </tr>\n",
       "    <tr>\n",
       "      <th>13473</th>\n",
       "      <td>urn:uuid:6ab857e2-2483-4f69-8530-e9bc9f1f71f9</td>\n",
       "      <td>1783</td>\n",
       "      <td>United States of America</td>\n",
       "      <td>North Am.</td>\n",
       "    </tr>\n",
       "    <tr>\n",
       "      <th>33884</th>\n",
       "      <td>urn:uuid:6ab96a5f-a592-4ac8-8eeb-a7f1e6721a4f</td>\n",
       "      <td>1943</td>\n",
       "      <td>Germany</td>\n",
       "      <td>Europe</td>\n",
       "    </tr>\n",
       "    <tr>\n",
       "      <th>74929</th>\n",
       "      <td>urn:uuid:6ab9b73e-6411-42eb-ac1b-44eed5106a62</td>\n",
       "      <td>1880</td>\n",
       "      <td>Sweden</td>\n",
       "      <td>Europe</td>\n",
       "    </tr>\n",
       "    <tr>\n",
       "      <th>24496</th>\n",
       "      <td>urn:uuid:6aba2fd6-3ef1-4ba5-b6d5-dc10f2ad876b</td>\n",
       "      <td>1820</td>\n",
       "      <td>United States of America</td>\n",
       "      <td>North Am.</td>\n",
       "    </tr>\n",
       "    <tr>\n",
       "      <th>50</th>\n",
       "      <td>urn:uuid:6aba35f8-ef0f-46d4-ba98-237ea5714570</td>\n",
       "      <td>1907</td>\n",
       "      <td>Canada</td>\n",
       "      <td>North Am.</td>\n",
       "    </tr>\n",
       "  </tbody>\n",
       "</table>\n",
       "<p>3259 rows × 4 columns</p>\n",
       "</div>"
      ],
      "text/plain": [
       "                                          uri_entity  year  \\\n",
       "30     urn:uuid:63cef059-c16a-475c-b4a3-f2b013d705ee  1840   \n",
       "75943  urn:uuid:63cf0cd9-b90b-423d-8d51-b0792bcba109  1954   \n",
       "11123  urn:uuid:63cf62b9-6d0a-4a63-ba09-da3055ea98a0  1872   \n",
       "82560  urn:uuid:63d00487-57f8-4fcd-a65d-a59145e0d193  1943   \n",
       "80048  urn:uuid:63d00487-57f8-4fcd-a65d-a59145e0d193  1943   \n",
       "...                                              ...   ...   \n",
       "13473  urn:uuid:6ab857e2-2483-4f69-8530-e9bc9f1f71f9  1783   \n",
       "33884  urn:uuid:6ab96a5f-a592-4ac8-8eeb-a7f1e6721a4f  1943   \n",
       "74929  urn:uuid:6ab9b73e-6411-42eb-ac1b-44eed5106a62  1880   \n",
       "24496  urn:uuid:6aba2fd6-3ef1-4ba5-b6d5-dc10f2ad876b  1820   \n",
       "50     urn:uuid:6aba35f8-ef0f-46d4-ba98-237ea5714570  1907   \n",
       "\n",
       "                    nationality  continent  \n",
       "30                       Canada  North Am.  \n",
       "75943                    Mexico  North Am.  \n",
       "11123  United States of America  North Am.  \n",
       "82560          Kingdom of Italy     Europe  \n",
       "80048                     Italy     Europe  \n",
       "...                         ...        ...  \n",
       "13473  United States of America  North Am.  \n",
       "33884                   Germany     Europe  \n",
       "74929                    Sweden     Europe  \n",
       "24496  United States of America  North Am.  \n",
       "50                       Canada  North Am.  \n",
       "\n",
       "[3259 rows x 4 columns]"
      ]
     },
     "execution_count": 117,
     "metadata": {},
     "output_type": "execute_result"
    }
   ],
   "source": [
    "# Add the continent of the individuals\n",
    "merged = pd.merge(df_result_year,nat_coded, on='nationality', sort=False)\n",
    "print(len(merged))\n",
    "merged.sort_values(by=['uri_entity']).loc[30:50,]"
   ]
  },
  {
   "cell_type": "code",
   "execution_count": 118,
   "id": "rotary-bubble",
   "metadata": {},
   "outputs": [
    {
     "name": "stdout",
     "output_type": "stream",
     "text": [
      "110618\n"
     ]
    },
    {
     "data": {
      "text/html": [
       "<div>\n",
       "<style scoped>\n",
       "    .dataframe tbody tr th:only-of-type {\n",
       "        vertical-align: middle;\n",
       "    }\n",
       "\n",
       "    .dataframe tbody tr th {\n",
       "        vertical-align: top;\n",
       "    }\n",
       "\n",
       "    .dataframe thead th {\n",
       "        text-align: right;\n",
       "    }\n",
       "</style>\n",
       "<table border=\"1\" class=\"dataframe\">\n",
       "  <thead>\n",
       "    <tr style=\"text-align: right;\">\n",
       "      <th></th>\n",
       "      <th>uri_entity</th>\n",
       "      <th>year</th>\n",
       "      <th>continent</th>\n",
       "    </tr>\n",
       "  </thead>\n",
       "  <tbody>\n",
       "    <tr>\n",
       "      <th>0</th>\n",
       "      <td>urn:uuid:fb3527da-478c-4e4f-a861-9de00b9d154b</td>\n",
       "      <td>1959</td>\n",
       "      <td>North Am.</td>\n",
       "    </tr>\n",
       "    <tr>\n",
       "      <th>1</th>\n",
       "      <td>urn:uuid:41ad1b0e-5f5e-43b6-9137-ea5f6bfe3cf4</td>\n",
       "      <td>1927</td>\n",
       "      <td>North Am.</td>\n",
       "    </tr>\n",
       "    <tr>\n",
       "      <th>2</th>\n",
       "      <td>urn:uuid:98651569-7301-4398-a760-bcb03931dc0f</td>\n",
       "      <td>1955</td>\n",
       "      <td>North Am.</td>\n",
       "    </tr>\n",
       "    <tr>\n",
       "      <th>3</th>\n",
       "      <td>urn:uuid:080c5cc7-c62c-46ec-b0e9-0b98b6adc235</td>\n",
       "      <td>1927</td>\n",
       "      <td>North Am.</td>\n",
       "    </tr>\n",
       "    <tr>\n",
       "      <th>4</th>\n",
       "      <td>urn:uuid:f967d755-8e28-4729-9966-1aa3e0bdba98</td>\n",
       "      <td>1827</td>\n",
       "      <td>North Am.</td>\n",
       "    </tr>\n",
       "    <tr>\n",
       "      <th>5</th>\n",
       "      <td>urn:uuid:50628dbc-50cd-4fd7-93f6-a444c2dac636</td>\n",
       "      <td>1860</td>\n",
       "      <td>North Am.</td>\n",
       "    </tr>\n",
       "    <tr>\n",
       "      <th>6</th>\n",
       "      <td>urn:uuid:d5e86bba-4821-421e-9706-438a58c978a3</td>\n",
       "      <td>1873</td>\n",
       "      <td>North Am.</td>\n",
       "    </tr>\n",
       "    <tr>\n",
       "      <th>7</th>\n",
       "      <td>urn:uuid:84d140c5-57f6-4a86-a8d2-280219e33b79</td>\n",
       "      <td>1882</td>\n",
       "      <td>North Am.</td>\n",
       "    </tr>\n",
       "    <tr>\n",
       "      <th>8</th>\n",
       "      <td>urn:uuid:c9fbd132-1389-44cd-a122-50c8a27dfe45</td>\n",
       "      <td>1900</td>\n",
       "      <td>North Am.</td>\n",
       "    </tr>\n",
       "    <tr>\n",
       "      <th>9</th>\n",
       "      <td>urn:uuid:9e654a4d-24d5-4c27-8e3c-d6915e0a7fb6</td>\n",
       "      <td>1933</td>\n",
       "      <td>North Am.</td>\n",
       "    </tr>\n",
       "  </tbody>\n",
       "</table>\n",
       "</div>"
      ],
      "text/plain": [
       "                                      uri_entity  year  continent\n",
       "0  urn:uuid:fb3527da-478c-4e4f-a861-9de00b9d154b  1959  North Am.\n",
       "1  urn:uuid:41ad1b0e-5f5e-43b6-9137-ea5f6bfe3cf4  1927  North Am.\n",
       "2  urn:uuid:98651569-7301-4398-a760-bcb03931dc0f  1955  North Am.\n",
       "3  urn:uuid:080c5cc7-c62c-46ec-b0e9-0b98b6adc235  1927  North Am.\n",
       "4  urn:uuid:f967d755-8e28-4729-9966-1aa3e0bdba98  1827  North Am.\n",
       "5  urn:uuid:50628dbc-50cd-4fd7-93f6-a444c2dac636  1860  North Am.\n",
       "6  urn:uuid:d5e86bba-4821-421e-9706-438a58c978a3  1873  North Am.\n",
       "7  urn:uuid:84d140c5-57f6-4a86-a8d2-280219e33b79  1882  North Am.\n",
       "8  urn:uuid:c9fbd132-1389-44cd-a122-50c8a27dfe45  1900  North Am.\n",
       "9  urn:uuid:9e654a4d-24d5-4c27-8e3c-d6915e0a7fb6  1933  North Am."
      ]
     },
     "execution_count": 118,
     "metadata": {},
     "output_type": "execute_result"
    }
   ],
   "source": [
    "# drop duplicates\n",
    "## Each person has one year and continent\n",
    "coded_nationalities = merged[['uri_entity','year','continent']].drop_duplicates()\n",
    "print(len(coded_nationalities))\n",
    "coded_nationalities[:10]"
   ]
  },
  {
   "cell_type": "code",
   "execution_count": 119,
   "id": "colored-battle",
   "metadata": {},
   "outputs": [
    {
     "data": {
      "text/plain": [
       "[['1959', 'North Am.'],\n",
       " ['1927', 'North Am.'],\n",
       " ['1955', 'North Am.'],\n",
       " ['1927', 'North Am.'],\n",
       " ['1827', 'North Am.'],\n",
       " ['1860', 'North Am.'],\n",
       " ['1873', 'North Am.'],\n",
       " ['1882', 'North Am.'],\n",
       " ['1900', 'North Am.'],\n",
       " ['1933', 'North Am.']]"
      ]
     },
     "execution_count": 119,
     "metadata": {},
     "output_type": "execute_result"
    }
   ],
   "source": [
    "# Transform to list\n",
    "coded_nat_list = coded_nationalities[['year', 'continent']].values.tolist()\n",
    "coded_nat_list[:10]"
   ]
  },
  {
   "cell_type": "code",
   "execution_count": 138,
   "id": "coral-delta",
   "metadata": {},
   "outputs": [
    {
     "data": {
      "text/plain": [
       "[('Europe', 57951),\n",
       " ('North Am.', 29127),\n",
       " ('South Am.', 8074),\n",
       " ('Asia', 7395),\n",
       " ('Middle East', 2594),\n",
       " ('Africa', 1994),\n",
       " ('Oceania', 1528),\n",
       " ('uncoded', 1172),\n",
       " ('Central Am.', 783)]"
      ]
     },
     "execution_count": 138,
     "metadata": {},
     "output_type": "execute_result"
    }
   ],
   "source": [
    "### Group the list per continent\n",
    "\n",
    "counter= Counter([t[1] for t in coded_nat_list])\n",
    "c_coded_nat_list = list(zip(counter.keys(), counter.values()))\n",
    "sorted_coded_nat_list = sorted(c_coded_nat_list, key=itemgetter(1), reverse=True)\n",
    "sorted_coded_nat_list\n",
    "\n"
   ]
  },
  {
   "cell_type": "code",
   "execution_count": 139,
   "id": "liquid-cemetery",
   "metadata": {},
   "outputs": [
    {
     "data": {
      "text/plain": [
       "continent\n",
       "Europe         57951\n",
       "North Am.      29127\n",
       "South Am.       8074\n",
       "Asia            7395\n",
       "Middle East     2594\n",
       "Africa          1994\n",
       "Oceania         1528\n",
       "uncoded         1172\n",
       "Central Am.      783\n",
       "dtype: int64"
      ]
     },
     "execution_count": 139,
     "metadata": {},
     "output_type": "execute_result"
    }
   ],
   "source": [
    "### Group in series per continent with the 'groupby' function Pandas\n",
    "gb_coded_nationalities = coded_nationalities.groupby('continent').size()\n",
    "gb_coded_nationalities.sort_values(ascending = False)\n",
    "\n"
   ]
  },
  {
   "cell_type": "code",
   "execution_count": 140,
   "id": "asian-filing",
   "metadata": {},
   "outputs": [
    {
     "data": {
      "text/html": [
       "<div>\n",
       "<style scoped>\n",
       "    .dataframe tbody tr th:only-of-type {\n",
       "        vertical-align: middle;\n",
       "    }\n",
       "\n",
       "    .dataframe tbody tr th {\n",
       "        vertical-align: top;\n",
       "    }\n",
       "\n",
       "    .dataframe thead th {\n",
       "        text-align: right;\n",
       "    }\n",
       "</style>\n",
       "<table border=\"1\" class=\"dataframe\">\n",
       "  <thead>\n",
       "    <tr style=\"text-align: right;\">\n",
       "      <th></th>\n",
       "      <th>frequency</th>\n",
       "    </tr>\n",
       "    <tr>\n",
       "      <th>continent</th>\n",
       "      <th></th>\n",
       "    </tr>\n",
       "  </thead>\n",
       "  <tbody>\n",
       "    <tr>\n",
       "      <th>Africa</th>\n",
       "      <td>1994</td>\n",
       "    </tr>\n",
       "    <tr>\n",
       "      <th>Asia</th>\n",
       "      <td>7395</td>\n",
       "    </tr>\n",
       "    <tr>\n",
       "      <th>Central Am.</th>\n",
       "      <td>783</td>\n",
       "    </tr>\n",
       "    <tr>\n",
       "      <th>Europe</th>\n",
       "      <td>57951</td>\n",
       "    </tr>\n",
       "    <tr>\n",
       "      <th>Middle East</th>\n",
       "      <td>2594</td>\n",
       "    </tr>\n",
       "    <tr>\n",
       "      <th>North Am.</th>\n",
       "      <td>29127</td>\n",
       "    </tr>\n",
       "    <tr>\n",
       "      <th>Oceania</th>\n",
       "      <td>1528</td>\n",
       "    </tr>\n",
       "    <tr>\n",
       "      <th>South Am.</th>\n",
       "      <td>8074</td>\n",
       "    </tr>\n",
       "    <tr>\n",
       "      <th>uncoded</th>\n",
       "      <td>1172</td>\n",
       "    </tr>\n",
       "  </tbody>\n",
       "</table>\n",
       "</div>"
      ],
      "text/plain": [
       "             frequency\n",
       "continent             \n",
       "Africa            1994\n",
       "Asia              7395\n",
       "Central Am.        783\n",
       "Europe           57951\n",
       "Middle East       2594\n",
       "North Am.        29127\n",
       "Oceania           1528\n",
       "South Am.         8074\n",
       "uncoded           1172"
      ]
     },
     "execution_count": 140,
     "metadata": {},
     "output_type": "execute_result"
    }
   ],
   "source": [
    "### Transform the object Series into a DataFrame and add the label of the 'frequency' column\n",
    "# continent is define as index\n",
    "df_coded_nat = gb_coded_nationalities.to_frame()\n",
    "df_coded_nat.columns = ['frequency']\n",
    "df_coded_nat\n",
    "\n"
   ]
  },
  {
   "cell_type": "code",
   "execution_count": 123,
   "id": "significant-stamp",
   "metadata": {},
   "outputs": [
    {
     "data": {
      "image/png": "[encoded data removed]",
      "text/plain": [
       "<Figure size 1152x576 with 1 Axes>"
      ]
     },
     "metadata": {
      "needs_background": "light"
     },
     "output_type": "display_data"
    }
   ],
   "source": [
    "\n",
    "\n",
    "# Distribution per year\n",
    "\n",
    "objects = [l for l in df_coded_nat.index]\n",
    "eff = [l for l in df_coded_nat['frequency']]\n",
    "\n",
    "p1 = plt.bar(objects, eff)\n",
    "\n",
    "#plt.xticks(l5Years)\n",
    "plt.ylabel('Frequency')\n",
    "plt.title('Frequency per continent')\n",
    "plt.gcf().set_size_inches(16, 8)\n",
    "#plt.gca().axes.get_xaxis().set_visible(False)\n",
    "# supported formats: eps, pdf, pgf, png, ps, raw, rgba, svg, svgz\n",
    "#plt.savefig('exported_pictures/effectifs_naissances_par_annee.png', dpi=100, bbox_inches = \"tight\") #pdf, svg\n",
    "plt.xticks(rotation=45)\n",
    "plt.show()\n",
    "\n"
   ]
  },
  {
   "cell_type": "code",
   "execution_count": 141,
   "id": "scientific-drink",
   "metadata": {},
   "outputs": [
    {
     "data": {
      "text/plain": [
       "['Europe',\n",
       " 'North Am.',\n",
       " 'South Am.',\n",
       " 'Asia',\n",
       " 'Middle East',\n",
       " 'Africa',\n",
       " 'Oceania',\n",
       " 'uncoded',\n",
       " 'Central Am.']"
      ]
     },
     "execution_count": 141,
     "metadata": {},
     "output_type": "execute_result"
    }
   ],
   "source": [
    "values_l = [x[0] for x in sorted_coded_nat_list]\n",
    "values_l"
   ]
  },
  {
   "cell_type": "code",
   "execution_count": 142,
   "id": "incredible-rough",
   "metadata": {},
   "outputs": [],
   "source": [
    "### Transformer les années en entiers\n",
    "int_coded_nat_list = [[int(l[0]), l[1]] for l in coded_nat_list]"
   ]
  },
  {
   "cell_type": "code",
   "execution_count": 143,
   "id": "departmental-shift",
   "metadata": {},
   "outputs": [],
   "source": [
    "### Create a list with intervals of 10 years, corresponding approximately to one generation.\n",
    "\n",
    "def create_years_list(period = 10, y_start = 1791, y_end = 1801):\n",
    "\n",
    "    y_list = []\n",
    "    y_list.append(y_start)\n",
    "\n",
    "    while y_start < y_end:\n",
    "        y_start += period\n",
    "        y_list.append(y_start)\n",
    "    return y_list"
   ]
  },
  {
   "cell_type": "code",
   "execution_count": 144,
   "id": "seventh-tract",
   "metadata": {},
   "outputs": [],
   "source": [
    "def interactive_nationality_periods(nationality, period = 10, remaining = False):\n",
    "    \n",
    "    output_l = []\n",
    "    work_l = int_coded_nat_list # les années doivent être des entiers\n",
    "    for a in nationality:\n",
    "        prov_l = []\n",
    "        for l in work_l:            \n",
    "            if a == l[1]:\n",
    "                output_l.append(l)\n",
    "            else:\n",
    "                prov_l.append(l)\n",
    "        work_l = prov_l\n",
    "\n",
    "    print('Nationalities: ', len(output_l))\n",
    "    print('The other (unchosen): ',len(work_l))\n",
    "    # print('\\n-----')\n",
    "    \n",
    "    period = period # 20 10\n",
    "    y_list = create_years_list(period = period, y_start = 1771, y_end = 2021)\n",
    "    \n",
    "    \n",
    "    \n",
    "    with plt.style.context(\"ggplot\"):\n",
    "                \n",
    "        fig, ax = plt.subplots(figsize=(16,8)) \n",
    "\n",
    "\n",
    "        width =  period - (period * 10 / 100)\n",
    "\n",
    "        bottom_list = []\n",
    "        i = 0\n",
    "        while i < len(y_list):\n",
    "            bottom_list.append(0)\n",
    "            i += 1\n",
    "\n",
    "        if remaining:\n",
    "            i_list = []\n",
    "            for i in y_list:\n",
    "                i_n = 0\n",
    "                for l in work_l:\n",
    "                    if int(l[0]) >= i and int(l[0]) < (i + period):\n",
    "                        i_n += 1\n",
    "                i_list.append([i, i_n]) \n",
    "            # print('BBB: ', i_list)            \n",
    "            draw_l = [i[1] for i in i_list]\n",
    "            ax.bar(y_list, draw_l, width, bottom = bottom_list, label='remaining' ) #, bottom = bottom_list)\n",
    "            bottom_list = [x + y for x, y in zip(bottom_list, draw_l)]\n",
    "\n",
    "\n",
    "        for a in nationality:\n",
    "            i_list = []\n",
    "            for i in y_list:\n",
    "                i_n = 0\n",
    "                for l in output_l:\n",
    "                    if l[1] == a and int(l[0]) >= i and int(l[0]) < (i + period):\n",
    "                        i_n += 1\n",
    "                i_list.append([i, i_n]) \n",
    "            # print('AAA: ', i_list)            \n",
    "            draw_l = [i[1] for i in i_list]\n",
    "            ax.bar(y_list, draw_l, width, bottom = bottom_list, label=a ) #, bottom = bottom_list)\n",
    "            bottom_list = [x + y for x, y in zip(bottom_list, draw_l)]\n",
    "            # print(bottom_list)\n",
    "\n",
    "\n",
    "\n",
    "        ax.set_ylabel('Frequency')\n",
    "        ax.set_title('Frequency per nationality')\n",
    "        plt.xticks(y_list,rotation=45)\n",
    "\n",
    "        ax.legend()\n",
    "\n",
    "        p_out = plt.show()\n"
   ]
  },
  {
   "cell_type": "code",
   "execution_count": 150,
   "id": "regional-offer",
   "metadata": {},
   "outputs": [],
   "source": [
    "\n",
    "\n",
    "k = interactive(interactive_nationality_periods, nationality=SelectMultiple(\n",
    "    options=sorted(values_l),\n",
    "    value=['Europe',\n",
    " 'North Am.',\n",
    " 'South Am.',\n",
    " 'Asia'],\n",
    "    #rows=10,\n",
    "    description='Nationalities',\n",
    "    disabled=False\n",
    "),  period=IntSlider(min=5, max=50, step=5, value=10),\n",
    "    remaining = Checkbox(\n",
    "    value=False,\n",
    "    description='The other (unchosen)',\n",
    "    disabled=False\n",
    "))\n",
    "\n"
   ]
  },
  {
   "cell_type": "code",
   "execution_count": 151,
   "id": "amino-gospel",
   "metadata": {},
   "outputs": [
    {
     "name": "stdout",
     "output_type": "stream",
     "text": [
      "Nationalities:  102547\n",
      "The other (unchosen):  8071\n"
     ]
    },
    {
     "data": {
      "image/png": "[encoded data removed]",
      "text/plain": [
       "<Figure size 1152x576 with 1 Axes>"
      ]
     },
     "metadata": {},
     "output_type": "display_data"
    }
   ],
   "source": [
    "display(k)"
   ]
  },
  {
   "cell_type": "code",
   "execution_count": null,
   "id": "pressing-classification",
   "metadata": {},
   "outputs": [],
   "source": []
  },
  {
   "cell_type": "code",
   "execution_count": 57,
   "id": "collectible-greensboro",
   "metadata": {},
   "outputs": [],
   "source": [
    "### Create a list with intervals of 20 years, corresponding approximately to one generation.\n",
    "\n",
    "def create_years_list(period = 20, y_start = 1391, y_end = 1801):\n",
    "\n",
    "    y_list = []\n",
    "    y_list.append(y_start)\n",
    "\n",
    "    while y_start < y_end:\n",
    "        y_start += period\n",
    "        y_list.append(y_start)\n",
    "    return y_list"
   ]
  },
  {
   "cell_type": "code",
   "execution_count": 58,
   "id": "returning-genesis",
   "metadata": {},
   "outputs": [],
   "source": [
    "def interactive_nationality_periods(nationality, period = 20, remaining = False):\n",
    "    \n",
    "    output_l = []\n",
    "    work_l = int_coded_nat_list # les années doivent être des entiers\n",
    "    for a in nationality:\n",
    "        prov_l = []\n",
    "        for l in work_l:            \n",
    "            if a == l[1]:\n",
    "                output_l.append(l)\n",
    "            else:\n",
    "                prov_l.append(l)\n",
    "        work_l = prov_l\n",
    "\n",
    "    print('Nationalities: ', len(output_l))\n",
    "    print('The other (unchosen): ',len(work_l))\n",
    "    # print('\\n-----')\n",
    "    \n",
    "    period = period # 20 10\n",
    "    y_list = create_years_list(period = period, y_start = 1771, y_end = 2021)\n",
    "    \n",
    "    \n",
    "    \n",
    "    with plt.style.context(\"ggplot\"):\n",
    "                \n",
    "        fig, ax = plt.subplots(figsize=(16,8)) \n",
    "\n",
    "\n",
    "        width =  period - (period * 20 / 100)\n",
    "\n",
    "        bottom_list = []\n",
    "        i = 0\n",
    "        while i < len(y_list):\n",
    "            bottom_list.append(0)\n",
    "            i += 1\n",
    "\n",
    "        if remaining:\n",
    "            i_list = []\n",
    "            for i in y_list:\n",
    "                i_n = 0\n",
    "                for l in work_l:\n",
    "                    if int(l[0]) >= i and int(l[0]) < (i + period):\n",
    "                        i_n += 1\n",
    "                i_list.append([i, i_n]) \n",
    "            # print('BBB: ', i_list)            \n",
    "            draw_l = [i[1] for i in i_list]\n",
    "            ax.bar(y_list, draw_l, width, bottom = bottom_list, label='remaining' ) #, bottom = bottom_list)\n",
    "            bottom_list = [x + y for x, y in zip(bottom_list, draw_l)]\n",
    "\n",
    "\n",
    "        for a in nationality:\n",
    "            i_list = []\n",
    "            for i in y_list:\n",
    "                i_n = 0\n",
    "                for l in output_l:\n",
    "                    if l[1] == a and int(l[0]) >= i and int(l[0]) < (i + period):\n",
    "                        i_n += 1\n",
    "                i_list.append([i, i_n]) \n",
    "            # print('AAA: ', i_list)            \n",
    "            draw_l = [i[1] for i in i_list]\n",
    "            ax.bar(y_list, draw_l, width, bottom = bottom_list, label=a ) #, bottom = bottom_list)\n",
    "            bottom_list = [x + y for x, y in zip(bottom_list, draw_l)]\n",
    "            # print(bottom_list)\n",
    "\n",
    "\n",
    "\n",
    "        ax.set_ylabel('Frequency')\n",
    "        ax.set_title('Frequency per nationality')\n",
    "        plt.xticks(y_list,rotation=45)\n",
    "\n",
    "        ax.legend()\n",
    "\n",
    "        p_out = plt.show()\n"
   ]
  },
  {
   "cell_type": "code",
   "execution_count": 71,
   "id": "heated-soccer",
   "metadata": {},
   "outputs": [],
   "source": [
    "\n",
    "\n",
    "k = interactive(interactive_nationality_periods, nationality=SelectMultiple(\n",
    "    options=sorted(values_l),\n",
    "    value=['Asia','Europe', 'North Am.'],\n",
    "    #rows=10,\n",
    "    description='Nationalities',\n",
    "    disabled=False\n",
    "),  period=IntSlider(min=5, max=50, step=5, value=20),\n",
    "    remaining = Checkbox(\n",
    "    value=False,\n",
    "    description='The other (unchosen)',\n",
    "    disabled=False\n",
    "))\n",
    "\n"
   ]
  }
 ],
 "metadata": {
  "kernelspec": {
   "display_name": "Python 3",
   "language": "python",
   "name": "python3"
  },
  "language_info": {
   "codemirror_mode": {
    "name": "ipython",
    "version": 3
   },
   "file_extension": ".py",
   "mimetype": "text/x-python",
   "name": "python",
   "nbconvert_exporter": "python",
   "pygments_lexer": "ipython3",
   "version": "3.7.9"
  }
 },
 "nbformat": 4,
 "nbformat_minor": 5
}
