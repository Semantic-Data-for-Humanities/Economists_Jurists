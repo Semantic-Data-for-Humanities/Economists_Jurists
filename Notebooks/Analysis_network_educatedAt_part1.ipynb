{
 "cells": [
  {
   "cell_type": "markdown",
   "id": "minimal-terminology",
   "metadata": {},
   "source": [
    "# **Network analysis - first part**\n",
    "\n",
    "In this notebook, we will create networks between the individuals by their link to the same university at the same period. Then, conversely, we will realize a network between the organizations by the same individual.\n",
    "\n",
    "The relations of the networks are created in an SQLite database. This needs many resources. We will realize in two parts. In this first part, we will only create the networks and in the **[second part](https://github.com/Semantic-Data-for-Humanities/Economists_Jurists/blob/main/Notebooks/Analysis_network_educatedAt_Script_part2.ipynb)**, we will make the analysis. Otherwise, this would exceed the number of bits allowed on Github.\n",
    "\n",
    "Documentation:\n",
    "\n",
    "* [Graph](https://en.wikipedia.org/wiki/Graph_(discrete_mathematics) (Wikipedia en)"
   ]
  },
  {
   "cell_type": "code",
   "execution_count": 1,
   "id": "offshore-attraction",
   "metadata": {},
   "outputs": [],
   "source": [
    "import matplotlib.pyplot as plt\n",
    "import numpy as np\n",
    "import pandas as pd\n",
    "import networkx as nx\n",
    "import sqlite3"
   ]
  },
  {
   "cell_type": "code",
   "execution_count": 138,
   "id": "fancy-posting",
   "metadata": {},
   "outputs": [],
   "source": [
    "import pprint\n",
    "import csv\n",
    "import ast\n",
    "import re\n",
    "\n",
    "from collections import Counter, defaultdict\n",
    "from operator import itemgetter\n",
    "\n",
    "import sqlite3 as sql\n",
    "import time\n",
    "\n",
    "from importlib import reload\n",
    "from shutil import copyfile\n",
    "\n",
    "import math"
   ]
  },
  {
   "cell_type": "code",
   "execution_count": 3,
   "id": "latest-catalog",
   "metadata": {},
   "outputs": [
    {
     "data": {
      "text/html": [
       "<div>\n",
       "<style scoped>\n",
       "    .dataframe tbody tr th:only-of-type {\n",
       "        vertical-align: middle;\n",
       "    }\n",
       "\n",
       "    .dataframe tbody tr th {\n",
       "        vertical-align: top;\n",
       "    }\n",
       "\n",
       "    .dataframe thead th {\n",
       "        text-align: right;\n",
       "    }\n",
       "</style>\n",
       "<table border=\"1\" class=\"dataframe\">\n",
       "  <thead>\n",
       "    <tr style=\"text-align: right;\">\n",
       "      <th></th>\n",
       "      <th>person</th>\n",
       "      <th>name</th>\n",
       "      <th>year_birth</th>\n",
       "      <th>educ_id</th>\n",
       "      <th>educatedAt</th>\n",
       "      <th>longitude</th>\n",
       "      <th>latitude</th>\n",
       "    </tr>\n",
       "  </thead>\n",
       "  <tbody>\n",
       "    <tr>\n",
       "      <th>0</th>\n",
       "      <td>urn:uuid:fb3527da-478c-4e4f-a861-9de00b9d154b</td>\n",
       "      <td>Stephen Harper</td>\n",
       "      <td>1959.0</td>\n",
       "      <td>http://www.wikidata.org/entity/Q1067471</td>\n",
       "      <td>University of Calgary</td>\n",
       "      <td>-114.133056</td>\n",
       "      <td>51.077500</td>\n",
       "    </tr>\n",
       "    <tr>\n",
       "      <th>1</th>\n",
       "      <td>urn:uuid:9ce56c33-08da-497c-afb0-38cb6ff6536c</td>\n",
       "      <td>Joseph C. O'Mahoney</td>\n",
       "      <td>1884.0</td>\n",
       "      <td>http://www.wikidata.org/entity/Q49088</td>\n",
       "      <td>Columbia University</td>\n",
       "      <td>-73.961944</td>\n",
       "      <td>40.807500</td>\n",
       "    </tr>\n",
       "    <tr>\n",
       "      <th>2</th>\n",
       "      <td>urn:uuid:9ce56c33-08da-497c-afb0-38cb6ff6536c</td>\n",
       "      <td>Joseph C. O'Mahoney</td>\n",
       "      <td>1884.0</td>\n",
       "      <td>http://www.wikidata.org/entity/Q846101</td>\n",
       "      <td>Georgetown University Law Center</td>\n",
       "      <td>-77.012500</td>\n",
       "      <td>38.898333</td>\n",
       "    </tr>\n",
       "    <tr>\n",
       "      <th>3</th>\n",
       "      <td>urn:uuid:490ab506-b377-4e39-bf39-3d6e3f732a62</td>\n",
       "      <td>Hugh Meade Alcorn, Jr.</td>\n",
       "      <td>1907.0</td>\n",
       "      <td>http://www.wikidata.org/entity/Q1143289</td>\n",
       "      <td>Yale Law School</td>\n",
       "      <td>-72.928147</td>\n",
       "      <td>41.311581</td>\n",
       "    </tr>\n",
       "    <tr>\n",
       "      <th>4</th>\n",
       "      <td>urn:uuid:490ab506-b377-4e39-bf39-3d6e3f732a62</td>\n",
       "      <td>Hugh Meade Alcorn, Jr.</td>\n",
       "      <td>1907.0</td>\n",
       "      <td>http://www.wikidata.org/entity/Q49116</td>\n",
       "      <td>Dartmouth College</td>\n",
       "      <td>-72.288333</td>\n",
       "      <td>43.703333</td>\n",
       "    </tr>\n",
       "  </tbody>\n",
       "</table>\n",
       "</div>"
      ],
      "text/plain": [
       "                                          person                    name  \\\n",
       "0  urn:uuid:fb3527da-478c-4e4f-a861-9de00b9d154b          Stephen Harper   \n",
       "1  urn:uuid:9ce56c33-08da-497c-afb0-38cb6ff6536c     Joseph C. O'Mahoney   \n",
       "2  urn:uuid:9ce56c33-08da-497c-afb0-38cb6ff6536c     Joseph C. O'Mahoney   \n",
       "3  urn:uuid:490ab506-b377-4e39-bf39-3d6e3f732a62  Hugh Meade Alcorn, Jr.   \n",
       "4  urn:uuid:490ab506-b377-4e39-bf39-3d6e3f732a62  Hugh Meade Alcorn, Jr.   \n",
       "\n",
       "   year_birth                                  educ_id  \\\n",
       "0      1959.0  http://www.wikidata.org/entity/Q1067471   \n",
       "1      1884.0    http://www.wikidata.org/entity/Q49088   \n",
       "2      1884.0   http://www.wikidata.org/entity/Q846101   \n",
       "3      1907.0  http://www.wikidata.org/entity/Q1143289   \n",
       "4      1907.0    http://www.wikidata.org/entity/Q49116   \n",
       "\n",
       "                         educatedAt   longitude   latitude  \n",
       "0             University of Calgary -114.133056  51.077500  \n",
       "1               Columbia University  -73.961944  40.807500  \n",
       "2  Georgetown University Law Center  -77.012500  38.898333  \n",
       "3                   Yale Law School  -72.928147  41.311581  \n",
       "4                 Dartmouth College  -72.288333  43.703333  "
      ]
     },
     "execution_count": 3,
     "metadata": {},
     "output_type": "execute_result"
    }
   ],
   "source": [
    "net = pd.read_csv(\"spreadsheets/Network/network_etucatedAt.csv\", sep=\",\")\n",
    "net=net.rename(columns={\"year\": \"year_birth\"})\n",
    "net.head()"
   ]
  },
  {
   "cell_type": "code",
   "execution_count": 8,
   "id": "excessive-convention",
   "metadata": {},
   "outputs": [],
   "source": [
    "# transform dataframe into SQLite database for create a relation between two persons\n",
    "# It is necessary to realise selfjoin with condition\n",
    "# cf. https://stackoverflow.com/questions/30627968/merge-pandas-dataframes-where-one-value-is-between-two-others\n",
    "conn = sqlite3.connect(':memory:')\n",
    "net.to_sql('net', conn, index=False)"
   ]
  },
  {
   "cell_type": "code",
   "execution_count": 5,
   "id": "royal-dollar",
   "metadata": {},
   "outputs": [],
   "source": [
    "# It is a query with the creation of relations between two people. \n",
    "# Both individuals are related if they went to the same higher education facility at the same period. \n",
    "# The period of the individuals is based on their date of birth. \n",
    "# It would be better to take the first and last of their university education (but few of them are recorded in Wikidata).\n",
    "qry = '''\n",
    "SELECT         net1.name AS person_1,\n",
    "               net2.name AS person_2,\n",
    "               net1.year_birth AS year_1,\n",
    "               net2.year_birth AS year_2,\n",
    "               net1.educatedAt AS educatedAt,\n",
    "               net1.longitude AS longitude,\n",
    "               net1.latitude AS latitude\n",
    "FROM net net1, net net2\n",
    "WHERE net1.name != net2.name\n",
    "AND net1.educatedAt = net2.educatedAt\n",
    "AND net1.year_birth BETWEEN net2.year_birth-6 AND net2.year_birth+6\n",
    "AND net1.longitude = net2.longitude\n",
    "AND net1.latitude = net2.latitude\n",
    "    '''"
   ]
  },
  {
   "cell_type": "code",
   "execution_count": 6,
   "id": "soviet-resident",
   "metadata": {},
   "outputs": [],
   "source": [
    "# Transform the query result into dataframe\n",
    "df = pd.read_sql_query(qry, conn)"
   ]
  },
  {
   "cell_type": "code",
   "execution_count": 7,
   "id": "fleet-logging",
   "metadata": {},
   "outputs": [],
   "source": [
    "df.to_csv(\"spreadsheets/network_educatedAt.csv\", sep=\"|\")"
   ]
  },
  {
   "cell_type": "markdown",
   "id": "ultimate-franklin",
   "metadata": {},
   "source": [
    "## **Link between organizations**"
   ]
  },
  {
   "cell_type": "markdown",
   "id": "recorded-scott",
   "metadata": {},
   "source": [
    "Now, we will realize the same process with the organization. A relation is created when an individual has been in two organizations."
   ]
  },
  {
   "cell_type": "code",
   "execution_count": 77,
   "id": "under-vietnamese",
   "metadata": {},
   "outputs": [],
   "source": [
    "link_edu = '''\n",
    "SELECT         net1.educatedAt AS orga_1,\n",
    "               net2.educatedAt AS orga_2,\n",
    "               net1.name AS person,\n",
    "               net1.year_birth AS birth_year,\n",
    "               net1.longitude AS long_1,\n",
    "               net2.longitude AS long_2,\n",
    "               net1.latitude AS lat_1,\n",
    "               net2.latitude AS lat_2\n",
    "FROM net net1, net net2\n",
    "WHERE net1.name = net2.name\n",
    "AND net1.educatedAt != net2.educatedAt\n",
    "AND net1.longitude != net2.longitude\n",
    "AND net1.latitude != net2.latitude\n",
    "ORDER BY person\n",
    "    '''"
   ]
  },
  {
   "cell_type": "code",
   "execution_count": 78,
   "id": "tropical-novelty",
   "metadata": {},
   "outputs": [],
   "source": [
    "df = pd.read_sql_query(link_edu, conn)"
   ]
  },
  {
   "cell_type": "code",
   "execution_count": 79,
   "id": "stone-today",
   "metadata": {},
   "outputs": [],
   "source": [
    "df.to_csv(\"spreadsheets/Network/network_organizations.csv\", sep=\"|\")"
   ]
  }
 ],
 "metadata": {
  "kernelspec": {
   "display_name": "Python 3",
   "language": "python",
   "name": "python3"
  },
  "language_info": {
   "codemirror_mode": {
    "name": "ipython",
    "version": 3
   },
   "file_extension": ".py",
   "mimetype": "text/x-python",
   "name": "python",
   "nbconvert_exporter": "python",
   "pygments_lexer": "ipython3",
   "version": "3.7.9"
  }
 },
 "nbformat": 4,
 "nbformat_minor": 5
}
