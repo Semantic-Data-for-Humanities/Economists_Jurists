{
 "cells": [
  {
   "cell_type": "markdown",
   "id": "applied-bacteria",
   "metadata": {},
   "source": [
    "# Creation of a database SQlite"
   ]
  },
  {
   "cell_type": "markdown",
   "id": "coordinate-action",
   "metadata": {},
   "source": [
    "In this kernel, we will show how create a fonctional database SQlite. This database makes it possible not to ask the queries every time."
   ]
  },
  {
   "cell_type": "code",
   "execution_count": 1,
   "id": "tamil-tattoo",
   "metadata": {},
   "outputs": [],
   "source": [
    "# Import libraries usefull\n",
    "\n",
    "from SPARQLWrapper import SPARQLWrapper, SPARQLWrapper2, JSON, TURTLE, XML, RDFXML\n",
    "import pprint\n",
    "import csv\n",
    "# from bs4 import BeautifulSoup\n",
    "\n",
    "from collections import Counter\n",
    "from operator import itemgetter\n",
    "import pandas as pd\n",
    "\n",
    "import sqlite3 as sql\n",
    "import time\n",
    "\n",
    "from importlib import reload\n",
    "from shutil import copyfile"
   ]
  },
  {
   "cell_type": "code",
   "execution_count": 2,
   "id": "continued-water",
   "metadata": {},
   "outputs": [],
   "source": [
    "import sparql_functions as spqf # It's made-home library created by Francesco Beretta\n",
    "# so they must to be in the same folder as this file."
   ]
  },
  {
   "cell_type": "code",
   "execution_count": 3,
   "id": "southeast-chase",
   "metadata": {},
   "outputs": [],
   "source": [
    "### Connexion to a SQL Database or create it if it doesn't exist yet\n",
    "# into the indicated folder\n",
    "\n",
    "cn = sql.connect('data/sparql_queries.db')"
   ]
  },
  {
   "cell_type": "code",
   "execution_count": 4,
   "id": "scheduled-appendix",
   "metadata": {},
   "outputs": [
    {
     "name": "stdout",
     "output_type": "stream",
     "text": [
      "('2021-04-22 11:14:53',)\n"
     ]
    }
   ],
   "source": [
    "## A  cursor is an object that allows you to execute queries on the database by isolating them properly\n",
    "c = cn.cursor()\n",
    "\n",
    "##  https://www.sqlite.org/lang_datefunc.html\n",
    "# this checks then it is well connect to the database with the current local time\n",
    "c.execute(\"SELECT datetime('now', 'localtime')\")\n",
    "print(c.fetchone())"
   ]
  },
  {
   "cell_type": "code",
   "execution_count": 5,
   "id": "warming-toronto",
   "metadata": {},
   "outputs": [],
   "source": [
    "## On ferme la base de données\n",
    "cn.close()"
   ]
  },
  {
   "cell_type": "code",
   "execution_count": 10,
   "id": "persistent-boring",
   "metadata": {},
   "outputs": [],
   "source": [
    "db = 'data/sparql_queries.db'   ### 'data/database.db'"
   ]
  },
  {
   "cell_type": "code",
   "execution_count": 11,
   "id": "union-wichita",
   "metadata": {
    "tags": []
   },
   "outputs": [],
   "source": [
    "cn = sql.connect(db)\n",
    "c = cn.cursor()\n",
    "\n",
    "# Create table\n",
    "# c.execute('''DROP TABLE query;''')\n",
    "\n",
    "c.execute('''CREATE TABLE query (pk_query INTEGER PRIMARY KEY,\n",
    "label VARCHAR (100),\n",
    "description TEXT,\n",
    "project VARCHAR (150),\n",
    "sparql_endpoint VARCHAR (250),\n",
    "query TEXT,\n",
    "notes TEXT, \n",
    "timestmp text DEFAULT ((datetime('now','localtime'))))\n",
    "''')\n",
    "\n",
    "# Save (commit) the changes\n",
    "# disable # cn.commit()\n",
    "cn.close()"
   ]
  },
  {
   "cell_type": "code",
   "execution_count": 12,
   "id": "matched-mercury",
   "metadata": {},
   "outputs": [],
   "source": [
    "cn = sql.connect(db)\n",
    "c = cn.cursor()\n",
    "\n",
    "# Create table\n",
    "# c.execute('''DROP TABLE result;''')\n",
    "\n",
    "c.execute('''CREATE TABLE result (pk_result INTEGER PRIMARY KEY,\n",
    "fk_query INTEGER REFERENCES \"query\" (pk_query) MATCH SIMPLE,\n",
    "description TEXT,\n",
    "result TEXT,\n",
    "insert_data_into TEXT,\n",
    "notes TEXT, \n",
    "timestmp text DEFAULT ((datetime('now','localtime'))))\n",
    "''')\n",
    "\n",
    "# Save (commit) the changes\n",
    "# disable # cn.commit()\n",
    "cn.close()"
   ]
  },
  {
   "cell_type": "code",
   "execution_count": 18,
   "id": "partial-republic",
   "metadata": {},
   "outputs": [
    {
     "ename": "OperationalError",
     "evalue": "table entity already exists",
     "output_type": "error",
     "traceback": [
      "\u001b[0;31m---------------------------------------------------------------------------\u001b[0m",
      "\u001b[0;31mOperationalError\u001b[0m                          Traceback (most recent call last)",
      "\u001b[0;32m<ipython-input-18-a2f9abe62bc5>\u001b[0m in \u001b[0;36m<module>\u001b[0;34m\u001b[0m\n\u001b[1;32m     13\u001b[0m              \u001b[0mentity_std_name\u001b[0m \u001b[0mTEXT\u001b[0m\u001b[0;34m,\u001b[0m \u001b[0mnotes\u001b[0m \u001b[0mTEXT\u001b[0m\u001b[0;34m,\u001b[0m\u001b[0;34m\u001b[0m\u001b[0;34m\u001b[0m\u001b[0m\n\u001b[1;32m     14\u001b[0m              \u001b[0mtimestmp\u001b[0m \u001b[0mtext\u001b[0m \u001b[0mDEFAULT\u001b[0m \u001b[0;34m(\u001b[0m\u001b[0;34m(\u001b[0m\u001b[0mdatetime\u001b[0m\u001b[0;34m(\u001b[0m\u001b[0;34m'now'\u001b[0m\u001b[0;34m,\u001b[0m\u001b[0;34m'localtime'\u001b[0m\u001b[0;34m)\u001b[0m\u001b[0;34m)\u001b[0m\u001b[0;34m)\u001b[0m\u001b[0;34m,\u001b[0m\u001b[0;34m\u001b[0m\u001b[0;34m\u001b[0m\u001b[0m\n\u001b[0;32m---> 15\u001b[0;31m              UNIQUE (uri_entity, entity_class, source))''')\n\u001b[0m\u001b[1;32m     16\u001b[0m \u001b[0;31m#\"\"\"\u001b[0m\u001b[0;34m\u001b[0m\u001b[0;34m\u001b[0m\u001b[0;34m\u001b[0m\u001b[0m\n\u001b[1;32m     17\u001b[0m \u001b[0;34m\u001b[0m\u001b[0m\n",
      "\u001b[0;31mOperationalError\u001b[0m: table entity already exists"
     ]
    }
   ],
   "source": [
    "cn = sql.connect(db)\n",
    "c = cn.cursor()\n",
    "\n",
    "# Create table 'entity'\n",
    "# STOP #  \n",
    "#c.execute('''DROP TABLE entity''')\n",
    "#\"\"\"\n",
    "c.execute('''CREATE TABLE entity\n",
    "             (pk_entity INTEGER PRIMARY KEY, local_authority BOOLEAN DEFAULT TRUE, \n",
    "             fk_same_entity INTEGER REFERENCES [entity] (pk_entity) MATCH SIMPLE,\n",
    "             uri_entity TEXT, entity_class TEXT, source TEXT,\n",
    "             fk_query_as_source INTEGER REFERENCES [query] (pk_query) MATCH SIMPLE,\n",
    "             entity_std_name TEXT, notes TEXT, \n",
    "             timestmp text DEFAULT ((datetime('now','localtime'))),\n",
    "             UNIQUE (uri_entity, entity_class, source))''')\n",
    "#\"\"\"\n",
    "\n",
    "# Save (commit) the changes \n",
    "# disable # cn.commit()\n",
    "\n",
    "cn.close()"
   ]
  },
  {
   "cell_type": "code",
   "execution_count": 67,
   "id": "abandoned-speech",
   "metadata": {},
   "outputs": [],
   "source": [
    "cn = sql.connect(db)\n",
    "c = cn.cursor()\n",
    "\n",
    "# Create table 'property'\n",
    "# STOP # c.execute('''DROP TABLE property''')\n",
    "c.execute('''CREATE TABLE property\n",
    "             (pk_property INTEGER PRIMARY KEY, \n",
    "             fk_entity INTEGER REFERENCES [entity] (pk_entity) MATCH SIMPLE,\n",
    "             uri_entity TEXT, property TEXT, value TEXT, \n",
    "             source TEXT, quality INTEGER, fk_query_as_source INTEGER REFERENCES [query] (pk_query) MATCH SIMPLE,\n",
    "             additional_property_1 TEXT, value_1 TEXT,\n",
    "             additional_property_2 TEXT, value_2 TEXT,\n",
    "             additional_property_3 TEXT, value_3 TEXT,\n",
    "             notes TEXT, \n",
    "             timestmp text DEFAULT ((datetime('now','localtime'))),\n",
    "             UNIQUE (uri_entity, property, value, source))''')\n",
    "\n",
    "\n",
    "# Save (commit) the changes \n",
    "# disable #  cn.commit()\n",
    "\n",
    "cn.close()"
   ]
  },
  {
   "cell_type": "code",
   "execution_count": 15,
   "id": "extreme-canberra",
   "metadata": {},
   "outputs": [
    {
     "data": {
      "text/plain": [
       "'20210422_095219'"
      ]
     },
     "execution_count": 15,
     "metadata": {},
     "output_type": "execute_result"
    }
   ],
   "source": [
    "### Fonction qui récupère et met en forme le temps au moment de l'exécution\n",
    "\n",
    "# définition\n",
    "def timestamp_formatted_for_file_name():\n",
    "    is_now = time.strftime('%Y%m%d_%H%M%S')\n",
    "    return is_now\n",
    "\n",
    "# exécution\n",
    "timestamp_formatted_for_file_name()"
   ]
  },
  {
   "cell_type": "code",
   "execution_count": 25,
   "id": "abstract-belfast",
   "metadata": {},
   "outputs": [],
   "source": [
    "### Définir les adresses des fichiers, l'existant et celui à créer\n",
    "original_db = 'data/sparql_queries.db'\n",
    "\n",
    "##  Noter que la différence de suffixe, en soi totalement arbitraire, \n",
    "#  dépend du fait que dans la configuration de .gitignore, .sqlite est exclu du verisonnement GIT\n",
    "#  contrairement à .db qui est versionné\n",
    "timestamped_db_copy = 'data/sparql_queries_' + timestamp_formatted_for_file_name() + '.sqlite'"
   ]
  },
  {
   "cell_type": "code",
   "execution_count": 26,
   "id": "restricted-tiffany",
   "metadata": {},
   "outputs": [
    {
     "data": {
      "text/plain": [
       "'data/sparql_queries_20210422_093251.sqlite'"
      ]
     },
     "execution_count": 26,
     "metadata": {},
     "output_type": "execute_result"
    }
   ],
   "source": [
    "### Créer une copie de sauvegarde avec timestamp du fichier (versionnement manuel)\n",
    "# ATTENTION : la base de données doit exister à l'endroit indiqué !\n",
    "## Cette requête n'est utile que si des modifications en écriture vont être apportées à la base de données,\n",
    "# afin de préserver le dernier état avant modification\n",
    "\n",
    "## Documentation:\n",
    "# https://docs.python.org/3/library/shutil.htmlcopied_db = copyfile(original_db, timestamped_db_copy)\n",
    "\n",
    "copied_db = copyfile(original_db, timestamped_db_copy)\n",
    "copied_db"
   ]
  }
 ],
 "metadata": {
  "kernelspec": {
   "display_name": "Python 3",
   "language": "python",
   "name": "python3"
  },
  "language_info": {
   "codemirror_mode": {
    "name": "ipython",
    "version": 3
   },
   "file_extension": ".py",
   "mimetype": "text/x-python",
   "name": "python",
   "nbconvert_exporter": "python",
   "pygments_lexer": "ipython3",
   "version": "3.7.9"
  }
 },
 "nbformat": 4,
 "nbformat_minor": 5
}
