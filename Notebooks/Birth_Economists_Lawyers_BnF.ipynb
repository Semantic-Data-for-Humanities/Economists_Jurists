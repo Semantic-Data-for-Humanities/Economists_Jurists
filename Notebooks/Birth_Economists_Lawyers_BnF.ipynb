{
 "cells": [
  {
   "cell_type": "markdown",
   "id": "naval-toner",
   "metadata": {},
   "source": [
    "# Lawyers and economists birth distribution on data.bnf"
   ]
  },
  {
   "cell_type": "code",
   "execution_count": 7,
   "id": "talented-reproduction",
   "metadata": {},
   "outputs": [],
   "source": [
    "from SPARQLWrapper import SPARQLWrapper, SPARQLWrapper2, JSON, TURTLE, XML, RDFXML\n",
    "import pprint\n",
    "import csv\n",
    "# from bs4 import BeautifulSoup\n",
    "import matplotlib.pyplot as plt\n",
    "import numpy as np \n",
    "from collections import Counter\n",
    "from operator import itemgetter"
   ]
  },
  {
   "cell_type": "code",
   "execution_count": 8,
   "id": "included-generic",
   "metadata": {},
   "outputs": [],
   "source": [
    "query = \"\"\"\n",
    "\n",
    "PREFIX  egr:  <http://rdvocab.info/ElementsGr2/>\n",
    "PREFIX foaf: <http://xmlns.com/foaf/0.1/>\n",
    "PREFIX skos: <http://www.w3.org/2004/02/skos/core#>\n",
    "\n",
    "SELECT DISTINCT  ?s ?name ?prefLabel ?year ?bio ?pb\n",
    "WHERE\n",
    "  { {\n",
    "\n",
    "\n",
    "    { SELECT DISTINCT  ?s ?bio\n",
    "        WHERE\n",
    "          {   { ?s egr:biographicalInformation ?bio\n",
    "                FILTER ( CONTAINS(?bio, \"Juris\") || CONTAINS(?bio, \"Juriste\") )\n",
    "              }\n",
    "            UNION\n",
    "              { ?s egr:biographicalInformation ?bio\n",
    "                FILTER ( CONTAINS(?bio, \"Economiste\") || CONTAINS(?bio, \"Eco\") )\n",
    "              }\n",
    "          }\n",
    "      }\n",
    "      ?s egr:dateOfBirth ?bd\n",
    "\n",
    "    OPTIONAL {?s egr:placeOfBirth ?pb}\n",
    "    OPTIONAL {?s foaf:name ?name}\n",
    "    OPTIONAL {?s skos:prefLabel ?prefLabel}\n",
    "    }\n",
    "    BIND(STRBEFORE(STRAFTER(STR(?bd), \"http://data.bnf.fr/date/\"), \"/\") AS ?year)\n",
    "    FILTER ( ?year > \"1800\" )\n",
    "  }\n",
    "\n",
    "ORDER BY ?year\n",
    "\"\"\""
   ]
  },
  {
   "cell_type": "code",
   "execution_count": 9,
   "id": "reported-employee",
   "metadata": {},
   "outputs": [],
   "source": [
    "sparql = SPARQLWrapper(\"https://data.bnf.fr/sparql\") "
   ]
  },
  {
   "cell_type": "code",
   "execution_count": 10,
   "id": "waiting-filling",
   "metadata": {},
   "outputs": [],
   "source": [
    "sparql.setQuery(query)\n",
    "sparql.setReturnFormat(JSON)"
   ]
  },
  {
   "cell_type": "code",
   "execution_count": 11,
   "id": "external-degree",
   "metadata": {},
   "outputs": [
    {
     "data": {
      "text/plain": [
       "dict"
      ]
     },
     "execution_count": 11,
     "metadata": {},
     "output_type": "execute_result"
    }
   ],
   "source": [
    "rc = sparql.queryAndConvert()\n",
    "type(rc)"
   ]
  },
  {
   "cell_type": "markdown",
   "id": "encouraging-confusion",
   "metadata": {},
   "source": [
    "**Analyse of the result**"
   ]
  },
  {
   "cell_type": "code",
   "execution_count": 12,
   "id": "sunrise-circle",
   "metadata": {},
   "outputs": [
    {
     "data": {
      "text/plain": [
       "3428"
      ]
     },
     "execution_count": 12,
     "metadata": {},
     "output_type": "execute_result"
    }
   ],
   "source": [
    "# Number of rows in the result\n",
    "len(rc['results']['bindings'])"
   ]
  },
  {
   "cell_type": "code",
   "execution_count": 13,
   "id": "ready-matter",
   "metadata": {},
   "outputs": [
    {
     "name": "stdout",
     "output_type": "stream",
     "text": [
      "{'s': {'type': 'uri', 'value': 'http://data.bnf.fr/ark:/12148/cb12121970x#about'}, 'name': {'type': 'literal', 'value': 'Alphonse Grün'}, 'year': {'type': 'literal', 'value': '1801'}, 'bio': {'type': 'literal', 'value': 'Juriste et journaliste'}, 'pb': {'type': 'literal', 'value': 'Strabourg'}}\n",
      "{'s': {'type': 'uri', 'value': 'http://data.bnf.fr/ark:/12148/cb12962174j#about'}, 'name': {'type': 'literal', 'value': 'János Fogarasi'}, 'year': {'type': 'literal', 'value': '1801'}, 'bio': {'type': 'literal', 'value': 'Linguiste. - Juriste. - Académicien'}, 'pb': {'type': 'literal', 'value': 'Felsőkázsmárk, Hongrie'}}\n",
      "{'s': {'type': 'uri', 'value': 'http://data.bnf.fr/ark:/12148/cb112784662#about'}, 'name': {'type': 'literal', 'value': 'Josef Josefovič Jungmann'}, 'year': {'type': 'literal', 'value': '1801'}, 'bio': {'type': 'literal', 'value': \"Juriste et théoricien de la traduction. - Traducteur du romancier Karl Franz Van der Velde (1779-1824), des librettistes Christian Friedrich Bretzner (1748-1807) et Johann Gottlieb Stephanie le Jeune (1741-1800). - Meurt de la tuberculose. - Fils de l'écrivain Josef Jungmann (1773-1847)\"}, 'pb': {'type': 'literal', 'value': 'Litoměřice (République tchèque)'}}\n"
     ]
    }
   ],
   "source": [
    "# Inspect the first three rows\n",
    "i = 0\n",
    "for l in rc['results']['bindings']:\n",
    "    if i < 3:\n",
    "        print(l)\n",
    "        i += 1"
   ]
  },
  {
   "cell_type": "code",
   "execution_count": 14,
   "id": "electoral-yacht",
   "metadata": {},
   "outputs": [
    {
     "name": "stdout",
     "output_type": "stream",
     "text": [
      "['http://data.bnf.fr/ark:/12148/cb12121970x#about', 'Alphonse Grün', '1801', 'Juriste et journaliste']\n",
      "['http://data.bnf.fr/ark:/12148/cb12962174j#about', 'János Fogarasi', '1801', 'Linguiste. - Juriste. - Académicien']\n",
      "['http://data.bnf.fr/ark:/12148/cb112784662#about', 'Josef Josefovič Jungmann', '1801', \"Juriste et théoricien de la traduction. - Traducteur du romancier Karl Franz Van der Velde (1779-1824), des librettistes Christian Friedrich Bretzner (1748-1807) et Johann Gottlieb Stephanie le Jeune (1741-1800). - Meurt de la tuberculose. - Fils de l'écrivain Josef Jungmann (1773-1847)\"]\n",
      "['http://data.bnf.fr/ark:/12148/cb13204913q#about', 'Achille-François Le Sellyer', '1801', \"Jurisconsulte. - Avocat à la Cour d'Amiens\"]\n",
      "['http://data.bnf.fr/ark:/12148/cb125042402#about', 'John Barnard Byles', '1801', 'Juriste. - Spécialiste du droit commercial']\n"
     ]
    }
   ],
   "source": [
    "# Extract the values from the first five rows\n",
    "i = 0\n",
    "for l in rc['results']['bindings']:\n",
    "    if i < 5:\n",
    "        try: \n",
    "            name = l['name']['value']\n",
    "            print([l['s']['value'],name,l['year']['value'],l['bio']['value']])\n",
    "        except :\n",
    "            try: \n",
    "                name = l['prefLabel']['value']\n",
    "                print([l['s']['value'],name,l['year']['value'],l['bio']['value']])\n",
    "            except :\n",
    "                print([l['s']['value'],'',l['year']['value'],l['bio']['value']])\n",
    "\n",
    "        i += 1"
   ]
  },
  {
   "cell_type": "code",
   "execution_count": 28,
   "id": "arranged-animation",
   "metadata": {},
   "outputs": [],
   "source": [
    "with open('sparql_bnf_1.csv', 'w', newline='') as csvfile:\n",
    "    document = csv.writer(csvfile, delimiter='|',\n",
    "                            quotechar='\"', quoting=csv.QUOTE_MINIMAL)\n",
    "    for l in rc['results']['bindings']:\n",
    "        try: \n",
    "            name = l['name']['value']\n",
    "            document.writerow([l['s']['value'],name,l['year']['value'],l['bio']['value']])\n",
    "        except :\n",
    "            try: \n",
    "                name = l['prefLabel']['value']\n",
    "                document.writerow([l['s']['value'],name,l['year']['value'],l['bio']['value']])\n",
    "            except :\n",
    "                document.writerow([l['s']['value'],'',l['year']['value'],l['bio']['value']])\n"
   ]
  },
  {
   "cell_type": "markdown",
   "id": "demanding-kernel",
   "metadata": {},
   "source": [
    "### Inspects years of birth and count the number of births per year"
   ]
  },
  {
   "cell_type": "code",
   "execution_count": 16,
   "id": "severe-cycling",
   "metadata": {},
   "outputs": [],
   "source": [
    "# Explore\n",
    "yearsList = []\n",
    "for l in rc['results']['bindings']:\n",
    "    yearsList.append(l['year']['value'])"
   ]
  },
  {
   "cell_type": "code",
   "execution_count": 17,
   "id": "still-setup",
   "metadata": {},
   "outputs": [
    {
     "data": {
      "text/plain": [
       "('1801', '1972')"
      ]
     },
     "execution_count": 17,
     "metadata": {},
     "output_type": "execute_result"
    }
   ],
   "source": [
    "min(yearsList), max(yearsList)"
   ]
  },
  {
   "cell_type": "code",
   "execution_count": 18,
   "id": "eligible-liverpool",
   "metadata": {},
   "outputs": [],
   "source": [
    "yearsList.sort()"
   ]
  },
  {
   "cell_type": "code",
   "execution_count": 19,
   "id": "interesting-tracy",
   "metadata": {},
   "outputs": [],
   "source": [
    "# Count births per year\n",
    "counterYearsList = Counter(yearsList)\n",
    "groupedYearsList = list(zip(counterYearsList.keys(), counterYearsList.values()))"
   ]
  },
  {
   "cell_type": "code",
   "execution_count": 20,
   "id": "specific-secret",
   "metadata": {},
   "outputs": [
    {
     "data": {
      "text/plain": [
       "[('1801', 7),\n",
       " ('1802', 13),\n",
       " ('1803', 16),\n",
       " ('1804', 12),\n",
       " ('1805', 13),\n",
       " ('1806', 12),\n",
       " ('1807', 10),\n",
       " ('1808', 22),\n",
       " ('1809', 17),\n",
       " ('1810', 14),\n",
       " ('1811', 11),\n",
       " ('1812', 11),\n",
       " ('1813', 12),\n",
       " ('1814', 9),\n",
       " ('1815', 16),\n",
       " ('1816', 20),\n",
       " ('1817', 20),\n",
       " ('1818', 12),\n",
       " ('1819', 14),\n",
       " ('1820', 11)]"
      ]
     },
     "execution_count": 20,
     "metadata": {},
     "output_type": "execute_result"
    }
   ],
   "source": [
    "groupedYearsList[:20]"
   ]
  },
  {
   "cell_type": "code",
   "execution_count": 21,
   "id": "lonely-blues",
   "metadata": {},
   "outputs": [
    {
     "data": {
      "text/plain": [
       "[[1801, 7], [1802, 13], [1803, 16], [1804, 12], [1805, 13]]"
      ]
     },
     "execution_count": 21,
     "metadata": {},
     "output_type": "execute_result"
    }
   ],
   "source": [
    "# Transform years from string to integer\n",
    "groupedYearsList = [[int(i[0]), i[1]] for i in groupedYearsList]\n",
    "groupedYearsList[:5]"
   ]
  },
  {
   "cell_type": "code",
   "execution_count": 22,
   "id": "located-degree",
   "metadata": {},
   "outputs": [],
   "source": [
    "### Create a list of five years period, i.e. the list of the first year of each period\n",
    "d_list = []\n",
    "period = 5\n",
    "d_start = 1800\n",
    "d_list.append(d_start)\n",
    "\n",
    "i = 0\n",
    "while i < 35:\n",
    "    d_start = d_start + period\n",
    "    d_list.append(d_start)\n",
    "    i += 1"
   ]
  },
  {
   "cell_type": "code",
   "execution_count": 23,
   "id": "opposite-modification",
   "metadata": {},
   "outputs": [
    {
     "name": "stdout",
     "output_type": "stream",
     "text": [
      "[1800, 1805]\n"
     ]
    },
    {
     "data": {
      "text/plain": [
       "(1800, 1975)"
      ]
     },
     "execution_count": 23,
     "metadata": {},
     "output_type": "execute_result"
    }
   ],
   "source": [
    "print(d_list[:2])\n",
    "min(d_list), max(d_list)"
   ]
  },
  {
   "cell_type": "code",
   "execution_count": 24,
   "id": "dynamic-wound",
   "metadata": {},
   "outputs": [],
   "source": [
    "### Births distribution per year and per five year period"
   ]
  },
  {
   "cell_type": "code",
   "execution_count": 25,
   "id": "collaborative-pattern",
   "metadata": {},
   "outputs": [
    {
     "data": {
      "image/png": "[encoded data removed]",
      "text/plain": [
       "<Figure size 1152x576 with 1 Axes>"
      ]
     },
     "metadata": {
      "needs_background": "light"
     },
     "output_type": "display_data"
    }
   ],
   "source": [
    "# Distribution per year\n",
    "objects = [l[0] for l in groupedYearsList]\n",
    "eff = [l[1] for l in groupedYearsList]\n",
    "\n",
    "p1 = plt.bar(objects, eff)\n",
    "\n",
    "plt.xticks(d_list)\n",
    "plt.ylabel('Headcount')\n",
    "plt.title('Births per year')\n",
    "plt.gcf().set_size_inches(16, 8)\n",
    "plt.xticks(rotation=45)\n",
    "plt.show()\n"
   ]
  },
  {
   "cell_type": "code",
   "execution_count": 26,
   "id": "personalized-protest",
   "metadata": {},
   "outputs": [],
   "source": [
    "# Grouping per five year period\n",
    "i_list = []\n",
    "for i in d_list:\n",
    "    i_n = 0\n",
    "    for l in groupedYearsList:\n",
    "        if l[0] >= i and l[0] < (i + 5):\n",
    "            i_n = i_n + l[1]\n",
    "    i_list.append([i, i_n])        "
   ]
  },
  {
   "cell_type": "code",
   "execution_count": 27,
   "id": "personalized-croatia",
   "metadata": {},
   "outputs": [
    {
     "data": {
      "image/png": "[encoded data removed]",
      "text/plain": [
       "<Figure size 1152x576 with 1 Axes>"
      ]
     },
     "metadata": {
      "needs_background": "light"
     },
     "output_type": "display_data"
    }
   ],
   "source": [
    "# Distribution per 5-year period\n",
    "\n",
    "objects = [str(l[0]) for l in i_list]\n",
    "eff = [l[1] for l in i_list]\n",
    "\n",
    "p1 = plt.bar(objects, eff)\n",
    "\n",
    "plt.ylabel('Headcount')\n",
    "plt.title('Births per five year period')\n",
    "plt.gcf().set_size_inches(16, 8)\n",
    "\n",
    "plt.xticks(rotation=45)\n",
    "plt.show()\n"
   ]
  },
  {
   "cell_type": "code",
   "execution_count": null,
   "id": "south-preparation",
   "metadata": {},
   "outputs": [],
   "source": []
  },
  {
   "cell_type": "code",
   "execution_count": null,
   "id": "sufficient-skirt",
   "metadata": {},
   "outputs": [],
   "source": []
  }
 ],
 "metadata": {
  "kernelspec": {
   "display_name": "Python 3",
   "language": "python",
   "name": "python3"
  },
  "language_info": {
   "codemirror_mode": {
    "name": "ipython",
    "version": 3
   },
   "file_extension": ".py",
   "mimetype": "text/x-python",
   "name": "python",
   "nbconvert_exporter": "python",
   "pygments_lexer": "ipython3",
   "version": "3.7.9"
  }
 },
 "nbformat": 4,
 "nbformat_minor": 5
}
