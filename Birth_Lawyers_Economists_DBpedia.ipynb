{
 "cells": [
  {
   "cell_type": "code",
   "execution_count": 285,
   "id": "smooth-august",
   "metadata": {},
   "outputs": [],
   "source": [
    "# Lawyers and economists birth distribution on DBpedia"
   ]
  },
  {
   "cell_type": "code",
   "execution_count": 287,
   "id": "suburban-recipe",
   "metadata": {},
   "outputs": [],
   "source": [
    "from SPARQLWrapper import SPARQLWrapper, SPARQLWrapper2, JSON, TURTLE, XML, RDFXML\n",
    "import pprint\n",
    "import csv\n",
    "# from bs4 import BeautifulSoup\n",
    "import matplotlib.pyplot as plt\n",
    "import numpy as np \n",
    "from collections import Counter\n",
    "from operator import itemgetter\n"
   ]
  },
  {
   "cell_type": "code",
   "execution_count": 288,
   "id": "downtown-fellowship",
   "metadata": {},
   "outputs": [],
   "source": [
    "query = \"\"\"\n",
    "\n",
    "PREFIX xsd: <http://www.w3.org/2001/XMLSchema#>\n",
    "PREFIX foaf: <http://xmlns.com/foaf/0.1/>\n",
    "PREFIX dbo: <http://dbpedia.org/ontology/>\n",
    "PREFIX dbp: <http://dbpedia.org/property/>\n",
    "\n",
    "SELECT DISTINCT ?Person ?name (year(xsd:dateTime(?Birth_Date)) AS ?Year)\n",
    "WHERE\n",
    "{\n",
    "       {?Person a dbo:Person .\n",
    "        ?Person foaf:name ?name .\n",
    "        ?Person dbo:nationality ?nationality .\n",
    "        ?Person dbp:birthDate ?Birth_Date .\n",
    "        ?Person dbo:abstract ?abstract .\n",
    "        FILTER ( CONTAINS(?abstract, \"jurist\"))\n",
    "        FILTER (xsd:date (?Birth_Date) > \"1800-01-01\"^^xsd:date)      \n",
    "        }\n",
    "       UNION\n",
    "        {?Person a dbo:Person .\n",
    "        ?Person foaf:name ?name .\n",
    "        ?Person dbo:nationality ?nationality .\n",
    "        ?Person dbp:birthDate ?dateOfBirth .\n",
    "        ?Person dbo:abstract ?abstract .\n",
    "        FILTER ( CONTAINS(?abstract, \"Economist\"))\n",
    "        FILTER (xsd:date (?Birth_Date) > \"1800-01-01\"^^xsd:date)\n",
    "        }\n",
    "}\n",
    "ORDER BY ?Year\n",
    "\"\"\""
   ]
  },
  {
   "cell_type": "code",
   "execution_count": 289,
   "id": "opening-release",
   "metadata": {},
   "outputs": [],
   "source": [
    "sparql = SPARQLWrapper(\"https://dbpedia.org/sparql\") ##, returnFormat=RDFXML)\n"
   ]
  },
  {
   "cell_type": "code",
   "execution_count": 290,
   "id": "distributed-appreciation",
   "metadata": {},
   "outputs": [],
   "source": [
    "sparql.setQuery(query)\n",
    "sparql.setReturnFormat(JSON)"
   ]
  },
  {
   "cell_type": "code",
   "execution_count": 291,
   "id": "stupid-keyboard",
   "metadata": {},
   "outputs": [
    {
     "data": {
      "text/plain": [
       "dict"
      ]
     },
     "execution_count": 291,
     "metadata": {},
     "output_type": "execute_result"
    }
   ],
   "source": [
    "rc = sparql.queryAndConvert()\n",
    "type(rc)"
   ]
  },
  {
   "cell_type": "code",
   "execution_count": 292,
   "id": "confused-neutral",
   "metadata": {},
   "outputs": [
    {
     "data": {
      "text/plain": [
       "858"
      ]
     },
     "execution_count": 292,
     "metadata": {},
     "output_type": "execute_result"
    }
   ],
   "source": [
    "# Nombre de lignes du résultat\n",
    "len(rc['results']['bindings'])"
   ]
  },
  {
   "cell_type": "markdown",
   "id": "adaptive-auction",
   "metadata": {},
   "source": [
    "### Analyse of the result"
   ]
  },
  {
   "cell_type": "code",
   "execution_count": 293,
   "id": "searching-fireplace",
   "metadata": {},
   "outputs": [
    {
     "data": {
      "text/plain": [
       "858"
      ]
     },
     "execution_count": 293,
     "metadata": {},
     "output_type": "execute_result"
    }
   ],
   "source": [
    "# Number of rows in the result\n",
    "len(rc['results']['bindings'])"
   ]
  },
  {
   "cell_type": "code",
   "execution_count": 294,
   "id": "republican-trial",
   "metadata": {},
   "outputs": [
    {
     "name": "stdout",
     "output_type": "stream",
     "text": [
      "{'Person': {'type': 'uri', 'value': 'http://dbpedia.org/resource/France_Prešeren'}, 'name': {'type': 'literal', 'xml:lang': 'en', 'value': 'France Prešeren'}, 'Year': {'type': 'typed-literal', 'datatype': 'http://www.w3.org/2001/XMLSchema#integer', 'value': '1800'}}\n",
      "{'Person': {'type': 'uri', 'value': 'http://dbpedia.org/resource/Dalmacio_Vélez_Sarsfield'}, 'name': {'type': 'literal', 'xml:lang': 'en', 'value': 'Dalmacio Vélez Sarsfield'}, 'Year': {'type': 'typed-literal', 'datatype': 'http://www.w3.org/2001/XMLSchema#integer', 'value': '1800'}}\n",
      "{'Person': {'type': 'uri', 'value': 'http://dbpedia.org/resource/Wilhelm_Eduard_Wilda'}, 'name': {'type': 'literal', 'xml:lang': 'en', 'value': 'Wilhelm Eduard Wilda'}, 'Year': {'type': 'typed-literal', 'datatype': 'http://www.w3.org/2001/XMLSchema#integer', 'value': '1800'}}\n",
      "{'Person': {'type': 'uri', 'value': 'http://dbpedia.org/resource/Noël_Delfosse'}, 'name': {'type': 'literal', 'xml:lang': 'en', 'value': 'Noël Delfosse'}, 'Year': {'type': 'typed-literal', 'datatype': 'http://www.w3.org/2001/XMLSchema#integer', 'value': '1801'}}\n",
      "{'Person': {'type': 'uri', 'value': 'http://dbpedia.org/resource/William_Wood,_1st_Baron_Hatherley'}, 'name': {'type': 'literal', 'xml:lang': 'en', 'value': 'The Lord Hatherley'}, 'Year': {'type': 'typed-literal', 'datatype': 'http://www.w3.org/2001/XMLSchema#integer', 'value': '1801'}}\n"
     ]
    }
   ],
   "source": [
    "# Inspect the first three rows\n",
    "i = 0\n",
    "for l in rc['results']['bindings']:\n",
    "    if i < 5:\n",
    "        print(l)\n",
    "        i += 1"
   ]
  },
  {
   "cell_type": "code",
   "execution_count": 295,
   "id": "structured-print",
   "metadata": {},
   "outputs": [
    {
     "name": "stdout",
     "output_type": "stream",
     "text": [
      "['http://dbpedia.org/resource/France_Prešeren', 'France Prešeren', '1800']\n",
      "['http://dbpedia.org/resource/Dalmacio_Vélez_Sarsfield', 'Dalmacio Vélez Sarsfield', '1800']\n",
      "['http://dbpedia.org/resource/Wilhelm_Eduard_Wilda', 'Wilhelm Eduard Wilda', '1800']\n",
      "['http://dbpedia.org/resource/Noël_Delfosse', 'Noël Delfosse', '1801']\n",
      "['http://dbpedia.org/resource/William_Wood,_1st_Baron_Hatherley', 'The Lord Hatherley', '1801']\n"
     ]
    }
   ],
   "source": [
    "# Extract the values from the first five rows\n",
    "i = 0\n",
    "for l in rc['results']['bindings']:\n",
    "    if i < 5:\n",
    "        try: \n",
    "            name = l['name']['value']\n",
    "            print([l['Person']['value'],name,l['Year']['value']])\n",
    "        except :\n",
    "            try: \n",
    "                name = l['prefLabel']['value']\n",
    "                print([l['Person']['value'],name,l['Year']['value']])\n",
    "            except :\n",
    "                print([l['Person']['value'],'',l['Year']['value']])\n",
    "\n",
    "        i += 1"
   ]
  },
  {
   "cell_type": "markdown",
   "id": "charming-conversation",
   "metadata": {},
   "source": [
    "### Inspects years of birth and count the number of births per year"
   ]
  },
  {
   "cell_type": "code",
   "execution_count": 296,
   "id": "artistic-dairy",
   "metadata": {},
   "outputs": [],
   "source": [
    "# Explore\n",
    "yearsList = []\n",
    "for l in rc['results']['bindings']:\n",
    "    yearsList.append(l['Year']['value'])"
   ]
  },
  {
   "cell_type": "code",
   "execution_count": 297,
   "id": "fancy-breeding",
   "metadata": {},
   "outputs": [
    {
     "data": {
      "text/plain": [
       "('1800', '1983')"
      ]
     },
     "execution_count": 297,
     "metadata": {},
     "output_type": "execute_result"
    }
   ],
   "source": [
    "min(yearsList), max(yearsList)"
   ]
  },
  {
   "cell_type": "code",
   "execution_count": 298,
   "id": "handy-comment",
   "metadata": {},
   "outputs": [],
   "source": [
    "yearsList.sort()"
   ]
  },
  {
   "cell_type": "code",
   "execution_count": 299,
   "id": "vocal-radiation",
   "metadata": {},
   "outputs": [],
   "source": [
    "# Counts births per year\n",
    "counterYearsList = Counter(yearsList)\n",
    "groupedYearsList = list(zip(counterYearsList.keys(), counterYearsList.values()))"
   ]
  },
  {
   "cell_type": "code",
   "execution_count": 300,
   "id": "earned-sharp",
   "metadata": {},
   "outputs": [
    {
     "data": {
      "text/plain": [
       "[('1800', 3),\n",
       " ('1801', 2),\n",
       " ('1802', 1),\n",
       " ('1805', 1),\n",
       " ('1806', 1),\n",
       " ('1808', 2),\n",
       " ('1809', 4),\n",
       " ('1810', 1),\n",
       " ('1811', 4),\n",
       " ('1812', 3),\n",
       " ('1814', 1),\n",
       " ('1815', 4),\n",
       " ('1816', 3),\n",
       " ('1817', 4),\n",
       " ('1818', 1),\n",
       " ('1819', 1),\n",
       " ('1820', 2),\n",
       " ('1821', 4),\n",
       " ('1822', 6),\n",
       " ('1823', 4),\n",
       " ('1824', 1),\n",
       " ('1825', 2),\n",
       " ('1826', 2),\n",
       " ('1827', 3),\n",
       " ('1828', 4),\n",
       " ('1829', 7),\n",
       " ('1830', 1),\n",
       " ('1831', 4),\n",
       " ('1832', 1),\n",
       " ('1833', 3),\n",
       " ('1834', 4),\n",
       " ('1835', 3),\n",
       " ('1837', 1),\n",
       " ('1838', 2),\n",
       " ('1839', 2),\n",
       " ('1841', 3),\n",
       " ('1842', 1),\n",
       " ('1843', 1),\n",
       " ('1844', 2),\n",
       " ('1845', 3),\n",
       " ('1846', 10),\n",
       " ('1847', 2),\n",
       " ('1848', 1),\n",
       " ('1849', 2),\n",
       " ('1850', 1),\n",
       " ('1851', 2),\n",
       " ('1852', 2),\n",
       " ('1853', 4),\n",
       " ('1854', 1),\n",
       " ('1855', 1)]"
      ]
     },
     "execution_count": 300,
     "metadata": {},
     "output_type": "execute_result"
    }
   ],
   "source": [
    "groupedYearsList[:50]"
   ]
  },
  {
   "cell_type": "code",
   "execution_count": 301,
   "id": "drawn-globe",
   "metadata": {},
   "outputs": [],
   "source": [
    "# Transforms years from string to integer\n",
    "groupedYearsList = [[int(i[0]), i[1]] for i in groupedYearsList]"
   ]
  },
  {
   "cell_type": "code",
   "execution_count": 302,
   "id": "temporal-button",
   "metadata": {},
   "outputs": [],
   "source": [
    "### Creates a list of five years period, i.e. the list of the first year of each period\n",
    "d_list = []\n",
    "period = 5\n",
    "d_start = 1800\n",
    "d_list.append(d_start)\n",
    "\n",
    "i = 0\n",
    "while i < 35:\n",
    "    d_start = d_start + period\n",
    "    d_list.append(d_start)\n",
    "    i += 1"
   ]
  },
  {
   "cell_type": "code",
   "execution_count": 303,
   "id": "elementary-northwest",
   "metadata": {},
   "outputs": [
    {
     "name": "stdout",
     "output_type": "stream",
     "text": [
      "[1800, 1805]\n"
     ]
    },
    {
     "data": {
      "text/plain": [
       "(1800, 1975)"
      ]
     },
     "execution_count": 303,
     "metadata": {},
     "output_type": "execute_result"
    }
   ],
   "source": [
    "print(d_list[:2])\n",
    "min(d_list), max(d_list)"
   ]
  },
  {
   "cell_type": "code",
   "execution_count": 304,
   "id": "common-textbook",
   "metadata": {},
   "outputs": [
    {
     "data": {
      "image/png": "[encoded data removed]",
      "text/plain": [
       "<Figure size 1152x576 with 1 Axes>"
      ]
     },
     "metadata": {
      "needs_background": "light"
     },
     "output_type": "display_data"
    }
   ],
   "source": [
    "# Distribution per year\n",
    "objects = [l[0] for l in groupedYearsList]\n",
    "eff = [l[1] for l in groupedYearsList]\n",
    "\n",
    "p1 = plt.bar(objects, eff)\n",
    "\n",
    "plt.xticks(d_list)\n",
    "plt.ylabel('Headcount')\n",
    "plt.title('Births per year')\n",
    "plt.gcf().set_size_inches(16, 8)\n",
    "plt.xticks(rotation=45)\n",
    "plt.show()"
   ]
  },
  {
   "cell_type": "code",
   "execution_count": 305,
   "id": "phantom-glenn",
   "metadata": {},
   "outputs": [],
   "source": [
    "# Grouping by five year period\n",
    "i_list = []\n",
    "for i in d_list:\n",
    "    i_n = 0\n",
    "    for l in groupedYearsList:\n",
    "        if l[0] >= i and l[0] < (i + 5):\n",
    "            i_n = i_n + l[1]\n",
    "    i_list.append([i, i_n])        "
   ]
  },
  {
   "cell_type": "code",
   "execution_count": 306,
   "id": "critical-design",
   "metadata": {},
   "outputs": [
    {
     "data": {
      "image/png": "[encoded data removed]",
      "text/plain": [
       "<Figure size 1152x576 with 1 Axes>"
      ]
     },
     "metadata": {
      "needs_background": "light"
     },
     "output_type": "display_data"
    }
   ],
   "source": [
    "# Distribution by 5-year period\n",
    "\n",
    "objects = [str(l[0]) for l in i_list]\n",
    "eff = [l[1] for l in i_list]\n",
    "\n",
    "p1 = plt.bar(objects, eff)\n",
    "\n",
    "plt.ylabel('Headcount')\n",
    "plt.title('Births per five year period')\n",
    "plt.gcf().set_size_inches(16, 8)\n",
    "\n",
    "plt.xticks(rotation=45)\n",
    "plt.show()\n"
   ]
  }
 ],
 "metadata": {
  "kernelspec": {
   "display_name": "Python 3",
   "language": "python",
   "name": "python3"
  },
  "language_info": {
   "codemirror_mode": {
    "name": "ipython",
    "version": 3
   },
   "file_extension": ".py",
   "mimetype": "text/x-python",
   "name": "python",
   "nbconvert_exporter": "python",
   "pygments_lexer": "ipython3",
   "version": "3.7.9"
  }
 },
 "nbformat": 4,
 "nbformat_minor": 5
}
